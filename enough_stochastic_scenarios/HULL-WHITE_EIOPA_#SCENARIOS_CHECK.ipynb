{
 "cells": [
  {
   "cell_type": "markdown",
   "id": "6b04119e",
   "metadata": {},
   "source": [
    "# TERM STRUCTURE COVERAGE USING HULL-WHITE AND EIOPA RISK-FREE CURVE\n",
    "<a id=\"0\"></a> <br>\n",
    "\n",
    "The Hull-White model is a very popular choice when modeling interest rates. The risk-free curve is one of the principal inputs into such economic scenario generator. This notebook has 3 sections. The first section uses the EIOPA RFR calibration to produce the yield curve. In the second section, this yield curve is used to produce a number of stochastic scenarios using a HW model. The last section checks how close is the average interest rate from ESG to the term structure provided as input."
   ]
  },
  {
   "cell_type": "markdown",
   "id": "1fec83f5",
   "metadata": {},
   "source": [
    "### Summary\n",
    "\n",
    "The goal of this script is to demonstrate a check that verifies if the company is using a sufficienty large number of stochastic scenarios. It also verifies if the term structure used to calibrate the ESG is the same as the one implied in the output."
   ]
  },
  {
   "cell_type": "markdown",
   "id": "c3d4aca5",
   "metadata": {},
   "source": [
    "# Table of Contents  \n",
    "1. [Note on Smith & Wilson algorithm](#1)\n",
    "2. [Note on EIOPA RFR curve](#2)\n",
    "3. [Data requirements](#3)\n",
    "4. [External dependencies](#4)\n",
    "5. [Importing data](#5)\n",
    "6. [Calibration parameters and calibration vector provided by EIOPA](#6)\n",
    "7. [Smith & Wilson calculation functions](#7)\n",
    "8. [Hull-White interest rate simulation functions](#8)\n",
    "9. [Comparison between average ESG output and the assumed term structure](#9)"
   ]
  },
  {
   "cell_type": "markdown",
   "id": "91cd8582",
   "metadata": {},
   "source": [
    "<a id=\"1\"></a> <br>\n",
    "## Note on Smith & Wilson algorithm\n",
    "\n",
    "The calculation of RFR rate was first performed in another script that checks the correct calibration of the EIOPA's RFR output. This example uses a modified Smith&Wilson implementation (The original implementation is availible on [GitHub](https://github.com/qnity):\n",
    "-  [Python](https://github.com/qnity/insurance_python/tree/main/smith%26wilson)\n",
    "-  [Matlab](https://github.com/qnity/insurance_matlab/tree/main/smith%26wilson)\n",
    "-  [JavaScript](https://github.com/qnity/insurance_javascript/tree/main/smith-wilson)\n",
    "\n"
   ]
  },
  {
   "cell_type": "markdown",
   "id": "2cbd82c4",
   "metadata": {},
   "source": [
    "<a id=\"2\"></a> <br>\n",
    "## Note on EIOPA RFR curve\n",
    "The recalculation of the RFR curve from EIOPA's parameters is available on:\n",
    "-  [Jupyter notebook](https://github.com/qnity/insurance_jupyter/tree/main/enough_stochastic_scenarios)"
   ]
  },
  {
   "cell_type": "markdown",
   "id": "698030fb",
   "metadata": {},
   "source": [
    "#### Limitations of the implementation\n",
    "This script covers a synthetic dataset of ESG scenarios.It also simplifies the day-count convention with the assumption that each month represents 1/12-th of a year. The discretisation and numeric integration uses the simplest Euler scheme and the rectangular rule respectively."
   ]
  },
  {
   "cell_type": "markdown",
   "id": "07e93aac",
   "metadata": {},
   "source": [
    "<a id=\"3\"></a> <br>\n",
    "## Data requirements\n",
    "\n",
    "This script contains the EIOPA risk-free rate publication for March 2023. The publication can be found on the [EIOPA RFR website](https://www.eiopa.europa.eu/tools-and-data/risk-free-interest-rate-term-structures_en)."
   ]
  },
  {
   "cell_type": "markdown",
   "id": "31d36679",
   "metadata": {},
   "source": [
    "The observed maturities `M_Obs` and the calibrated vector `Qb` can be found in the Excel sheet *EIOPA_RFR_20230331_Qb_SW.xlsx*.\n",
    "\n",
    "For this example, the curve without the volatility adjustment (VA) is used. It can be found in the sheet *SW_Qb_no_VA*. This example is focused on the EUR curve, but this example can be easily modified for any other curve."
   ]
  },
  {
   "cell_type": "markdown",
   "id": "b2f16f4f",
   "metadata": {},
   "source": [
    "The target maturities (`T_Obs`), the additional parameters (`UFR` and `alpha`), and the given curve can be found in the Excel *EIOPA_RFR_20230331_Term_Structures.xlsx*, sheet *RFR_spot_no_VA* if the test looks at the curve without the Volatility Adjustment and the sheet *RFR_spot_with_VA* if the test looks at the curve with the Volatility Adjustment."
   ]
  },
  {
   "cell_type": "markdown",
   "id": "7378ce96",
   "metadata": {},
   "source": [
    "Some made up parameters for the Hull-White model are used:"
   ]
  },
  {
   "cell_type": "code",
   "execution_count": 1,
   "id": "738c22e8",
   "metadata": {},
   "outputs": [],
   "source": [
    "NoOfPaths = 400 # Number of stochastic scenarios\n",
    "NoOfSteps = 100  # Number of equidistand discrete modelling points ( 50*12 = 600)\n",
    "T = 50.0         # time horizon in years\n",
    "lambd = 0.02     # Hull-White parameter lambda\n",
    "sigma = 0.01     # Hull-White volatility parameter sigma\n",
    "epsilon = 0.1    # distance epsilon used to calculate for example the instantaneous spot rate"
   ]
  },
  {
   "cell_type": "markdown",
   "id": "58c4cda4",
   "metadata": {},
   "source": [
    "[Back to the top](#0)\n",
    "<a id=\"4\"></a> <br>\n",
    "         \n",
    "## External dependencies"
   ]
  },
  {
   "cell_type": "code",
   "execution_count": 2,
   "id": "06f5daac",
   "metadata": {},
   "outputs": [],
   "source": [
    "import numpy as np\n",
    "import pandas as pd\n",
    "import matplotlib.pyplot as plt"
   ]
  },
  {
   "cell_type": "markdown",
   "id": "2e3d51a8",
   "metadata": {},
   "source": [
    "[Back to the top](#0)\n",
    "<a id=\"5\"></a> <br>\n",
    "## Importing data"
   ]
  },
  {
   "cell_type": "code",
   "execution_count": 3,
   "id": "2183da18",
   "metadata": {},
   "outputs": [],
   "source": [
    "selected_param_file = 'Param_no_VA.csv'\n",
    "selected_curves_file = 'Curves_no_VA.csv'"
   ]
  },
  {
   "cell_type": "code",
   "execution_count": 4,
   "id": "e435f175",
   "metadata": {},
   "outputs": [],
   "source": [
    "param_raw = pd.read_csv(selected_param_file, sep=',',index_col=0)"
   ]
  },
  {
   "cell_type": "markdown",
   "id": "e899f27a",
   "metadata": {},
   "source": [
    "The country selected is:"
   ]
  },
  {
   "cell_type": "code",
   "execution_count": 5,
   "id": "da95b722",
   "metadata": {},
   "outputs": [],
   "source": [
    "country = \"Italy\""
   ]
  },
  {
   "cell_type": "code",
   "execution_count": 6,
   "id": "e6935c8d",
   "metadata": {},
   "outputs": [],
   "source": [
    "maturities_country_raw = param_raw.loc[:,country+\"_Maturities\"].iloc[6:]\n",
    "param_country_raw = param_raw.loc[:,country + \"_Values\"].iloc[6:]\n",
    "extra_param = param_raw.loc[:,country + \"_Values\"].iloc[:6]"
   ]
  },
  {
   "cell_type": "code",
   "execution_count": 7,
   "id": "3709531b",
   "metadata": {},
   "outputs": [],
   "source": [
    "relevant_positions = pd.notna(maturities_country_raw.values)"
   ]
  },
  {
   "cell_type": "code",
   "execution_count": 8,
   "id": "647ef9b1",
   "metadata": {},
   "outputs": [],
   "source": [
    "maturities_country = maturities_country_raw.iloc[relevant_positions]"
   ]
  },
  {
   "cell_type": "code",
   "execution_count": 9,
   "id": "8b6822f7",
   "metadata": {},
   "outputs": [],
   "source": [
    "Qb = param_country_raw.iloc[relevant_positions]"
   ]
  },
  {
   "cell_type": "code",
   "execution_count": 10,
   "id": "2e549304",
   "metadata": {},
   "outputs": [],
   "source": [
    "curve_raw = pd.read_csv(selected_curves_file, sep=',',index_col=0)"
   ]
  },
  {
   "cell_type": "code",
   "execution_count": 11,
   "id": "26793b8c",
   "metadata": {},
   "outputs": [],
   "source": [
    "curve_country = curve_raw.loc[:,country]"
   ]
  },
  {
   "cell_type": "markdown",
   "id": "7f2511f8",
   "metadata": {},
   "source": [
    "[Back to the top](#0)\n",
    "<a id=\"6\"></a> <br>\n",
    "## Calibration parameters and calibration vector provided by EIOPA"
   ]
  },
  {
   "cell_type": "code",
   "execution_count": 12,
   "id": "0eadd369",
   "metadata": {},
   "outputs": [],
   "source": [
    "# Maturity of observations:\n",
    "M_Obs = np.transpose(np.array(maturities_country.values))\n",
    "\n",
    "# Ultimate froward rate ufr represents the rate to which the rate curve will converge as time increases:\n",
    "ufr = extra_param.iloc[3]/100\n",
    "\n",
    "# Convergence speed parameter alpha controls the speed at which the curve converges towards the ufr from the last liquid point:\n",
    "alpha = extra_param.iloc[4]\n",
    "\n",
    "# For which maturities do we want the SW algorithm to calculate the rates. In this case, for every year up to 150:\n",
    "M_Target = np.transpose(np.arange(1,151)) \n",
    "\n",
    "# Qb calibration vector published by EIOPA for the curve calibration:\n",
    "Qb = np.transpose(np.array(Qb.values))"
   ]
  },
  {
   "cell_type": "markdown",
   "id": "47dfc6f4",
   "metadata": {},
   "source": [
    "[Back to the top](#0)\n",
    "<a id=\"7\"></a> <br>\n",
    "## Smith & Wilson calculation functions\n",
    "\n",
    "In this step, the independent version of the Smith&Wilson algorithm is implemented. To do this, two functions are taken from the publicly available repository and modified to accept the product of `Q*b` instead of the calibration vector `b`."
   ]
  },
  {
   "cell_type": "code",
   "execution_count": 13,
   "id": "c1fc9791",
   "metadata": {},
   "outputs": [],
   "source": [
    "import numpy as np\n",
    "\n",
    "def sw_extrapolate(m_target, m_obs, Qb, ufr, alpha, eps = 0.00001):\n",
    "    \"\"\"Interpolate or extrapolate rates for targeted maturities using a Smith-Wilson algorithm.\n",
    "       sw_extrapolate(m_target, m_obs, Qb, ufr, alpha) calculates the rates for maturities specified in M_Target using the calibration vector b.\n",
    "    Args:\n",
    "        m_target (ndarray): k x 1 array of targeted bond maturities.\n",
    "        m_obs (ndarray): n x 1 array of observed bond maturities used for calibration.\n",
    "        Qb (ndarray): n x 1 array of calibration vector calculated on observed bonds.\n",
    "        ufr (float): Ultimate forward rate.\n",
    "        alpha (float): Convergence speed parameter.\n",
    "        eps (float): Initial increment to calculate the instantaneous spot rate\n",
    "\n",
    "    Returns:\n",
    "        ndarray: k x 1 array of targeted rates for zero-coupon bonds with maturity from m_target.\n",
    "\n",
    "    For more information see https://www.eiopa.europa.eu/sites/default/files/risk_free_interest_rate/12092019-technical_documentation.pdf\n",
    "    \"\"\"\n",
    "    def sw_heart(u, v, alpha):\n",
    "        \"\"\"Calculate the heart of the Wilson function. SWHeart(u, v, alpha) calculates the matrix H (Heart of the Wilson function) for maturities specified by vectors u and v. The formula is taken from the EIOPA technical specifications paragraph 132.\n",
    "\n",
    "        Args:\n",
    "            u (ndarray): n_1 x 1 vector of maturities.\n",
    "            v (ndarray): n_2 x 1 vector of maturities.\n",
    "            alpha (float): Convergence speed parameter.\n",
    "\n",
    "        Returns:\n",
    "            ndarray: n_1 x n_2 matrix representing the Heart of the Wilson function.\n",
    "        \"\"\"\n",
    "        u_mat = np.tile(u, [v.size, 1]).transpose()\n",
    "        v_mat = np.tile(v, [u.size, 1])\n",
    "        return 0.5 * (alpha * (u_mat + v_mat) + np.exp(-alpha * (u_mat + v_mat)) - alpha * np.absolute(u_mat - v_mat) - np.exp(-alpha * np.absolute(u_mat - v_mat)))\n",
    "\n",
    "    h = sw_heart(m_target, m_obs, alpha) # Heart of the Wilson function from paragraph 132\n",
    "    p = np.exp(-np.log(1 + ufr) * m_target) + np.diag(np.exp(-np.log(1 + ufr) * m_target)) @ h @ Qb # Discount pricing function for targeted maturities from paragraph 147\n",
    "\n",
    "    # If the first element of m_target is zero, replace it with time \"epsilon\" to avoid division by zero error.\n",
    "    m_target[0] = eps if m_target[0] == 0 else m_target[0]\n",
    "\n",
    "    return p ** (-1 / m_target) - 1"
   ]
  },
  {
   "cell_type": "markdown",
   "id": "732e8eef",
   "metadata": {},
   "source": [
    "[Back to the top](#0)\n",
    "<a id=\"8\"></a> <br>\n",
    "## Hull-White interest rate simulation functions\n",
    "\n",
    "In this step, the functions that calculate the necessary Hull-White outputs are defined. The calculation of a discounted ZCB bond, calculation of a forward rate, the parameter theta and finally the generation of multiple sample paths."
   ]
  },
  {
   "cell_type": "code",
   "execution_count": 14,
   "id": "212e2d40",
   "metadata": {},
   "outputs": [],
   "source": [
    "def P0T_f(t, M_Obs, Qb,ufr, alpha):\n",
    "    \"\"\"P0T_f function calculates the price of a zero-coupon bond issued at time 0, for a given maturity 't', using the Smith-Wilson extrapolation technique.\n",
    "         Args:\n",
    "            t (float or ndarray): Maturities\n",
    "            m_obs (ndarray): n x 1 array of observed bond maturities used for calibration.\n",
    "            Qb (ndarray): n x 1 array of calibration vector calculated on observed bonds.\n",
    "            ufr (float): Ultimate forward rate.\n",
    "            alpha (float): Convergence speed parameter.\n",
    "        Returns:\n",
    "            ndarray: n x 1 the price of zero coupon bonds   \n",
    "        \n",
    "        Example of use\n",
    "            M_Obs = np.array([1,2,3,5,7,10,15,20,30])\n",
    "            Qb = np.array([0.02474805, 0.02763133, 0.02926931, 0.0302894 , 0.03061605,\n",
    "               0.03068016, 0.03038397, 0.02999401, 0.02926168])\n",
    "            ufr = 0.042\n",
    "            alpha = 0.05        \n",
    "\n",
    "            # For a single maturity\n",
    "            t = 5\n",
    "            price = P0T_f(t, M_Obs, Qb, ufr, alpha)\n",
    "            print(f\"Price of zero-coupon bond with maturity {t} years is: {price}\")\n",
    "\n",
    "            # For multiple maturities\n",
    "            t = [1, 3, 5, 10]\n",
    "            prices = P0T_f(t, M_Obs, Qb, ufr, alpha)\n",
    "            print(\"Prices of zero-coupon bonds with maturities\", t, \"years are:\")\n",
    "            print(prices)\n",
    "\n",
    "    \"\"\"\n",
    "    if isinstance(t, np.ndarray): # If the input is a single maturity given as a nuner\n",
    "        y0T = sw_extrapolate(np.transpose(t),M_Obs, Qb, ufr, alpha)\n",
    "        out = np.exp(-y0T*np.transpose(t)) \n",
    "    else:\n",
    "        y0T = sw_extrapolate(np.transpose([t]),M_Obs, Qb, ufr, alpha)\n",
    "        out = np.exp(-y0T*[t]) \n",
    "    return out"
   ]
  },
  {
   "cell_type": "code",
   "execution_count": 15,
   "id": "591a03e9",
   "metadata": {},
   "outputs": [],
   "source": [
    "def f0T(t, P0T, epsilon):\n",
    "    \"\"\"\n",
    "    Calculates the instantaneous forward rate for time t given the zero-coupon bond price function P0T, using the centered finite difference method.\n",
    "\n",
    "    Args:\n",
    "        t (float): Time at which the instantaneous forward rate is calculated.\n",
    "        P0T (function): A function that takes a float argument `t` and returns the price of a zero-coupon bond with maturity `T`.\n",
    "        epsilon (float): Step size for the centered finite difference method.\n",
    "\n",
    "    Returns:\n",
    "        out (float): The instantaneous forward rate at time t, calculated using the centered finite difference method.\n",
    "    \"\"\"\n",
    "    \n",
    "    p_plus = P0T(t + epsilon)\n",
    "    p_minus = P0T(t - epsilon)\n",
    "    return -(np.log(p_plus) - np.log(p_minus)) / (2 * epsilon)"
   ]
  },
  {
   "cell_type": "code",
   "execution_count": 16,
   "id": "ee0622e6",
   "metadata": {},
   "outputs": [],
   "source": [
    "def HW_theta(lambd, sigma, P0T, epsilon):\n",
    "    \"\"\"\n",
    "    Calculates the theta value for the Hull-White model.\n",
    "\n",
    "    Args:\n",
    "    - lambd (float): the mean reversion rate\n",
    "    - sigma (float): the volatility parameter\n",
    "    - P0T (function): the zero-coupon bond price as a function of time\n",
    "    - epsilon (float): the parameter used for calculating the derivative of P0T\n",
    "    - dt (float, optional): the time step size used for numerical differentiation\n",
    "\n",
    "    Returns:\n",
    "    - theta (function): the theta function for the Hull-White model\n",
    "    \"\"\"\n",
    "    def theta(t):\n",
    "        insta_forward_term = 1.0/lambd *(f0T(t+epsilon, P0T, epsilon) - f0T(t-epsilon, P0T, epsilon))/(2.0*epsilon)\n",
    "        forward_term = f0T(t, P0T, epsilon)\n",
    "        variance_term = sigma*sigma/(2.0*lambd*lambd)*(1.0-np.exp(-2.0*lambd*t))\n",
    "        return insta_forward_term + forward_term + variance_term\n",
    "    return theta"
   ]
  },
  {
   "cell_type": "code",
   "execution_count": 17,
   "id": "4872b0d6",
   "metadata": {},
   "outputs": [],
   "source": [
    "def Paths(NoOfPaths, NoOfSteps, T, P0T, lambd, sigma, epsilon):\n",
    "    \"\"\"\n",
    "    Simulates a series of stochastic interest rate paths using the Hull-White model.\n",
    "\n",
    "    Args:\n",
    "        NoOfPaths (int): The number of paths to simulate.\n",
    "        NoOfSteps (int): The number of time steps per path.\n",
    "        T (float): The maturity of the bond.\n",
    "        P0T (function): A function that returns the bond price at time t=0 for a given maturity T.\n",
    "        lambd (float): The mean reversion speed.\n",
    "        sigma (float): The volatility.\n",
    "        epsilon (float): A small number used for finite difference approximation.\n",
    "\n",
    "    Returns:\n",
    "        dict: A dictionary containing arrays with time steps, interest rate paths, and bond prices.\n",
    "            - time (array): An array of time steps.\n",
    "            - R (array): An array of interest rate paths with shape (NoOfPaths, NoOfSteps+1).\n",
    "            - M (array): An array of bond prices with shape (NoOfPaths, NoOfSteps+1).\n",
    "     \n",
    "     Original inspiration: https://www.youtube.com/watch?v=BIZdwUDbnDo\n",
    "    \"\"\"       \n",
    "    \n",
    "    # Initial forward rate at time t->0\n",
    "    r0 = f0T(epsilon, P0T, epsilon) # r(0) = f(0,0) = - partial derivative of log(P_mkt(0,epsilon) w.r.t epsilon)\n",
    "\n",
    "    # Calculation of theta 1/lambda * partial derivative of f(0,t) w.r.t. t + f(0,t) + sigma^2/(2lambda^2)* (1=exp(-2*lambda*t))\n",
    "    theta = HW_theta(lambd, sigma, P0T, epsilon)\n",
    "\n",
    "    # Generate random noise\n",
    "    Z = np.random.normal(0.0,1.0,[NoOfPaths,NoOfSteps])\n",
    "\n",
    "    # initialize arrays\n",
    "    time = np.linspace(0, T, NoOfSteps+1)\n",
    "    W = np.zeros([NoOfPaths,NoOfSteps+1])\n",
    "    R = np.zeros([NoOfPaths, NoOfSteps+1])\n",
    "    R[:,0] = r0\n",
    "    dt = T/float(NoOfSteps)\n",
    "    \n",
    "    for i in range(1, NoOfSteps+1):\n",
    "        # Making sure the samples from the normal distribution have a mean of 0 and variance 1\n",
    "        if NoOfPaths > 1:\n",
    "            Z[:,i-1] = (Z[:,i-1] - np.mean(Z[:,i-1])) / np.std(Z[:,i-1])\n",
    "        R[:,i] = R[:,i-1] + lambd*(theta(time[i-1]) - R[:,i-1]) * dt + sigma * np.power(dt,0.5)* Z[:,i-1] # Euler discretisation scheme of the differential equation\n",
    "    \n",
    "    # vectorized numeric integration\n",
    "    M = np.exp(0.5 * (R[:, :-1] + R[:, 1:]) * dt) \n",
    "    M = np.insert(M, 0, 1, axis=1).cumprod(axis=1)\n",
    "    \n",
    "    # Outputs\n",
    "    paths = {\"time\":time, \"R\":R, \"M\":M}\n",
    "    return paths"
   ]
  },
  {
   "cell_type": "markdown",
   "id": "577414a1",
   "metadata": {},
   "source": [
    "[Back to the top](#0)\n",
    "<a id=\"9\"></a> <br>\n",
    "## Comparison between average ESG output and the assumed term structure \n",
    "\n",
    "In this final section, the ESG output is generated and visualy compared to the assumed term structure."
   ]
  },
  {
   "cell_type": "code",
   "execution_count": 18,
   "id": "ccd515cd",
   "metadata": {},
   "outputs": [],
   "source": [
    "def mainCalculation(NoOfPaths, NoOfSteps, T, lambd, sigma, P0T, epsilon):\n",
    "    \"\"\"\n",
    "    Calculates and plots the Zero Coupon Bonds (ZCBs) from the Hull-White Model using the analytical formula and the Monte Carlo simulation.\n",
    "    \n",
    "    Args:\n",
    "    - NoOfPaths (int): number of Monte Carlo simulation paths\n",
    "    - NoOfSteps (int): number of time steps per path\n",
    "    - T (float): time to maturity\n",
    "    - lambd (float): mean reversion rate parameter\n",
    "    - sigma (float): volatility parameter\n",
    "    - P0T (function): function for the initial discount bond prices\n",
    "    - epsilon (float): small value to calculate the numerical derivative\n",
    "    \n",
    "    Returns:\n",
    "    - None\n",
    "    \"\"\"\n",
    " \n",
    "    paths = Paths(NoOfPaths, NoOfSteps, T, P0T, lambd, sigma, epsilon)\n",
    "    M = paths[\"M\"]\n",
    "    t = paths[\"time\"]\n",
    "    # Compare the price of an option on a ZCB from Monte Carlo and the analytical expression\n",
    "    P = np.zeros([NoOfSteps+1])\n",
    "    for i in range(0,NoOfSteps+1):\n",
    "        P[i] = np.mean(1.0/M[:,i])\n",
    "    plt.figure(1)\n",
    "    plt.grid()\n",
    "    plt.xlabel(\"T\")\n",
    "    plt.ylabel(\"P(0,T)\")\n",
    "    plt.plot(t,P0T(t))\n",
    "    plt.plot(t,P,\"--r\")\n",
    "    plt.legend([\"P(0,t) market\", \"P(0,t) Monte Carlo\"])\n",
    "    plt.title(\"ZCBs from Hull-White Model\")"
   ]
  },
  {
   "cell_type": "code",
   "execution_count": 20,
   "id": "df0e68ad",
   "metadata": {},
   "outputs": [],
   "source": [
    "# ZCB obtained from the Market\n",
    "P0T = lambda t: P0T_f(t, M_Obs, Qb, ufr, alpha)"
   ]
  },
  {
   "cell_type": "code",
   "execution_count": 21,
   "id": "000e6f24",
   "metadata": {},
   "outputs": [
    {
     "data": {
      "image/png": "[encoded data removed]",
      "text/plain": [
       "<Figure size 432x288 with 1 Axes>"
      ]
     },
     "metadata": {
      "needs_background": "light"
     },
     "output_type": "display_data"
    }
   ],
   "source": [
    "# Final comparison\n",
    "mainCalculation(NoOfPaths, NoOfSteps, T, lambd, sigma, P0T, epsilon)"
   ]
  }
 ],
 "metadata": {
  "kernelspec": {
   "display_name": "Python 3 (ipykernel)",
   "language": "python",
   "name": "python3"
  },
  "language_info": {
   "codemirror_mode": {
    "name": "ipython",
    "version": 3
   },
   "file_extension": ".py",
   "mimetype": "text/x-python",
   "name": "python",
   "nbconvert_exporter": "python",
   "pygments_lexer": "ipython3",
   "version": "3.9.7"
  }
 },
 "nbformat": 4,
 "nbformat_minor": 5
}
