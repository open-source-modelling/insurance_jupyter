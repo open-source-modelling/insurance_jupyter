{
 "cells": [
  {
   "cell_type": "markdown",
   "id": "6b04119e",
   "metadata": {},
   "source": [
    "# TERM STRUCTURE COVERAGE USING HULL-WHITE AND EIOPA RISK-FREE CURVE\n",
    "<a id=\"0\"></a> <br>\n",
    "\n",
    "The Hull-White model is a very popular choice when modeling interest rates. The simulated risk-free curve is one of the principal inputs into such economic scenario generator. This notebook has 3 sections. The first section uses the EIOPA RFR calibration to produce the yield curve. In the second section, this yield curve is used to produce a number of stochastic scenarios using a HW model. The last section checks how close is the average interest rate from ESG to the term structure provided as input."
   ]
  },
  {
   "cell_type": "markdown",
   "id": "1fec83f5",
   "metadata": {},
   "source": [
    "### Summary\n",
    "\n",
    "The goal of this script is to demonstrate a check that verifies if the company is using a sufficienty large number of stochastic scenarios. It also verifies if the term structure used to calibrate the ESG is the same as the one implied in the output."
   ]
  },
  {
   "cell_type": "markdown",
   "id": "c3d4aca5",
   "metadata": {},
   "source": [
    "# Table of Contents  \n",
    "1. [Note on Smith & Wilson algorithm](#1)\n",
    "2. [Note on EIOPA RFR curve](#2)\n",
    "3. [Data requirements](#3)\n",
    "4. [External dependencies](#4)\n",
    "5. [Importing data](#5)\n",
    "6. [Calibration parameters and calibration vector provided by EIOPA](#6)\n",
    "7. [Smith & Wilson calculation functions](#7)\n",
    "8. [Hull-White interest rate simulation functions](#8)\n",
    "9. [Comparison between average ESG output and the assumed term structure](#9)"
   ]
  },
  {
   "cell_type": "markdown",
   "id": "91cd8582",
   "metadata": {},
   "source": [
    "<a id=\"1\"></a> <br>\n",
    "## Note on Smith & Wilson algorithm\n",
    "\n",
    "The calculation of RFR rate was first performed in another script that checks the correct calibration of the EIOPA's RFR output. This example uses a modified Smith&Wilson implementation (The original implementation is availible on [GitHub](https://github.com/open-source-modelling):\n",
    "-  [Python](https://github.com/open-source-modelling/insurance_python/tree/main/smith%26wilson)\n",
    "-  [Matlab](https://github.com/open-source-modelling/insurance_matlab/tree/main/smith%26wilson)\n",
    "-  [JavaScript](https://github.com/open-source-modelling/insurance_javascript/tree/main/smith-wilson)\n"
   ]
  },
  {
   "cell_type": "markdown",
   "id": "2cbd82c4",
   "metadata": {},
   "source": [
    "<a id=\"2\"></a> <br>\n",
    "## Note on EIOPA RFR curve\n",
    "The recalculation of the RFR curve from EIOPA's parameters is available on:\n",
    "-  [Jupyter notebook](https://github.com/qnity/insurance_jupyter/tree/main/enough_stochastic_scenarios)"
   ]
  },
  {
   "cell_type": "markdown",
   "id": "698030fb",
   "metadata": {},
   "source": [
    "#### Limitations of the implementation\n",
    "This script covers a synthetic dataset of ESG scenarios.It also simplifies the day-count convention with the assumption that each month represents 1/12-th of a year. The discretisation and numeric integration uses the simplest Euler scheme and the rectangular rule respectively."
   ]
  },
  {
   "cell_type": "markdown",
   "id": "07e93aac",
   "metadata": {},
   "source": [
    "<a id=\"3\"></a> <br>\n",
    "## Data requirements\n",
    "\n",
    "This script contains the EIOPA risk-free rate publication for March 2023. The publication can be found on the [EIOPA RFR website](https://www.eiopa.europa.eu/tools-and-data/risk-free-interest-rate-term-structures_en)."
   ]
  },
  {
   "cell_type": "markdown",
   "id": "31d36679",
   "metadata": {},
   "source": [
    "The observed maturities `m_obs` and the calibrated vector `Qb` can be found in the Excel sheet *EIOPA_RFR_20230331_Qb_SW.xlsx*.\n",
    "\n",
    "For this example, the curve without the volatility adjustment (VA) is used. It can be found in the sheet *SW_Qb_no_VA*. This example is focused on the EUR curve, but this example can be easily modified for any other curve."
   ]
  },
  {
   "cell_type": "markdown",
   "id": "b2f16f4f",
   "metadata": {},
   "source": [
    "The target maturities (`t_obs`), the additional parameters (`UFR` and `alpha`), and the given curve can be found in the Excel *EIOPA_RFR_20230331_Term_Structures.xlsx*. Sheet *RFR_spot_no_VA* if the test looks at the curve without the Volatility Adjustment and the sheet *RFR_spot_with_VA* if the test looks at the curve with the Volatility Adjustment."
   ]
  },
  {
   "cell_type": "markdown",
   "id": "7378ce96",
   "metadata": {},
   "source": [
    "Some example parameters for the Hull-White model are used:"
   ]
  },
  {
   "cell_type": "code",
   "execution_count": 1,
   "id": "738c22e8",
   "metadata": {},
   "outputs": [],
   "source": [
    "NoOfPaths = 400 # Number of stochastic scenarios\n",
    "NoOfSteps = 100 # Number of equidistand discrete modelling points ( 50*12 = 600)\n",
    "T = 50.0        # Time horizon in years\n",
    "lambd = 0.02    # Hull-White parameter lambda\n",
    "sigma = 0.01    # Hull-White volatility parameter sigma\n",
    "epsilon = 0.1   # Incremental distance used to calculate for numerical approximation\n",
    "                # of for example the instantaneous spot rate"
   ]
  },
  {
   "cell_type": "markdown",
   "id": "e1798e83",
   "metadata": {},
   "source": [
    " "
   ]
  },
  {
   "cell_type": "markdown",
   "id": "6d168914",
   "metadata": {},
   "source": [
    " "
   ]
  },
  {
   "cell_type": "markdown",
   "id": "b6346344",
   "metadata": {},
   "source": [
    " "
   ]
  },
  {
   "cell_type": "markdown",
   "id": "aebaf417",
   "metadata": {},
   "source": [
    " "
   ]
  },
  {
   "cell_type": "markdown",
   "id": "16d52409",
   "metadata": {},
   "source": [
    " "
   ]
  },
  {
   "cell_type": "markdown",
   "id": "f82bede2",
   "metadata": {},
   "source": [
    " "
   ]
  },
  {
   "cell_type": "markdown",
   "id": "e792c287",
   "metadata": {},
   "source": [
    " "
   ]
  },
  {
   "cell_type": "markdown",
   "id": "926e9c50",
   "metadata": {},
   "source": [
    " "
   ]
  },
  {
   "cell_type": "markdown",
   "id": "1d738085",
   "metadata": {},
   "source": [
    " "
   ]
  },
  {
   "cell_type": "markdown",
   "id": "67fe84f9",
   "metadata": {},
   "source": [
    " "
   ]
  },
  {
   "cell_type": "markdown",
   "id": "122e5986",
   "metadata": {},
   "source": [
    " "
   ]
  },
  {
   "cell_type": "markdown",
   "id": "7298077f",
   "metadata": {},
   "source": [
    " "
   ]
  },
  {
   "cell_type": "markdown",
   "id": "5ef721a4",
   "metadata": {},
   "source": [
    " "
   ]
  },
  {
   "cell_type": "markdown",
   "id": "0ef1c628",
   "metadata": {},
   "source": [
    " "
   ]
  },
  {
   "cell_type": "markdown",
   "id": "58c4cda4",
   "metadata": {},
   "source": [
    "[Back to the top](#0)\n",
    "<a id=\"4\"></a> <br>\n",
    "         \n",
    "## External dependencies"
   ]
  },
  {
   "cell_type": "code",
   "execution_count": 2,
   "id": "06f5daac",
   "metadata": {},
   "outputs": [],
   "source": [
    "import numpy as np\n",
    "import pandas as pd\n",
    "import matplotlib.pyplot as plt"
   ]
  },
  {
   "cell_type": "markdown",
   "id": "2e3d51a8",
   "metadata": {},
   "source": [
    "[Back to the top](#0)\n",
    "<a id=\"5\"></a> <br>\n",
    "## Importing data"
   ]
  },
  {
   "cell_type": "code",
   "execution_count": 3,
   "id": "2183da18",
   "metadata": {},
   "outputs": [],
   "source": [
    "selected_param_file = 'Param_no_VA.csv'\n",
    "selected_curves_file = 'Curves_no_VA.csv'"
   ]
  },
  {
   "cell_type": "code",
   "execution_count": 4,
   "id": "e435f175",
   "metadata": {},
   "outputs": [],
   "source": [
    "param_raw = pd.read_csv(selected_param_file, sep=',', index_col=0)"
   ]
  },
  {
   "cell_type": "markdown",
   "id": "e899f27a",
   "metadata": {},
   "source": [
    "The country selected is:"
   ]
  },
  {
   "cell_type": "code",
   "execution_count": 5,
   "id": "da95b722",
   "metadata": {},
   "outputs": [],
   "source": [
    "country = \"Slovenia\""
   ]
  },
  {
   "cell_type": "code",
   "execution_count": 6,
   "id": "e6935c8d",
   "metadata": {},
   "outputs": [],
   "source": [
    "maturities_country_raw = param_raw.loc[:,country+\"_Maturities\"].iloc[6:]\n",
    "param_country_raw = param_raw.loc[:,country + \"_Values\"].iloc[6:]\n",
    "extra_param = param_raw.loc[:,country + \"_Values\"].iloc[:6]"
   ]
  },
  {
   "cell_type": "code",
   "execution_count": 7,
   "id": "3709531b",
   "metadata": {},
   "outputs": [],
   "source": [
    "relevant_positions = pd.notna(maturities_country_raw.values)"
   ]
  },
  {
   "cell_type": "code",
   "execution_count": 8,
   "id": "647ef9b1",
   "metadata": {},
   "outputs": [],
   "source": [
    "maturities_country = maturities_country_raw.iloc[relevant_positions]"
   ]
  },
  {
   "cell_type": "code",
   "execution_count": 9,
   "id": "8b6822f7",
   "metadata": {},
   "outputs": [],
   "source": [
    "Qb = param_country_raw.iloc[relevant_positions]"
   ]
  },
  {
   "cell_type": "code",
   "execution_count": 10,
   "id": "2e549304",
   "metadata": {},
   "outputs": [],
   "source": [
    "curve_raw = pd.read_csv(selected_curves_file, sep=',',index_col=0)"
   ]
  },
  {
   "cell_type": "code",
   "execution_count": 11,
   "id": "26793b8c",
   "metadata": {},
   "outputs": [],
   "source": [
    "curve_country = curve_raw.loc[:,country]"
   ]
  },
  {
   "cell_type": "markdown",
   "id": "b76f503a",
   "metadata": {},
   "source": [
    " "
   ]
  },
  {
   "cell_type": "markdown",
   "id": "22910c29",
   "metadata": {},
   "source": [
    " "
   ]
  },
  {
   "cell_type": "markdown",
   "id": "0249a8a3",
   "metadata": {},
   "source": [
    " "
   ]
  },
  {
   "cell_type": "markdown",
   "id": "4d62102a",
   "metadata": {},
   "source": [
    " "
   ]
  },
  {
   "cell_type": "markdown",
   "id": "17b49387",
   "metadata": {},
   "source": [
    " "
   ]
  },
  {
   "cell_type": "markdown",
   "id": "f4019257",
   "metadata": {},
   "source": [
    " "
   ]
  },
  {
   "cell_type": "markdown",
   "id": "9808a91e",
   "metadata": {},
   "source": [
    " "
   ]
  },
  {
   "cell_type": "markdown",
   "id": "43b83c47",
   "metadata": {},
   "source": [
    " "
   ]
  },
  {
   "cell_type": "markdown",
   "id": "f1bd79cf",
   "metadata": {},
   "source": [
    " "
   ]
  },
  {
   "cell_type": "markdown",
   "id": "ca42bdc5",
   "metadata": {},
   "source": [
    " "
   ]
  },
  {
   "cell_type": "markdown",
   "id": "7b7433bb",
   "metadata": {},
   "source": [
    " "
   ]
  },
  {
   "cell_type": "markdown",
   "id": "7f2511f8",
   "metadata": {},
   "source": [
    "[Back to the top](#0)\n",
    "<a id=\"6\"></a> <br>\n",
    "## Calibration parameters and calibration vector provided by EIOPA"
   ]
  },
  {
   "cell_type": "code",
   "execution_count": 12,
   "id": "0eadd369",
   "metadata": {},
   "outputs": [],
   "source": [
    "# Maturity of observations:\n",
    "m_obs = np.transpose(np.array(maturities_country.values))\n",
    "\n",
    "# Ultimate froward rate ufr represents the rate to which the rate curve will \n",
    "# converge as time increases:\n",
    "ufr = extra_param.iloc[3]/100\n",
    "\n",
    "# Convergence speed parameter alpha controls the speed at which the curve \n",
    "# converges towards the ufr from the last liquid point:\n",
    "alpha = extra_param.iloc[4]\n",
    "\n",
    "# For which maturities do we want the SW algorithm to calculate the rates. \n",
    "# In this case, for every year up to 150:\n",
    "M_Target = np.transpose(np.arange(1,151)) \n",
    "\n",
    "# Qb calibration vector published by EIOPA for the curve calibration:\n",
    "Qb = np.transpose(np.array(Qb.values))"
   ]
  },
  {
   "cell_type": "markdown",
   "id": "47dfc6f4",
   "metadata": {},
   "source": [
    "[Back to the top](#0)\n",
    "<a id=\"7\"></a> <br>\n",
    "## Smith & Wilson calculation functions\n",
    "\n",
    "In this step, an independent version of the Smith&Wilson algorithm is implemented. To do this, two functions are taken from the publicly available repository and modified to accept the product of `Q*b` instead of the calibration vector `b`."
   ]
  },
  {
   "cell_type": "code",
   "execution_count": 13,
   "id": "c1fc9791",
   "metadata": {},
   "outputs": [],
   "source": [
    "def sw_extrapolate(m_target, m_obs, Qb, ufr, alpha, epsilon = 0.00001):\n",
    "    \"\"\"\n",
    "    Interpolate or extrapolate rates for targeted maturities using a \n",
    "    Smith-Wilson algorithm.\n",
    "       sw_extrapolate(m_target, m_obs, Qb, ufr, alpha) calculates the rates for \n",
    "           maturities specified in M_Target using the calibration vector b.\n",
    "    Args:\n",
    "        m_target (ndarray): k x 1 array of targeted bond maturities.\n",
    "        m_obs (ndarray): n x 1 array of observed bond maturities.\n",
    "        Qb (ndarray): n x 1 array. Calibration vector calculated on bonds.\n",
    "        ufr (float): Ultimate forward rate.\n",
    "        alpha (float): Convergence speed parameter.\n",
    "        epsilon (float): Increment to calculate the instantaneous spot rate.\n",
    "\n",
    "    Returns:\n",
    "        ndarray: k x 1 array of targeted rates for zero-coupon bonds with \n",
    "            maturity from m_target.\n",
    "\n",
    "    For more information see \n",
    "    https://www.eiopa.europa.eu/sites/default/files/risk_free_interest_rate\n",
    "        /12092019-technical_documentation.pdf\n",
    "    \"\"\"\n",
    "    \n",
    "    def sw_heart(u, v, alpha):\n",
    "        \"\"\"\n",
    "        Calculate the heart of the Wilson function. sw_heart(u, v, alpha) \n",
    "        calculates the matrix H (Heart of the Wilson function) for maturities \n",
    "        specified by vectors u and v. The formula is taken from the EIOPA technical \n",
    "        specifications paragraph 132.\n",
    "\n",
    "        Args:\n",
    "            u (ndarray): n_1 x 1 vector of maturities.\n",
    "            v (ndarray): n_2 x 1 vector of maturities.\n",
    "            alpha (float): Convergence speed parameter.\n",
    "\n",
    "        Returns:\n",
    "            ndarray: n_1 x n_2 matrix representing the Heart of the Wilson function.\n",
    "        \"\"\"\n",
    "        u_mat = np.tile(u, [v.size, 1]).transpose()\n",
    "        v_mat = np.tile(v, [u.size, 1])\n",
    "        return 0.5 * (alpha * (u_mat + v_mat) + np.exp(-alpha * (u_mat + v_mat)) \n",
    "                      - alpha * np.absolute(u_mat - v_mat) - \n",
    "                      np.exp(-alpha * np.absolute(u_mat - v_mat)))\n",
    "    \n",
    "    # Heart of the Wilson function from paragraph 132\n",
    "    h = sw_heart(m_target, m_obs, alpha) \n",
    "    \n",
    "    # Discount pricing function for targeted maturities from paragraph 147\n",
    "    p = np.exp(-np.log(1 + ufr) * m_target) + np.diag(np.exp(-np.log(1 + ufr) \n",
    "                                                     * m_target)) @ h @ Qb \n",
    "    \n",
    "    # If the first element of m_target is zero, replace it with time \"epsilon\" \n",
    "    # to avoid division by zero error.\n",
    "    m_target[0] = epsilon if m_target[0] == 0 else m_target[0]\n",
    "\n",
    "    return p ** (-1 / m_target) - 1"
   ]
  },
  {
   "cell_type": "markdown",
   "id": "237056a4",
   "metadata": {},
   "source": [
    " "
   ]
  },
  {
   "cell_type": "markdown",
   "id": "75add4e1",
   "metadata": {},
   "source": [
    " "
   ]
  },
  {
   "cell_type": "markdown",
   "id": "66ebad3b",
   "metadata": {},
   "source": [
    " "
   ]
  },
  {
   "cell_type": "markdown",
   "id": "bfb5b275",
   "metadata": {},
   "source": [
    " "
   ]
  },
  {
   "cell_type": "markdown",
   "id": "57cb488b",
   "metadata": {},
   "source": [
    " "
   ]
  },
  {
   "cell_type": "markdown",
   "id": "4db15038",
   "metadata": {},
   "source": [
    " "
   ]
  },
  {
   "cell_type": "markdown",
   "id": "732e8eef",
   "metadata": {},
   "source": [
    "[Back to the top](#0)\n",
    "<a id=\"8\"></a> <br>\n",
    "## Hull-White interest rate simulation functions\n",
    "\n",
    "In this step, the functions that calculate the necessary Hull-White outputs are defined. The calculation of a discounted ZCB bond, calculation of a forward rate, the parameter theta and finally the generation of multiple sample paths.\n",
    "\n",
    "The function P0t_f calculates the price of a zero-coupon bond (ZCB) based on the given yield and maturity.\n",
    "\n",
    "$$ P0t = e^{-y0t *t} $$\n",
    "\n",
    "Where:\n",
    " - `t` is the time of interest expressed as a year fraction (Ex. for 18 months, `t` = 1.5).\n",
    " - `y0t` is the yield obtained by applying the Smith-Wilson calibration to the term structure \n",
    "     for a single payoff at time `t`.\n",
    " -  `P0t` is the price of a zero coupon bond with a notional amount of 1 and maturity at time `t`."
   ]
  },
  {
   "cell_type": "code",
   "execution_count": 14,
   "id": "212e2d40",
   "metadata": {},
   "outputs": [],
   "source": [
    "def P0t_f(t, m_obs, Qb, ufr, alpha):\n",
    "    \"\"\"\n",
    "    P0t_f function calculates the price of a zero-coupon bond issued at time 0, \n",
    "    for a given maturity 't', using the Smith-Wilson extrapolation technique.\n",
    "    Args:\n",
    "        t (float or ndarray): vector (or a single number) of maturities represented \n",
    "            as time fraction (Ex. for 18 months; t=1.5).\n",
    "        m_obs (ndarray): n x 1 array of observed bond maturities used for \n",
    "            calibration.\n",
    "        Qb (ndarray): n x 1 calibration vector of the Smith-Wilson algorithm \n",
    "           calculated on observed bonds.\n",
    "        ufr (float): Ultimate forward rate parameter for the Smith-Wilson algorithm.\n",
    "        alpha (float): Convergence speed parameter for the Smith-Wilson algorithm.\n",
    "    Returns:\n",
    "        ndarray: n x 1 the price of zero-coupon bonds with a notional amount of 1\n",
    "            and maturity t.   \n",
    "        \n",
    "    Example of use\n",
    "        m_obs = np.array([1, 2, 3, 5, 7, 10, 15, 20, 30])\n",
    "        Qb = np.array([0.02474805, 0.02763133, 0.02926931, 0.0302894, 0.03061605,\n",
    "           0.03068016, 0.03038397, 0.02999401, 0.02926168])\n",
    "        ufr = 0.042\n",
    "        alpha = 0.05        \n",
    "\n",
    "        # For a single maturity\n",
    "        t = 5\n",
    "        price = P0t_f(t, m_obs, Qb, ufr, alpha)\n",
    "        print(f\"Price of zero-coupon bond with maturity {t} years is: {price}\")\n",
    "\n",
    "        # For multiple maturities\n",
    "        t = [1, 3, 5, 10]\n",
    "        prices = P0t_f(t, m_obs, Qb, ufr, alpha)\n",
    "        print(\"Prices of zero-coupon bonds with maturities\", t, \"years are:\")\n",
    "        print(prices)\n",
    "\n",
    "    Implemented by Gregor Fabjan from Open-Source Modelling on 29/07/2023\n",
    "    \"\"\"\n",
    "\n",
    "    if isinstance(t, np.ndarray): # If the input is a numpy array\n",
    "        y0t = sw_extrapolate(np.transpose(t), m_obs, Qb, ufr, alpha)\n",
    "        out = np.exp(-y0t*np.transpose(t)) \n",
    "    else:# If the input is a single maturity given as a number\n",
    "        y0t = sw_extrapolate(np.transpose([t]), m_obs, Qb, ufr, alpha)\n",
    "        out = np.exp(-y0t*[t]) \n",
    "    return out"
   ]
  },
  {
   "cell_type": "markdown",
   "id": "a8134f90",
   "metadata": {},
   "source": [
    " "
   ]
  },
  {
   "cell_type": "markdown",
   "id": "500b3874",
   "metadata": {},
   "source": [
    " "
   ]
  },
  {
   "cell_type": "markdown",
   "id": "61ad3ee1",
   "metadata": {},
   "source": [
    " "
   ]
  },
  {
   "cell_type": "markdown",
   "id": "4d2b4a2b",
   "metadata": {},
   "source": [
    " "
   ]
  },
  {
   "cell_type": "markdown",
   "id": "8ac6b55b",
   "metadata": {},
   "source": [
    "The function f0t calculates the instantaneous forward rate at time `t` using a numerical approximation with a step size given by the parameter `epsilon`. The calculation of the instantaneous forward rate relies on the difference between two zero-coupon bond prices. One maturing at time $t +\\epsilon $ and another at time $t - \\epsilon $. \n"
   ]
  },
  {
   "cell_type": "markdown",
   "id": "b03afae4",
   "metadata": {},
   "source": [
    "\n",
    "The centered finite difference method estimates the instantaneous forward rate using the following approximation:\n",
    "\n",
    "$$ f(0,t) \\approx -\\frac{\\log(P(0, t+\\epsilon)) - \\log(P(0, t-\\epsilon)) }{2 \\epsilon}  $$"
   ]
  },
  {
   "cell_type": "code",
   "execution_count": 15,
   "id": "591a03e9",
   "metadata": {},
   "outputs": [],
   "source": [
    "def f0t(t, P0t, epsilon):\n",
    "    \"\"\"\n",
    "    Calculates the instantaneous forward rate for time t given the zero-coupon\n",
    "    bond price function P0t, using the centered finite difference method.\n",
    "\n",
    "    Args:\n",
    "        t (float): Time at which the instantaneous forward rate is calculated.\n",
    "        P0t (function): Function that takes a float argument `t` and \n",
    "            returns the price of a zero-coupon bond with maturity `t` and\n",
    "            notional amount 1.\n",
    "        epsilon (float): Step size for the centered finite difference method.\n",
    "\n",
    "    Returns:\n",
    "        float: The instantaneous forward rate at time t, calculated using the \n",
    "            centered finite difference method.\n",
    "    \"\"\"\n",
    "    \n",
    "    p_plus = P0t(t + epsilon)\n",
    "    p_minus = P0t(t - epsilon)\n",
    "    return -(np.log(p_plus) - np.log(p_minus)) / (2 * epsilon)"
   ]
  },
  {
   "cell_type": "markdown",
   "id": "a47a8498",
   "metadata": {},
   "source": [
    "The function HW_theta calculates the time depened $\\theta$. In this implementation, this parameter is calibrated to the term stucture obtained using the EIOPA RFR. The term structure is specified by the P0t function that is passed as argument.\n",
    "\n",
    "The parameter `theta` is calibrated using the following relation:\n",
    "\n",
    "$$ \\theta(t) =  \\frac{1}{\\lambda} \\frac{\\partial f(0,t)}{\\partial t} + f(0,t) + \\frac{\\sigma^2}{2 \\lambda^2}\\big( 1 - e^{-2 \\lambda t} \\big)    $$\n",
    "\n",
    "Where:\n",
    " - `t` is the time at which we wish to calibrate $\\theta$ to the term structure. (Ex. 18 months means t = 1.5).\n",
    " - $\\lambda$ is the $ \\lambda$ parameter in the Hull-White model.\n",
    " - $\\sigma$ is the volatility parameter $ \\sigma$ of the Hull-White model.\n",
    " - $f(0,t)$ is the instantaneous forward rate at time `t` estimated at time 0.\n",
    " - $\\theta(t)$ is the time dependet parameter $\\theta$ of the Hull-White model."
   ]
  },
  {
   "cell_type": "code",
   "execution_count": 16,
   "id": "ee0622e6",
   "metadata": {},
   "outputs": [],
   "source": [
    "def HW_theta(lambd, sigma, P0t, eps):\n",
    "    \"\"\"\n",
    "    Calculates the theta value for the Hull-White model \n",
    "    using a numeric approximation of the instantaneous forward rate \n",
    "    and the spot rate.\n",
    "\n",
    "    Args:\n",
    "        lambd (float): mean reversion rate parameter lambda.\n",
    "        sigma (float): volatility parameter sigma.\n",
    "        P0t (function handle): function that calculates the price of a\n",
    "            zero-coupon bond as a function of time.\n",
    "        eps (float): increment of time used in the numeric calculation of the \n",
    "            derivative of the instantaneous forward rate.\n",
    "\n",
    "    Returns:\n",
    "        theta (function): function that returns the parameter theta of \n",
    "            Hull-White model at the time t.\n",
    "    \"\"\"\n",
    "    \n",
    "    def theta(t):\n",
    "        insta_forward_term = 1.0/lambd *(f0t(t+eps, P0t, eps) \n",
    "                                         -f0t(t-eps,P0t,eps))/(2.0*eps)\n",
    "                                         \n",
    "        forward_term = f0t(t, P0t, eps)\n",
    "        variance_term = sigma*sigma/(2.0*lambd*lambd)*(1.0-np.exp(-2.0*lambd*t))\n",
    "        return insta_forward_term + forward_term + variance_term\n",
    "    return theta"
   ]
  },
  {
   "cell_type": "code",
   "execution_count": 17,
   "id": "4872b0d6",
   "metadata": {},
   "outputs": [],
   "source": [
    "def Paths(NoOfPaths, NoOfSteps, T, P0t, lambd, sigma, epsilon):\n",
    "    \"\"\"\n",
    "    Simulates a series of stochastic interest rate paths using the Hull-White model.\n",
    "\n",
    "    Args:\n",
    "        NoOfPaths (int): number of paths to simulate.\n",
    "        NoOfSteps (int): number of time steps per path.\n",
    "        T (float): end of the modelling window (in years). \n",
    "            (Ex. a modelling window of 50 years means T=50).\n",
    "        P0t (function): function that calculates the price of a \n",
    "            zero coupon bond issued at time 0 that matures at time t, with a\n",
    "            notional amount 1 and discounted using the assumed term structure.\n",
    "        lambd (float): mean reversion speed parameter lambda of \n",
    "            the Hull-White model.\n",
    "        sigma (float): volatility parameter sigma of the Hull-White model.\n",
    "        epsilon (float): size of the increment used for finite \n",
    "            difference approximation.\n",
    "\n",
    "    Returns:\n",
    "        dict: A dictionary containing arrays with time steps, interest rate paths, \n",
    "            and bond prices.\n",
    "            time (array): array of time steps.\n",
    "            R (array): array of interest rate paths with \n",
    "              shape (NoOfPaths, NoOfSteps+1).\n",
    "            M (array): array of bond prices with \n",
    "              shape (NoOfPaths, NoOfSteps+1).\n",
    "\n",
    "    Implemented by Gregor Fabjan from Open-Source Modelling on 29/07/2023.\n",
    "\n",
    "    Original inspiration: https://www.youtube.com/watch?v=BIZdwUDbnDo\n",
    "    \"\"\"       \n",
    "    \n",
    "    # Initial instantaneous forward rate at time t-> 0 (also spot rate at time 0).\n",
    "    # r(0) = f(0,0) = - partial derivative of log(P_mkt(0, epsilon) w.r.t epsilon)\n",
    "    r0 = f0t(epsilon, P0t, epsilon)\n",
    "    \n",
    "    # Calculation of theta = 1/lambda * partial derivative of f(0,t) w.r.t. t \n",
    "    # + f(0,t) + sigma^2/(2 lambda^2)* (1-exp(-2*lambda*t))\n",
    "    theta = HW_theta(lambd, sigma, P0t, epsilon)\n",
    "    \n",
    "    # Generate the single source of random noise\n",
    "    Z = np.random.normal(0.0, 1.0, [NoOfPaths, NoOfSteps])\n",
    "\n",
    "    # Initialize arrays\n",
    "    \n",
    "    # Vector of time moments. Difference between two time moments is equal \n",
    "    # to the time increment \n",
    "    time = np.linspace(0, T, NoOfSteps+1) \n",
    "    \n",
    "    # Initialize vector with interest rate increments\n",
    "    R = np.zeros([NoOfPaths, NoOfSteps+1]) \n",
    "    \n",
    "    # First interest rate equals the instantaneous forward (spot) \n",
    "    # rate at time 0.\n",
    "    R[:, 0] = r0 \n",
    "    dt = T/float(NoOfSteps) # size of increments between two steps\n",
    "    \n",
    "    for iTime in range(1, NoOfSteps+1): # For each time increment\n",
    "        # Making sure the samples from the normal distribution have a mean of 0 \n",
    "        # and variance 1\n",
    "        if NoOfPaths > 1:\n",
    "            Z[:,iTime-1] = (Z[:,iTime-1]-np.mean(Z[:,iTime-1]))/np.std(Z[:,iTime-1])\n",
    "        # apply the Euler-Maruyama discretisation scheme for the Hull-White model\n",
    "        # at each time increment\n",
    "        noise_term = sigma*np.power(dt,0.5)*Z[:, iTime-1]\n",
    "        rate_term = lambd*(theta(time[iTime-1])-R[:,iTime-1])*dt\n",
    "        R[:,iTime] = R[:,iTime-1] + rate_term + noise_term\n",
    "    \n",
    "    # Vectorized numeric integration using the Euler integration method \n",
    "    M = np.exp(0.5 * (R[:, :-1] + R[:, 1:]) * dt) \n",
    "    M = np.insert(M, 0, 1, axis=1).cumprod(axis=1)\n",
    "    \n",
    "    # Output is a dataframe with time moment, the interest rate path and the price\n",
    "    # of a zero coupon bond issued at time 0 that matures at the selected time \n",
    "    # moment with a notional value of 1\n",
    "    paths = {\"time\":time, \"R\":R, \"M\":M}\n",
    "    return paths"
   ]
  },
  {
   "cell_type": "markdown",
   "id": "577414a1",
   "metadata": {},
   "source": [
    "[Back to the top](#0)\n",
    "<a id=\"9\"></a> <br>\n",
    "## Comparison between average ESG output and the assumed term structure \n",
    "\n",
    "In this final section, the ESG output is generated and visualy compared to the assumed term structure."
   ]
  },
  {
   "cell_type": "code",
   "execution_count": 18,
   "id": "ccd515cd",
   "metadata": {},
   "outputs": [],
   "source": [
    "def mainCalculation(NoOfPaths, NoOfSteps, T, lambd, sigma, P0t, epsilon):\n",
    "    \"\"\"\n",
    "    Calculates and plots the prices of zero-coupon bonds (ZCB) calculated \n",
    "    using the Hull-White model`s analytical formula and the Monte Carlo simulation.\n",
    "    \n",
    "    Args:\n",
    "        NoOfPaths (int): number of Monte Carlo simulation paths.\n",
    "        NoOfSteps (int): number of time steps per path.\n",
    "        T (float): length in years of the modelling window (Ex. 50 years means t=50).\n",
    "        lambd (float): mean reversion rate parameter lambda of the Hull-White model.\n",
    "        sigma (float): volatility parameter sigma of the Hull-White model.\n",
    "        P0t (function): function that calculates the price of a zero coupon bond issued. \n",
    "           at time 0 that matures at time t, with a notional amount 1 and discounted using\n",
    "           the assumed term structure.\n",
    "        epsilon (float): the size of the increment  used for finite difference approximation.\n",
    "    \n",
    "    Returns:\n",
    "        Nothing.\n",
    "    \"\"\"\n",
    " \n",
    "    paths = Paths(NoOfPaths, NoOfSteps, T, P0t, lambd, sigma, epsilon)\n",
    "    M = paths[\"M\"]\n",
    "    t = paths[\"time\"]\n",
    "    \n",
    "    # Compare the price of an option on a ZCB from Monte Carlo and the analytical expression\n",
    "    P = np.zeros([NoOfSteps+1])\n",
    "    for i in range(0, NoOfSteps+1):\n",
    "        P[i] = np.mean(1.0/M[:, i])\n",
    "    plt.figure(1)\n",
    "    plt.grid()\n",
    "    plt.xlabel(\"t\")\n",
    "    plt.ylabel(\"P(0,t)\")\n",
    "    plt.plot(t,P0t(t))\n",
    "    plt.plot(t,P,\"--r\")\n",
    "    plt.legend([\"P(0,t) market\", \"P(0,t) Monte Carlo\"])\n",
    "    plt.title(\"ZCBs from Hull-White model\")"
   ]
  },
  {
   "cell_type": "code",
   "execution_count": 19,
   "id": "df0e68ad",
   "metadata": {},
   "outputs": [],
   "source": [
    "# Zero coupon bond prices calculated using the assumed term structure\n",
    "P0t = lambda t: P0t_f(t, m_obs, Qb, ufr, alpha)"
   ]
  },
  {
   "cell_type": "code",
   "execution_count": 20,
   "id": "000e6f24",
   "metadata": {},
   "outputs": [
    {
     "data": {
      "image/png": "[encoded data removed]",
      "text/plain": [
       "<Figure size 432x288 with 1 Axes>"
      ]
     },
     "metadata": {
      "needs_background": "light"
     },
     "output_type": "display_data"
    }
   ],
   "source": [
    "# Final comparison\n",
    "mainCalculation(NoOfPaths, NoOfSteps, T, lambd, sigma, P0t, epsilon)"
   ]
  }
 ],
 "metadata": {
  "kernelspec": {
   "display_name": "Python 3 (ipykernel)",
   "language": "python",
   "name": "python3"
  },
  "language_info": {
   "codemirror_mode": {
    "name": "ipython",
    "version": 3
   },
   "file_extension": ".py",
   "mimetype": "text/x-python",
   "name": "python",
   "nbconvert_exporter": "python",
   "pygments_lexer": "ipython3",
   "version": "3.9.7"
  }
 },
 "nbformat": 4,
 "nbformat_minor": 5
}
