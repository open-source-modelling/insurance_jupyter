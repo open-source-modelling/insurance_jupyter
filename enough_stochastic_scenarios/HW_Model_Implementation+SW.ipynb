{
 "cells": [
  {
   "cell_type": "code",
   "execution_count": 1,
   "id": "963ece27",
   "metadata": {},
   "outputs": [],
   "source": [
    "import numpy as np\n",
    "import pandas as pd\n",
    "import matplotlib.pyplot as plt"
   ]
  },
  {
   "cell_type": "code",
   "execution_count": 2,
   "id": "2183da18",
   "metadata": {},
   "outputs": [],
   "source": [
    "selected_param_file = 'Param_no_VA.csv'\n",
    "selected_curves_file = 'Curves_no_VA.csv'"
   ]
  },
  {
   "cell_type": "code",
   "execution_count": 3,
   "id": "e435f175",
   "metadata": {},
   "outputs": [],
   "source": [
    "param_raw = pd.read_csv(selected_param_file, sep=',',index_col=0)"
   ]
  },
  {
   "cell_type": "code",
   "execution_count": 4,
   "id": "da95b722",
   "metadata": {},
   "outputs": [],
   "source": [
    "country = \"Italy\""
   ]
  },
  {
   "cell_type": "code",
   "execution_count": 5,
   "id": "e6935c8d",
   "metadata": {},
   "outputs": [],
   "source": [
    "maturities_country_raw = param_raw.loc[:,country+\"_Maturities\"].iloc[6:]\n",
    "param_country_raw = param_raw.loc[:,country + \"_Values\"].iloc[6:]\n",
    "extra_param = param_raw.loc[:,country + \"_Values\"].iloc[:6]"
   ]
  },
  {
   "cell_type": "code",
   "execution_count": 6,
   "id": "3709531b",
   "metadata": {},
   "outputs": [],
   "source": [
    "relevant_positions = pd.notna(maturities_country_raw.values)"
   ]
  },
  {
   "cell_type": "code",
   "execution_count": 7,
   "id": "647ef9b1",
   "metadata": {},
   "outputs": [],
   "source": [
    "maturities_country = maturities_country_raw.iloc[relevant_positions]"
   ]
  },
  {
   "cell_type": "code",
   "execution_count": 8,
   "id": "8b6822f7",
   "metadata": {},
   "outputs": [],
   "source": [
    "Qb = param_country_raw.iloc[relevant_positions]"
   ]
  },
  {
   "cell_type": "code",
   "execution_count": 9,
   "id": "2e549304",
   "metadata": {},
   "outputs": [],
   "source": [
    "curve_raw = pd.read_csv(selected_curves_file, sep=',',index_col=0)"
   ]
  },
  {
   "cell_type": "code",
   "execution_count": 10,
   "id": "26793b8c",
   "metadata": {},
   "outputs": [],
   "source": [
    "curve_country = curve_raw.loc[:,country]"
   ]
  },
  {
   "cell_type": "code",
   "execution_count": 11,
   "id": "0eadd369",
   "metadata": {},
   "outputs": [],
   "source": [
    "# Maturity of observations:\n",
    "M_Obs = np.transpose(np.array(maturities_country.values))\n",
    "\n",
    "# Ultimate froward rate ufr represents the rate to which the rate curve will converge as time increases:\n",
    "ufr = extra_param.iloc[3]/100\n",
    "\n",
    "# Convergence speed parameter alpha controls the speed at which the curve converges towards the ufr from the last liquid point:\n",
    "alpha = extra_param.iloc[4]\n",
    "\n",
    "# For which maturities do we want the SW algorithm to calculate the rates. In this case, for every year up to 150:\n",
    "M_Target = np.transpose(np.arange(1,151)) \n",
    "\n",
    "# Qb calibration vector published by EIOPA for the curve calibration:\n",
    "Qb = np.transpose(np.array(Qb.values))"
   ]
  },
  {
   "cell_type": "code",
   "execution_count": 12,
   "id": "c1fc9791",
   "metadata": {},
   "outputs": [],
   "source": [
    "import numpy as np\n",
    "\n",
    "def sw_extrapolate(m_target, m_obs, Qb, ufr, alpha, eps = 0.00001):\n",
    "    \"\"\"Interpolate or extrapolate rates for targeted maturities using a Smith-Wilson algorithm.\n",
    "       sw_extrapolate(m_target, m_obs, Qb, ufr, alpha) calculates the rates for maturities specified in M_Target using the calibration vector b.\n",
    "    Args:\n",
    "        m_target (ndarray): k x 1 array of targeted bond maturities.\n",
    "        m_obs (ndarray): n x 1 array of observed bond maturities used for calibration.\n",
    "        Qb (ndarray): n x 1 array of calibration vector calculated on observed bonds.\n",
    "        ufr (float): Ultimate forward rate.\n",
    "        alpha (float): Convergence speed parameter.\n",
    "        eps (float): Initial increment to calculate the instantaneous spot rate\n",
    "\n",
    "    Returns:\n",
    "        ndarray: k x 1 array of targeted rates for zero-coupon bonds with maturity from m_target.\n",
    "\n",
    "    For more information see https://www.eiopa.europa.eu/sites/default/files/risk_free_interest_rate/12092019-technical_documentation.pdf\n",
    "    \"\"\"\n",
    "    def sw_heart(u, v, alpha):\n",
    "        \"\"\"Calculate the heart of the Wilson function. SWHeart(u, v, alpha) calculates the matrix H (Heart of the Wilson function) for maturities specified by vectors u and v. The formula is taken from the EIOPA technical specifications paragraph 132.\n",
    "\n",
    "        Args:\n",
    "            u (ndarray): n_1 x 1 vector of maturities.\n",
    "            v (ndarray): n_2 x 1 vector of maturities.\n",
    "            alpha (float): Convergence speed parameter.\n",
    "\n",
    "        Returns:\n",
    "            ndarray: n_1 x n_2 matrix representing the Heart of the Wilson function.\n",
    "        \"\"\"\n",
    "        u_mat = np.tile(u, [v.size, 1]).transpose()\n",
    "        v_mat = np.tile(v, [u.size, 1])\n",
    "        return 0.5 * (alpha * (u_mat + v_mat) + np.exp(-alpha * (u_mat + v_mat)) - alpha * np.absolute(u_mat - v_mat) - np.exp(-alpha * np.absolute(u_mat - v_mat)))\n",
    "\n",
    "    h = sw_heart(m_target, m_obs, alpha) # Heart of the Wilson function from paragraph 132\n",
    "    p = np.exp(-np.log(1 + ufr) * m_target) + np.diag(np.exp(-np.log(1 + ufr) * m_target)) @ h @ Qb # Discount pricing function for targeted maturities from paragraph 147\n",
    "\n",
    "    # If the first element of m_target is zero, replace it with 0.00001 to avoid division by zero error.\n",
    "    m_target[0] = eps if m_target[0] == 0 else m_target[0]\n",
    "\n",
    "    return p ** (-1 / m_target) - 1"
   ]
  },
  {
   "cell_type": "markdown",
   "id": "732e8eef",
   "metadata": {},
   "source": [
    "ToDo"
   ]
  },
  {
   "cell_type": "code",
   "execution_count": 14,
   "id": "4419e1d0",
   "metadata": {},
   "outputs": [],
   "source": [
    "def P0T_f(t, M_Obs,Qb,ufr,alpha):\n",
    "    if isinstance(t, np.ndarray):\n",
    "        y0T = sw_extrapolate(np.transpose(t),M_Obs, Qb, ufr, alpha)\n",
    "        out = np.exp(-y0T*np.transpose(t)) \n",
    "    else:\n",
    "        y0T = sw_extrapolate(np.transpose([t]),M_Obs, Qb, ufr, alpha)\n",
    "        out = np.exp(-y0T*[t]) \n",
    "    return out"
   ]
  },
  {
   "cell_type": "code",
   "execution_count": 15,
   "id": "591a03e9",
   "metadata": {},
   "outputs": [],
   "source": [
    "def f0T(t, P0T, epsilon):\n",
    "    out = - (np.log(P0T(t+epsilon))-np.log(P0T(t-dt)))/(2*epsilon)\n",
    "    return out "
   ]
  },
  {
   "cell_type": "code",
   "execution_count": 16,
   "id": "ee0622e6",
   "metadata": {},
   "outputs": [],
   "source": [
    "def HW_theta(lambd, sigma, P0T, epsilon):\n",
    "    theta = lambda t: 1.0/lambd *(f0T(t+dt, P0T, epsilon)-f0T(t-dt, P0T, epsilon))/(2.0*dt) + f0T(t, P0T, epsilon) + sigma*sigma/(2.0*lambd*lambd)*(1.0-np.exp(-2.0*lambd*t))\n",
    "    return theta"
   ]
  },
  {
   "cell_type": "code",
   "execution_count": 17,
   "id": "4872b0d6",
   "metadata": {},
   "outputs": [],
   "source": [
    "def Paths(NoOfPaths, NoOfSteps, T, P0T, lambd, sigma, epsilon):\n",
    "    # time step needed for differetiation\n",
    "    # Original inspiration: https://www.youtube.com/watch?v=BIZdwUDbnDo\n",
    "    # Initial interest rate is a forward rate at time t->0\n",
    "    r0 = f0T(epsilon, P0T, epsilon) # r(0) = f(0,0) = - partial derivative of log(P_mkt(0,epsilon) w.r.t epsilon)\n",
    "\n",
    "    theta = HW_theta(lambd, sigma, P0T, epsilon)\n",
    "    # above the calculation of theta 1/lambda * partial derivative of f(0,t) w.r.t. t + f(0,t) + sigma^2/(2lambda^2)* (1=exp(-2*lambda*t))\n",
    "\n",
    "    Z = np.random.normal(0.0,1.0,[NoOfPaths,NoOfSteps])\n",
    "    R = np.zeros([NoOfPaths, NoOfSteps+1])\n",
    "    M = np.ones([NoOfPaths, NoOfSteps+1])\n",
    "    R[:,0] = r0\n",
    "    time = np.zeros([NoOfSteps+1])\n",
    "    dt = T/float(NoOfSteps)\n",
    "    \n",
    "    for i in range(0,NoOfSteps):\n",
    "        # Making sure the samples from the normal distribution have a mean of 0 and variance 1\n",
    "        if NoOfPaths > 1:\n",
    "            Z[:,i] = (Z[:,i] - np.mean(Z[:,i])) / np.std(Z[:,i])\n",
    "        R[:,i+1] = R[:,i] + lambd*(theta(time[i]) - R[:,i]) * dt + sigma* np.power(dt,0.5) * Z[:,i] # Euler discretisation scheme of the differential equation\n",
    "        M[:,i+1] = M[:,i] * np.exp((R[:,i+1] + R[:,i])*0.5*dt) # Numeric integration\n",
    "        \n",
    "        time[i+1] = time[i] + dt\n",
    "\n",
    "    # Outputs\n",
    "    paths = {\"time\":time, \"R\":R, \"M\":M}\n",
    "    return paths"
   ]
  },
  {
   "cell_type": "code",
   "execution_count": 18,
   "id": "ccd515cd",
   "metadata": {},
   "outputs": [],
   "source": [
    "def mainCalculation(NoOfPaths, NoOfSteps, T, lambd, sigma, P0T, dt):\n",
    "\n",
    "    paths = Paths(NoOfPaths, NoOfSteps, T, P0T, lambd, sigma, dt)\n",
    "    M = paths[\"M\"]\n",
    "    ti = paths[\"time\"]\n",
    "    # Compare the price of an option on a ZCB from Monte Carlo and the analytical expression\n",
    "    P_tMC = np.zeros([NoOfSteps+1])\n",
    "    for i in range(0,NoOfSteps+1):\n",
    "        P_tMC[i] = np.mean(1.0/M[:,i])\n",
    "    plt.figure(1)\n",
    "    plt.grid()\n",
    "    plt.xlabel(\"T\")\n",
    "    plt.ylabel(\"P(0,T)\")\n",
    "    plt.plot(ti,P0T(ti))\n",
    "    plt.plot(ti,P_tMC,\"--r\")\n",
    "    plt.legend([\"P(0,t) market\", \"P(0,t) Monte Carlo\"])\n",
    "    plt.title(\"ZCBs from Hull-White Model\")"
   ]
  },
  {
   "cell_type": "code",
   "execution_count": 19,
   "id": "df0e68ad",
   "metadata": {},
   "outputs": [
    {
     "data": {
      "image/png": "[encoded data removed]",
      "text/plain": [
       "<Figure size 432x288 with 1 Axes>"
      ]
     },
     "metadata": {
      "needs_background": "light"
     },
     "output_type": "display_data"
    }
   ],
   "source": [
    "NoOfPaths = 1000\n",
    "NoOfSteps = 600\n",
    "T = 50.0 # time horizon in years\n",
    "lambd = 0.2\n",
    "sigma = 0.01\n",
    "dt = 0.5\n",
    "\n",
    "# ZCB obtained from the Market\n",
    "P0T = lambda t: P0T_f(t, M_Obs,Qb, ufr, alpha)\n",
    "\n",
    "mainCalculation(NoOfPaths, NoOfSteps, T, lambd, sigma, P0T, dt)"
   ]
  }
 ],
 "metadata": {
  "kernelspec": {
   "display_name": "Python 3 (ipykernel)",
   "language": "python",
   "name": "python3"
  },
  "language_info": {
   "codemirror_mode": {
    "name": "ipython",
    "version": 3
   },
   "file_extension": ".py",
   "mimetype": "text/x-python",
   "name": "python",
   "nbconvert_exporter": "python",
   "pygments_lexer": "ipython3",
   "version": "3.9.7"
  }
 },
 "nbformat": 4,
 "nbformat_minor": 5
}
