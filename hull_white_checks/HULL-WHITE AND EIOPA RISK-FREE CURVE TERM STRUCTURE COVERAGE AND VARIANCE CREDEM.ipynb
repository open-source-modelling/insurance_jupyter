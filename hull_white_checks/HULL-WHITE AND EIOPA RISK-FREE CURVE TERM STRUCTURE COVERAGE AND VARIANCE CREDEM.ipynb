{
 "cells": [
  {
   "cell_type": "markdown",
   "id": "6b04119e",
   "metadata": {},
   "source": [
    "# HULL-WHITE AND EIOPA RISK-FREE CURVE TERM STRUCTURE COVERAGE AND VARIANCE CHECK\n",
    "<a id=\"0\"></a> <br>\n",
    "\n",
    "The Hull-White model is a very popular choice when modeling interest rates. The simulated risk-free curve is one of the principal inputs into such economic scenario generator. This notebook has 4 sections. The first section uses the EIOPA RFR calibration to produce the yield curve. In the second section, this yield curve is used to produce a number of stochastic scenarios using a HW model. The third section checks how close is the average interest rate from ESG to the term structure provided as input. The final section calculates the closed form variance and compares it to the simulated variance.\n",
    "There are two forms used in the literature. The Hull-White model used in this script describes the short rate using the following diferential equation:\n",
    "\n",
    "$$ dr(t) = \\big( \\theta(t) - a r(t) \\big) dt + \\sigma dW(t) $$\n",
    "\n",
    "Where:\n",
    " - t is time.\n",
    " - r(t) is the short rate at time t.\n",
    " - $\\theta$ is the time-dependent parameter theta.\n",
    " - a is the mean reversion speed parameter of the Hull-White model.\n",
    " - $\\sigma$ is the volatility parameter of the Hull-White mode.\n",
    " - $W(t)$ is the Brownian motion.\n"
   ]
  },
  {
   "cell_type": "markdown",
   "id": "1fec83f5",
   "metadata": {},
   "source": [
    "### Summary\n",
    "\n",
    "The goal of this script is to implement two checks: \n",
    " - Verifies if the company is using a sufficienty large number of stochastic scenarios to aquaretly cover the term structure. \n",
    " - Verifies if the parameters used in the simulation are correct by comparing the closed-form calculated volatility with the volatility of the actual simulation."
   ]
  },
  {
   "cell_type": "markdown",
   "id": "c3d4aca5",
   "metadata": {},
   "source": [
    "# Table of Contents  \n",
    "1. [Note on Smith & Wilson algorithm](#1)\n",
    "2. [Note on EIOPA RFR curve](#2)\n",
    "3. [Data requirements](#3)\n",
    "4. [External dependencies](#4)\n",
    "5. [Importing data](#5)\n",
    "6. [Calibration parameters and calibration vector provided by EIOPA](#6)\n",
    "7. [Smith & Wilson calculation functions](#7)\n",
    "8. [Hull-White interest rate simulation functions](#8)\n",
    "9. [Comparison between average ESG output and the assumed term structure](#9)\n",
    "10. [Comparison between simulated an calculated volatility](#10)"
   ]
  },
  {
   "cell_type": "markdown",
   "id": "91cd8582",
   "metadata": {},
   "source": [
    "<a id=\"1\"></a> <br>\n",
    "## Note on Smith & Wilson algorithm\n",
    "\n",
    "The calculation of RFR rate was first performed in another script that checks the correct calibration of the EIOPA's RFR output. This example uses a modified Smith&Wilson implementation (The original implementation is availible on [GitHub](https://github.com/open-source-modelling):\n",
    "-  [Python](https://github.com/open-source-modelling/insurance_python/tree/main/smith%26wilson)\n",
    "-  [Matlab](https://github.com/open-source-modelling/insurance_matlab/tree/main/smith%26wilson)\n",
    "-  [JavaScript](https://github.com/open-source-modelling/insurance_javascript/tree/main/smith-wilson)\n"
   ]
  },
  {
   "cell_type": "markdown",
   "id": "2cbd82c4",
   "metadata": {},
   "source": [
    "<a id=\"2\"></a> <br>\n",
    "## Note on EIOPA RFR curve\n",
    "The recalculation of the RFR curve from EIOPA's parameters is available on:\n",
    "-  [Jupyter notebook](https://github.com/qnity/insurance_jupyter/tree/main/enough_stochastic_scenarios)"
   ]
  },
  {
   "cell_type": "markdown",
   "id": "698030fb",
   "metadata": {},
   "source": [
    "#### Limitations of the implementation\n",
    "This script covers a synthetic dataset of ESG scenarios.It also simplifies the day-count convention with the assumption that each month represents 1/12-th of a year. The discretisation and numeric integration uses the simplest Euler scheme and the rectangular rule respectively."
   ]
  },
  {
   "cell_type": "markdown",
   "id": "07e93aac",
   "metadata": {},
   "source": [
    "<a id=\"3\"></a> <br>\n",
    "## Data requirements\n",
    "\n",
    "This script contains the EIOPA risk-free rate publication for March 2023. The publication can be found on the [EIOPA RFR website](https://www.eiopa.europa.eu/tools-and-data/risk-free-interest-rate-term-structures_en)."
   ]
  },
  {
   "cell_type": "markdown",
   "id": "31d36679",
   "metadata": {},
   "source": [
    "The observed maturities `m_obs` and the calibrated vector `Qb` can be found in the Excel sheet *EIOPA_RFR_20230331_Qb_SW.xlsx*.\n",
    "\n",
    "For this example, the curve without the volatility adjustment (VA) is used. It can be found in the sheet *SW_Qb_no_VA*. This example is focused on the EUR curve, but this example can be easily modified for any other curve."
   ]
  },
  {
   "cell_type": "markdown",
   "id": "b2f16f4f",
   "metadata": {},
   "source": [
    "The target maturities (`t_obs`), the additional parameters (`UFR` and `alpha`), and the given curve can be found in the Excel *EIOPA_RFR_20230331_Term_Structures.xlsx*. Sheet *RFR_spot_no_VA* if the test looks at the curve without the Volatility Adjustment and the sheet *RFR_spot_with_VA* if the test looks at the curve with the Volatility Adjustment."
   ]
  },
  {
   "cell_type": "markdown",
   "id": "7378ce96",
   "metadata": {},
   "source": [
    "Some example parameters for the Hull-White model are used:"
   ]
  },
  {
   "cell_type": "code",
   "execution_count": 50,
   "id": "738c22e8",
   "metadata": {},
   "outputs": [],
   "source": [
    "NoOfPaths = 1000 # Number of stochastic scenarios\n",
    "NoOfSteps = 360 # Number of equidistand discrete modelling points ( 50*12 = 600)\n",
    "T = 30.0        # Time horizon in years\n",
    "a = 0.0578        # Hull-White mean reversion parameter a\n",
    "sigma = 0.0179    # Hull-White volatility parameter sigma\n",
    "epsilon = 0.01  # Incremental distance used to calculate for numerical approximation\n",
    "                # of for example the instantaneous spot rate"
   ]
  },
  {
   "cell_type": "markdown",
   "id": "e1798e83",
   "metadata": {},
   "source": [
    " "
   ]
  },
  {
   "cell_type": "markdown",
   "id": "6d168914",
   "metadata": {},
   "source": [
    " "
   ]
  },
  {
   "cell_type": "markdown",
   "id": "b6346344",
   "metadata": {},
   "source": [
    " "
   ]
  },
  {
   "cell_type": "markdown",
   "id": "aebaf417",
   "metadata": {},
   "source": [
    " "
   ]
  },
  {
   "cell_type": "markdown",
   "id": "16d52409",
   "metadata": {},
   "source": [
    " "
   ]
  },
  {
   "cell_type": "markdown",
   "id": "f82bede2",
   "metadata": {},
   "source": [
    " "
   ]
  },
  {
   "cell_type": "markdown",
   "id": "e792c287",
   "metadata": {},
   "source": [
    " "
   ]
  },
  {
   "cell_type": "markdown",
   "id": "926e9c50",
   "metadata": {},
   "source": [
    " "
   ]
  },
  {
   "cell_type": "markdown",
   "id": "1d738085",
   "metadata": {},
   "source": [
    " "
   ]
  },
  {
   "cell_type": "markdown",
   "id": "67fe84f9",
   "metadata": {},
   "source": [
    " "
   ]
  },
  {
   "cell_type": "markdown",
   "id": "122e5986",
   "metadata": {},
   "source": [
    " "
   ]
  },
  {
   "cell_type": "markdown",
   "id": "7298077f",
   "metadata": {},
   "source": [
    " "
   ]
  },
  {
   "cell_type": "markdown",
   "id": "5ef721a4",
   "metadata": {},
   "source": [
    " "
   ]
  },
  {
   "cell_type": "markdown",
   "id": "0ef1c628",
   "metadata": {},
   "source": [
    " "
   ]
  },
  {
   "cell_type": "markdown",
   "id": "58c4cda4",
   "metadata": {},
   "source": [
    "[Back to the top](#0)\n",
    "<a id=\"4\"></a> <br>\n",
    "         \n",
    "## External dependencies"
   ]
  },
  {
   "cell_type": "code",
   "execution_count": 51,
   "id": "06f5daac",
   "metadata": {},
   "outputs": [],
   "source": [
    "import pandas as pd\n",
    "import numpy as np\n",
    "import matplotlib.pyplot as plt\n",
    "import matplotlib.ticker as mtick\n",
    "%matplotlib inline"
   ]
  },
  {
   "cell_type": "markdown",
   "id": "2e3d51a8",
   "metadata": {},
   "source": [
    "[Back to the top](#0)\n",
    "<a id=\"5\"></a> <br>\n",
    "## Importing data"
   ]
  },
  {
   "cell_type": "code",
   "execution_count": 52,
   "id": "2183da18",
   "metadata": {},
   "outputs": [],
   "source": [
    "selected_param_file = 'Param_no_VA.csv'\n",
    "selected_curves_file = 'Curves_no_VA.csv'"
   ]
  },
  {
   "cell_type": "code",
   "execution_count": 53,
   "id": "e435f175",
   "metadata": {},
   "outputs": [],
   "source": [
    "param_raw = pd.read_csv(selected_param_file, sep=',', index_col=0)"
   ]
  },
  {
   "cell_type": "markdown",
   "id": "e899f27a",
   "metadata": {},
   "source": [
    "The country selected is:"
   ]
  },
  {
   "cell_type": "code",
   "execution_count": 54,
   "id": "da95b722",
   "metadata": {},
   "outputs": [],
   "source": [
    "country = \"Italy\""
   ]
  },
  {
   "cell_type": "code",
   "execution_count": 55,
   "id": "e6935c8d",
   "metadata": {},
   "outputs": [],
   "source": [
    "maturities_country_raw = param_raw.loc[:,country+\"_Maturities\"].iloc[6:]\n",
    "param_country_raw = param_raw.loc[:,country + \"_Values\"].iloc[6:]\n",
    "extra_param = param_raw.loc[:,country + \"_Values\"].iloc[:6]"
   ]
  },
  {
   "cell_type": "code",
   "execution_count": 56,
   "id": "3709531b",
   "metadata": {},
   "outputs": [],
   "source": [
    "relevant_positions = pd.notna(maturities_country_raw.values)"
   ]
  },
  {
   "cell_type": "code",
   "execution_count": 57,
   "id": "647ef9b1",
   "metadata": {},
   "outputs": [],
   "source": [
    "maturities_country = maturities_country_raw.iloc[relevant_positions]"
   ]
  },
  {
   "cell_type": "code",
   "execution_count": 58,
   "id": "8b6822f7",
   "metadata": {},
   "outputs": [],
   "source": [
    "Qb = param_country_raw.iloc[relevant_positions]"
   ]
  },
  {
   "cell_type": "code",
   "execution_count": 59,
   "id": "2e549304",
   "metadata": {},
   "outputs": [],
   "source": [
    "curve_raw = pd.read_csv(selected_curves_file, sep=',',index_col=0)"
   ]
  },
  {
   "cell_type": "code",
   "execution_count": 60,
   "id": "26793b8c",
   "metadata": {},
   "outputs": [],
   "source": [
    "curve_country = curve_raw.loc[:,country]"
   ]
  },
  {
   "cell_type": "markdown",
   "id": "b76f503a",
   "metadata": {},
   "source": [
    " "
   ]
  },
  {
   "cell_type": "markdown",
   "id": "22910c29",
   "metadata": {},
   "source": [
    " "
   ]
  },
  {
   "cell_type": "markdown",
   "id": "0249a8a3",
   "metadata": {},
   "source": [
    " "
   ]
  },
  {
   "cell_type": "markdown",
   "id": "4d62102a",
   "metadata": {},
   "source": [
    " "
   ]
  },
  {
   "cell_type": "markdown",
   "id": "17b49387",
   "metadata": {},
   "source": [
    " "
   ]
  },
  {
   "cell_type": "markdown",
   "id": "f4019257",
   "metadata": {},
   "source": [
    " "
   ]
  },
  {
   "cell_type": "markdown",
   "id": "9808a91e",
   "metadata": {},
   "source": [
    " "
   ]
  },
  {
   "cell_type": "markdown",
   "id": "43b83c47",
   "metadata": {},
   "source": [
    " "
   ]
  },
  {
   "cell_type": "markdown",
   "id": "f1bd79cf",
   "metadata": {},
   "source": [
    " "
   ]
  },
  {
   "cell_type": "markdown",
   "id": "ca42bdc5",
   "metadata": {},
   "source": [
    " "
   ]
  },
  {
   "cell_type": "markdown",
   "id": "7b7433bb",
   "metadata": {},
   "source": [
    " "
   ]
  },
  {
   "cell_type": "markdown",
   "id": "7f2511f8",
   "metadata": {},
   "source": [
    "[Back to the top](#0)\n",
    "<a id=\"6\"></a> <br>\n",
    "## Calibration parameters and calibration vector provided by EIOPA"
   ]
  },
  {
   "cell_type": "code",
   "execution_count": 61,
   "id": "0eadd369",
   "metadata": {},
   "outputs": [],
   "source": [
    "# Maturity of observations:\n",
    "m_obs = np.transpose(np.array(maturities_country.values))\n",
    "\n",
    "# Ultimate froward rate ufr represents the rate to which the rate curve will \n",
    "# converge as time increases:\n",
    "ufr = extra_param.iloc[3]/100\n",
    "\n",
    "# Convergence speed parameter alpha controls the speed at which the curve \n",
    "# converges towards the ufr from the last liquid point:\n",
    "alpha = extra_param.iloc[4]\n",
    "\n",
    "# For which maturities do we want the SW algorithm to calculate the rates. \n",
    "# In this case, for every year up to 150:\n",
    "M_Target = np.transpose(np.arange(1,151)) \n",
    "\n",
    "# Qb calibration vector published by EIOPA for the curve calibration:\n",
    "Qb = np.transpose(np.array(Qb.values))"
   ]
  },
  {
   "cell_type": "markdown",
   "id": "47dfc6f4",
   "metadata": {},
   "source": [
    "[Back to the top](#0)\n",
    "<a id=\"7\"></a> <br>\n",
    "## Smith & Wilson calculation functions\n",
    "\n",
    "In this step, an independent version of the Smith&Wilson algorithm is implemented. To do this, two functions are taken from the publicly available repository and modified to accept the product of `Q*b` instead of the calibration vector `b`."
   ]
  },
  {
   "cell_type": "code",
   "execution_count": 62,
   "id": "c1fc9791",
   "metadata": {},
   "outputs": [],
   "source": [
    "def sw_extrapolate(m_target, m_obs, Qb, ufr, alpha, epsilon = 0.00001):\n",
    "    \"\"\"\n",
    "    Interpolate or extrapolate rates for targeted maturities using a \n",
    "    Smith-Wilson algorithm.\n",
    "       sw_extrapolate(m_target, m_obs, Qb, ufr, alpha) calculates the rates for \n",
    "           maturities specified in M_Target using the calibration vector b.\n",
    "    Args:\n",
    "        m_target (ndarray): k x 1 array of targeted bond maturities.\n",
    "        m_obs (ndarray): n x 1 array of observed bond maturities.\n",
    "        Qb (ndarray): n x 1 array. Calibration vector calculated on bonds.\n",
    "        ufr (float): Ultimate forward rate.\n",
    "        alpha (float): Convergence speed parameter.\n",
    "        epsilon (float): Increment to calculate the instantaneous spot rate.\n",
    "\n",
    "    Returns:\n",
    "        ndarray: k x 1 array of targeted rates for zero-coupon bonds with \n",
    "            maturity from m_target.\n",
    "\n",
    "    For more information see \n",
    "    https://www.eiopa.europa.eu/sites/default/files/risk_free_interest_rate\n",
    "        /12092019-technical_documentation.pdf\n",
    "    \"\"\"\n",
    "    \n",
    "    def sw_heart(u, v, alpha):\n",
    "        \"\"\"\n",
    "        Calculate the heart of the Wilson function. sw_heart(u, v, alpha) \n",
    "        calculates the matrix H (Heart of the Wilson function) for maturities \n",
    "        specified by vectors u and v. The formula is taken from the EIOPA technical \n",
    "        specifications paragraph 132.\n",
    "\n",
    "        Args:\n",
    "            u (ndarray): n_1 x 1 vector of maturities.\n",
    "            v (ndarray): n_2 x 1 vector of maturities.\n",
    "            alpha (float): Convergence speed parameter.\n",
    "\n",
    "        Returns:\n",
    "            ndarray: n_1 x n_2 matrix representing the Heart of the Wilson function.\n",
    "        \"\"\"\n",
    "        u_mat = np.tile(u, [v.size, 1]).transpose()\n",
    "        v_mat = np.tile(v, [u.size, 1])\n",
    "        return 0.5 * (alpha * (u_mat + v_mat) + np.exp(-alpha * (u_mat + v_mat)) \n",
    "                      - alpha * np.absolute(u_mat - v_mat) - \n",
    "                      np.exp(-alpha * np.absolute(u_mat - v_mat)))\n",
    "    \n",
    "    # Heart of the Wilson function from paragraph 132\n",
    "    h = sw_heart(m_target, m_obs, alpha) \n",
    "    \n",
    "    # Discount pricing function for targeted maturities from paragraph 147\n",
    "    p = np.exp(-np.log(1 + ufr) * m_target) + np.diag(np.exp(-np.log(1 + ufr) \n",
    "                                                     * m_target)) @ h @ Qb \n",
    "    \n",
    "    # If the first element of m_target is zero, replace it with time \"epsilon\" \n",
    "    # to avoid division by zero error.\n",
    "    m_target[0] = epsilon if m_target[0] == 0 else m_target[0]\n",
    "\n",
    "    return p ** (-1 / m_target) - 1"
   ]
  },
  {
   "cell_type": "markdown",
   "id": "366eb249",
   "metadata": {},
   "source": [
    "## Import stochastic scenario data"
   ]
  },
  {
   "cell_type": "code",
   "execution_count": 63,
   "id": "40f84259",
   "metadata": {},
   "outputs": [],
   "source": [
    "file_det = 'PROPHETDATA.AVG-RFR_spot_with_VA.csv'\n",
    "file_stoch = 'PROPHETDATA-RFR_spot_with_VA.csv'"
   ]
  },
  {
   "cell_type": "code",
   "execution_count": 64,
   "id": "aa2ca457",
   "metadata": {},
   "outputs": [],
   "source": [
    "data_det_raw = pd.read_csv(file_det, sep=',',index_col=4)"
   ]
  },
  {
   "cell_type": "code",
   "execution_count": 65,
   "id": "5d0b74af",
   "metadata": {},
   "outputs": [],
   "source": [
    "data_stoch_raw = pd.read_csv(file_stoch, sep=',',index_col=4)"
   ]
  },
  {
   "cell_type": "code",
   "execution_count": 66,
   "id": "fde16473",
   "metadata": {},
   "outputs": [],
   "source": [
    "def FilterScenarioFile(data, myeconomy, myclass, myterm, myvariable):\n",
    "    economyrow = data.iloc[1,:]\n",
    "    classrow = data.iloc[2,:]\n",
    "    termrow = data.iloc[3,:]\n",
    "    true_variable = data.iloc[0,:].index == myvariable\n",
    "    true_economy = economyrow.eq(myeconomy, level=None)\n",
    "    true_term = termrow.eq(myterm, level=None)\n",
    "    true_class = classrow.eq(myclass, level=None)\n",
    "    out = true_variable * true_term * true_economy * true_class\n",
    "    out = out.tolist()\n",
    "    return out"
   ]
  },
  {
   "cell_type": "code",
   "execution_count": 67,
   "id": "4aee79d3",
   "metadata": {},
   "outputs": [],
   "source": [
    "currency = \"EUR\""
   ]
  },
  {
   "cell_type": "code",
   "execution_count": 68,
   "id": "438f0688",
   "metadata": {},
   "outputs": [],
   "source": [
    "deflator_variable = \"DEF\"\n",
    "deflator_economy  = currency\n",
    "deflator_class    = \"VALN\"\n",
    "delflator_term    = 0"
   ]
  },
  {
   "cell_type": "code",
   "execution_count": 69,
   "id": "887b7303",
   "metadata": {},
   "outputs": [],
   "source": [
    "spot_variable = \"SPOT_RATE_PC\"\n",
    "spot_economy  = currency\n",
    "spot_class    = \"ZCB\""
   ]
  },
  {
   "cell_type": "code",
   "execution_count": 70,
   "id": "3af56bf0",
   "metadata": {},
   "outputs": [],
   "source": [
    "index_variable = \"GTH_IDX\"\n",
    "index_economy  = currency\n",
    "index_class    = currency\n",
    "index_term     = 0"
   ]
  },
  {
   "cell_type": "code",
   "execution_count": 71,
   "id": "6d1277de",
   "metadata": {},
   "outputs": [],
   "source": [
    "data_det_raw = data_det_raw.iloc[:, 1:]"
   ]
  },
  {
   "cell_type": "code",
   "execution_count": 72,
   "id": "5d40ae19",
   "metadata": {},
   "outputs": [],
   "source": [
    "data_headers_det = data_det_raw.iloc[:, :4].transpose()"
   ]
  },
  {
   "cell_type": "code",
   "execution_count": 73,
   "id": "2b11d799",
   "metadata": {},
   "outputs": [],
   "source": [
    "data_det = data_det_raw.iloc[:, 4:]"
   ]
  },
  {
   "cell_type": "code",
   "execution_count": 74,
   "id": "f5f4f7ee",
   "metadata": {},
   "outputs": [],
   "source": [
    "data_det = data_det.transpose()"
   ]
  },
  {
   "cell_type": "code",
   "execution_count": 75,
   "id": "2becf605",
   "metadata": {},
   "outputs": [
    {
     "data": {
      "text/html": [
       "<div>\n",
       "<style scoped>\n",
       "    .dataframe tbody tr th:only-of-type {\n",
       "        vertical-align: middle;\n",
       "    }\n",
       "\n",
       "    .dataframe tbody tr th {\n",
       "        vertical-align: top;\n",
       "    }\n",
       "\n",
       "    .dataframe thead th {\n",
       "        text-align: right;\n",
       "    }\n",
       "</style>\n",
       "<table border=\"1\" class=\"dataframe\">\n",
       "  <thead>\n",
       "    <tr style=\"text-align: right;\">\n",
       "      <th>Variable_Name</th>\n",
       "      <th>DEF</th>\n",
       "      <th>SPOT_RATE_PC</th>\n",
       "      <th>SPOT_RATE_PC</th>\n",
       "      <th>SPOT_RATE_PC</th>\n",
       "      <th>SPOT_RATE_PC</th>\n",
       "      <th>SPOT_RATE_PC</th>\n",
       "      <th>SPOT_RATE_PC</th>\n",
       "      <th>SPOT_RATE_PC</th>\n",
       "      <th>SPOT_RATE_PC</th>\n",
       "      <th>SPOT_RATE_PC</th>\n",
       "      <th>...</th>\n",
       "      <th>SPOT_RATE_PC</th>\n",
       "      <th>SPOT_RATE_PC</th>\n",
       "      <th>SPOT_RATE_PC</th>\n",
       "      <th>SPOT_RATE_PC</th>\n",
       "      <th>INFLN_IDX</th>\n",
       "      <th>INFLN_IDX</th>\n",
       "      <th>RNY_PC</th>\n",
       "      <th>GTH_IDX</th>\n",
       "      <th>RNY_PC</th>\n",
       "      <th>GTH_IDX</th>\n",
       "    </tr>\n",
       "  </thead>\n",
       "  <tbody>\n",
       "    <tr>\n",
       "      <th>SCENARIO</th>\n",
       "      <td>1</td>\n",
       "      <td>1</td>\n",
       "      <td>1</td>\n",
       "      <td>1</td>\n",
       "      <td>1</td>\n",
       "      <td>1</td>\n",
       "      <td>1</td>\n",
       "      <td>1</td>\n",
       "      <td>1</td>\n",
       "      <td>1</td>\n",
       "      <td>...</td>\n",
       "      <td>1</td>\n",
       "      <td>1</td>\n",
       "      <td>1</td>\n",
       "      <td>1</td>\n",
       "      <td>1</td>\n",
       "      <td>1</td>\n",
       "      <td>1</td>\n",
       "      <td>1</td>\n",
       "      <td>1</td>\n",
       "      <td>1</td>\n",
       "    </tr>\n",
       "    <tr>\n",
       "      <th>ECONOMY</th>\n",
       "      <td>EUR</td>\n",
       "      <td>EUR</td>\n",
       "      <td>EUR</td>\n",
       "      <td>EUR</td>\n",
       "      <td>EUR</td>\n",
       "      <td>EUR</td>\n",
       "      <td>EUR</td>\n",
       "      <td>EUR</td>\n",
       "      <td>EUR</td>\n",
       "      <td>EUR</td>\n",
       "      <td>...</td>\n",
       "      <td>USD</td>\n",
       "      <td>USD</td>\n",
       "      <td>USD</td>\n",
       "      <td>USD</td>\n",
       "      <td>EUR</td>\n",
       "      <td>USD</td>\n",
       "      <td>EUR</td>\n",
       "      <td>EUR</td>\n",
       "      <td>USD</td>\n",
       "      <td>USD</td>\n",
       "    </tr>\n",
       "    <tr>\n",
       "      <th>CLASS</th>\n",
       "      <td>VALN</td>\n",
       "      <td>ZCB</td>\n",
       "      <td>ZCB</td>\n",
       "      <td>ZCB</td>\n",
       "      <td>ZCB</td>\n",
       "      <td>ZCB</td>\n",
       "      <td>ZCB</td>\n",
       "      <td>ZCB</td>\n",
       "      <td>ZCB</td>\n",
       "      <td>ZCB</td>\n",
       "      <td>...</td>\n",
       "      <td>ZCB</td>\n",
       "      <td>ZCB</td>\n",
       "      <td>ZCB</td>\n",
       "      <td>ZCB</td>\n",
       "      <td>INFLN</td>\n",
       "      <td>INFLN</td>\n",
       "      <td>PROPT</td>\n",
       "      <td>PROPT</td>\n",
       "      <td>PROPT_USD</td>\n",
       "      <td>PROPT_USD</td>\n",
       "    </tr>\n",
       "    <tr>\n",
       "      <th>TERM</th>\n",
       "      <td>0</td>\n",
       "      <td>1</td>\n",
       "      <td>2</td>\n",
       "      <td>3</td>\n",
       "      <td>4</td>\n",
       "      <td>5</td>\n",
       "      <td>6</td>\n",
       "      <td>7</td>\n",
       "      <td>8</td>\n",
       "      <td>9</td>\n",
       "      <td>...</td>\n",
       "      <td>27</td>\n",
       "      <td>28</td>\n",
       "      <td>29</td>\n",
       "      <td>30</td>\n",
       "      <td>0</td>\n",
       "      <td>0</td>\n",
       "      <td>0</td>\n",
       "      <td>0</td>\n",
       "      <td>0</td>\n",
       "      <td>0</td>\n",
       "    </tr>\n",
       "  </tbody>\n",
       "</table>\n",
       "<p>4 rows × 84 columns</p>\n",
       "</div>"
      ],
      "text/plain": [
       "Variable_Name   DEF SPOT_RATE_PC SPOT_RATE_PC SPOT_RATE_PC SPOT_RATE_PC  \\\n",
       "SCENARIO          1            1            1            1            1   \n",
       "ECONOMY         EUR          EUR          EUR          EUR          EUR   \n",
       "CLASS          VALN          ZCB          ZCB          ZCB          ZCB   \n",
       "TERM              0            1            2            3            4   \n",
       "\n",
       "Variable_Name SPOT_RATE_PC SPOT_RATE_PC SPOT_RATE_PC SPOT_RATE_PC  \\\n",
       "SCENARIO                 1            1            1            1   \n",
       "ECONOMY                EUR          EUR          EUR          EUR   \n",
       "CLASS                  ZCB          ZCB          ZCB          ZCB   \n",
       "TERM                     5            6            7            8   \n",
       "\n",
       "Variable_Name SPOT_RATE_PC  ... SPOT_RATE_PC SPOT_RATE_PC SPOT_RATE_PC  \\\n",
       "SCENARIO                 1  ...            1            1            1   \n",
       "ECONOMY                EUR  ...          USD          USD          USD   \n",
       "CLASS                  ZCB  ...          ZCB          ZCB          ZCB   \n",
       "TERM                     9  ...           27           28           29   \n",
       "\n",
       "Variable_Name SPOT_RATE_PC INFLN_IDX INFLN_IDX RNY_PC GTH_IDX     RNY_PC  \\\n",
       "SCENARIO                 1         1         1      1       1          1   \n",
       "ECONOMY                USD       EUR       USD    EUR     EUR        USD   \n",
       "CLASS                  ZCB     INFLN     INFLN  PROPT   PROPT  PROPT_USD   \n",
       "TERM                    30         0         0      0       0          0   \n",
       "\n",
       "Variable_Name    GTH_IDX  \n",
       "SCENARIO               1  \n",
       "ECONOMY              USD  \n",
       "CLASS          PROPT_USD  \n",
       "TERM                   0  \n",
       "\n",
       "[4 rows x 84 columns]"
      ]
     },
     "execution_count": 75,
     "metadata": {},
     "output_type": "execute_result"
    }
   ],
   "source": [
    "data_headers_det.head()"
   ]
  },
  {
   "cell_type": "code",
   "execution_count": 76,
   "id": "2b549c8c",
   "metadata": {},
   "outputs": [
    {
     "data": {
      "text/html": [
       "<div>\n",
       "<style scoped>\n",
       "    .dataframe tbody tr th:only-of-type {\n",
       "        vertical-align: middle;\n",
       "    }\n",
       "\n",
       "    .dataframe tbody tr th {\n",
       "        vertical-align: top;\n",
       "    }\n",
       "\n",
       "    .dataframe thead th {\n",
       "        text-align: right;\n",
       "    }\n",
       "</style>\n",
       "<table border=\"1\" class=\"dataframe\">\n",
       "  <thead>\n",
       "    <tr style=\"text-align: right;\">\n",
       "      <th>Variable_Name</th>\n",
       "      <th>DEF</th>\n",
       "      <th>SPOT_RATE_PC</th>\n",
       "      <th>SPOT_RATE_PC</th>\n",
       "      <th>SPOT_RATE_PC</th>\n",
       "      <th>SPOT_RATE_PC</th>\n",
       "      <th>SPOT_RATE_PC</th>\n",
       "      <th>SPOT_RATE_PC</th>\n",
       "      <th>SPOT_RATE_PC</th>\n",
       "      <th>SPOT_RATE_PC</th>\n",
       "      <th>SPOT_RATE_PC</th>\n",
       "      <th>...</th>\n",
       "      <th>SPOT_RATE_PC</th>\n",
       "      <th>SPOT_RATE_PC</th>\n",
       "      <th>SPOT_RATE_PC</th>\n",
       "      <th>SPOT_RATE_PC</th>\n",
       "      <th>INFLN_IDX</th>\n",
       "      <th>INFLN_IDX</th>\n",
       "      <th>RNY_PC</th>\n",
       "      <th>GTH_IDX</th>\n",
       "      <th>RNY_PC</th>\n",
       "      <th>GTH_IDX</th>\n",
       "    </tr>\n",
       "  </thead>\n",
       "  <tbody>\n",
       "    <tr>\n",
       "      <th>202209</th>\n",
       "      <td>1.000000</td>\n",
       "      <td>2.548416</td>\n",
       "      <td>2.894166</td>\n",
       "      <td>2.962429</td>\n",
       "      <td>3.006984</td>\n",
       "      <td>3.043010</td>\n",
       "      <td>3.070983</td>\n",
       "      <td>3.090012</td>\n",
       "      <td>3.113000</td>\n",
       "      <td>3.137016</td>\n",
       "      <td>...</td>\n",
       "      <td>3.887994</td>\n",
       "      <td>3.848010</td>\n",
       "      <td>3.806988</td>\n",
       "      <td>3.761007</td>\n",
       "      <td>100.0</td>\n",
       "      <td>100.0</td>\n",
       "      <td>0.0</td>\n",
       "      <td>100.0</td>\n",
       "      <td>0.0</td>\n",
       "      <td>100.0</td>\n",
       "    </tr>\n",
       "    <tr>\n",
       "      <th>202210</th>\n",
       "      <td>0.998170</td>\n",
       "      <td>2.613369</td>\n",
       "      <td>2.938147</td>\n",
       "      <td>2.985303</td>\n",
       "      <td>3.027298</td>\n",
       "      <td>3.059340</td>\n",
       "      <td>3.084684</td>\n",
       "      <td>3.102105</td>\n",
       "      <td>3.124320</td>\n",
       "      <td>3.147724</td>\n",
       "      <td>...</td>\n",
       "      <td>3.880663</td>\n",
       "      <td>3.840605</td>\n",
       "      <td>3.799326</td>\n",
       "      <td>3.752998</td>\n",
       "      <td>100.0</td>\n",
       "      <td>100.0</td>\n",
       "      <td>0.0</td>\n",
       "      <td>100.0</td>\n",
       "      <td>0.0</td>\n",
       "      <td>100.0</td>\n",
       "    </tr>\n",
       "    <tr>\n",
       "      <th>202211</th>\n",
       "      <td>0.996310</td>\n",
       "      <td>2.680386</td>\n",
       "      <td>2.978699</td>\n",
       "      <td>3.007669</td>\n",
       "      <td>3.046679</td>\n",
       "      <td>3.075050</td>\n",
       "      <td>3.097754</td>\n",
       "      <td>3.113808</td>\n",
       "      <td>3.135229</td>\n",
       "      <td>3.158117</td>\n",
       "      <td>...</td>\n",
       "      <td>3.873335</td>\n",
       "      <td>3.833233</td>\n",
       "      <td>3.791641</td>\n",
       "      <td>3.744997</td>\n",
       "      <td>100.0</td>\n",
       "      <td>100.0</td>\n",
       "      <td>0.0</td>\n",
       "      <td>100.0</td>\n",
       "      <td>0.0</td>\n",
       "      <td>100.0</td>\n",
       "    </tr>\n",
       "    <tr>\n",
       "      <th>202212</th>\n",
       "      <td>0.994414</td>\n",
       "      <td>2.748458</td>\n",
       "      <td>3.015498</td>\n",
       "      <td>3.029284</td>\n",
       "      <td>3.064974</td>\n",
       "      <td>3.090002</td>\n",
       "      <td>3.110101</td>\n",
       "      <td>3.125024</td>\n",
       "      <td>3.145655</td>\n",
       "      <td>3.168110</td>\n",
       "      <td>...</td>\n",
       "      <td>3.865999</td>\n",
       "      <td>3.825873</td>\n",
       "      <td>3.783922</td>\n",
       "      <td>3.736992</td>\n",
       "      <td>100.0</td>\n",
       "      <td>100.0</td>\n",
       "      <td>0.0</td>\n",
       "      <td>100.0</td>\n",
       "      <td>0.0</td>\n",
       "      <td>100.0</td>\n",
       "    </tr>\n",
       "    <tr>\n",
       "      <th>202301</th>\n",
       "      <td>0.992476</td>\n",
       "      <td>2.816576</td>\n",
       "      <td>3.048311</td>\n",
       "      <td>3.049928</td>\n",
       "      <td>3.082055</td>\n",
       "      <td>3.104075</td>\n",
       "      <td>3.121645</td>\n",
       "      <td>3.135668</td>\n",
       "      <td>3.155533</td>\n",
       "      <td>3.177627</td>\n",
       "      <td>...</td>\n",
       "      <td>3.858645</td>\n",
       "      <td>3.818509</td>\n",
       "      <td>3.776162</td>\n",
       "      <td>3.728968</td>\n",
       "      <td>100.0</td>\n",
       "      <td>100.0</td>\n",
       "      <td>0.0</td>\n",
       "      <td>100.0</td>\n",
       "      <td>0.0</td>\n",
       "      <td>100.0</td>\n",
       "    </tr>\n",
       "  </tbody>\n",
       "</table>\n",
       "<p>5 rows × 84 columns</p>\n",
       "</div>"
      ],
      "text/plain": [
       "Variable_Name       DEF  SPOT_RATE_PC  SPOT_RATE_PC  SPOT_RATE_PC  \\\n",
       "202209         1.000000      2.548416      2.894166      2.962429   \n",
       "202210         0.998170      2.613369      2.938147      2.985303   \n",
       "202211         0.996310      2.680386      2.978699      3.007669   \n",
       "202212         0.994414      2.748458      3.015498      3.029284   \n",
       "202301         0.992476      2.816576      3.048311      3.049928   \n",
       "\n",
       "Variable_Name  SPOT_RATE_PC  SPOT_RATE_PC  SPOT_RATE_PC  SPOT_RATE_PC  \\\n",
       "202209             3.006984      3.043010      3.070983      3.090012   \n",
       "202210             3.027298      3.059340      3.084684      3.102105   \n",
       "202211             3.046679      3.075050      3.097754      3.113808   \n",
       "202212             3.064974      3.090002      3.110101      3.125024   \n",
       "202301             3.082055      3.104075      3.121645      3.135668   \n",
       "\n",
       "Variable_Name  SPOT_RATE_PC  SPOT_RATE_PC  ...  SPOT_RATE_PC  SPOT_RATE_PC  \\\n",
       "202209             3.113000      3.137016  ...      3.887994      3.848010   \n",
       "202210             3.124320      3.147724  ...      3.880663      3.840605   \n",
       "202211             3.135229      3.158117  ...      3.873335      3.833233   \n",
       "202212             3.145655      3.168110  ...      3.865999      3.825873   \n",
       "202301             3.155533      3.177627  ...      3.858645      3.818509   \n",
       "\n",
       "Variable_Name  SPOT_RATE_PC  SPOT_RATE_PC  INFLN_IDX  INFLN_IDX  RNY_PC  \\\n",
       "202209             3.806988      3.761007      100.0      100.0     0.0   \n",
       "202210             3.799326      3.752998      100.0      100.0     0.0   \n",
       "202211             3.791641      3.744997      100.0      100.0     0.0   \n",
       "202212             3.783922      3.736992      100.0      100.0     0.0   \n",
       "202301             3.776162      3.728968      100.0      100.0     0.0   \n",
       "\n",
       "Variable_Name  GTH_IDX  RNY_PC  GTH_IDX  \n",
       "202209           100.0     0.0    100.0  \n",
       "202210           100.0     0.0    100.0  \n",
       "202211           100.0     0.0    100.0  \n",
       "202212           100.0     0.0    100.0  \n",
       "202301           100.0     0.0    100.0  \n",
       "\n",
       "[5 rows x 84 columns]"
      ]
     },
     "execution_count": 76,
     "metadata": {},
     "output_type": "execute_result"
    }
   ],
   "source": [
    "data_det.head()"
   ]
  },
  {
   "cell_type": "code",
   "execution_count": 77,
   "id": "69e94354",
   "metadata": {},
   "outputs": [],
   "source": [
    "data_stoch_raw = data_stoch_raw.iloc[:,1:]"
   ]
  },
  {
   "cell_type": "code",
   "execution_count": 78,
   "id": "3d134f0e",
   "metadata": {},
   "outputs": [],
   "source": [
    "data_headers_stoch = data_stoch_raw.iloc[:,:4].transpose()"
   ]
  },
  {
   "cell_type": "code",
   "execution_count": 79,
   "id": "9ea91895",
   "metadata": {},
   "outputs": [],
   "source": [
    "data_stoch = data_stoch_raw.iloc[:,4:]\n",
    "data_stoch = data_stoch.transpose()"
   ]
  },
  {
   "cell_type": "code",
   "execution_count": 80,
   "id": "4a05193e",
   "metadata": {},
   "outputs": [
    {
     "data": {
      "text/html": [
       "<div>\n",
       "<style scoped>\n",
       "    .dataframe tbody tr th:only-of-type {\n",
       "        vertical-align: middle;\n",
       "    }\n",
       "\n",
       "    .dataframe tbody tr th {\n",
       "        vertical-align: top;\n",
       "    }\n",
       "\n",
       "    .dataframe thead th {\n",
       "        text-align: right;\n",
       "    }\n",
       "</style>\n",
       "<table border=\"1\" class=\"dataframe\">\n",
       "  <thead>\n",
       "    <tr style=\"text-align: right;\">\n",
       "      <th>Variable_Name</th>\n",
       "      <th>DEF</th>\n",
       "      <th>SPOT_RATE_PC</th>\n",
       "      <th>SPOT_RATE_PC</th>\n",
       "      <th>SPOT_RATE_PC</th>\n",
       "      <th>SPOT_RATE_PC</th>\n",
       "      <th>SPOT_RATE_PC</th>\n",
       "      <th>SPOT_RATE_PC</th>\n",
       "      <th>SPOT_RATE_PC</th>\n",
       "      <th>SPOT_RATE_PC</th>\n",
       "      <th>SPOT_RATE_PC</th>\n",
       "      <th>...</th>\n",
       "      <th>SPOT_RATE_PC</th>\n",
       "      <th>SPOT_RATE_PC</th>\n",
       "      <th>SPOT_RATE_PC</th>\n",
       "      <th>SPOT_RATE_PC</th>\n",
       "      <th>INFLN_IDX</th>\n",
       "      <th>INFLN_IDX</th>\n",
       "      <th>RNY_PC</th>\n",
       "      <th>GTH_IDX</th>\n",
       "      <th>RNY_PC</th>\n",
       "      <th>GTH_IDX</th>\n",
       "    </tr>\n",
       "  </thead>\n",
       "  <tbody>\n",
       "    <tr>\n",
       "      <th>SCENARIO</th>\n",
       "      <td>1</td>\n",
       "      <td>1</td>\n",
       "      <td>1</td>\n",
       "      <td>1</td>\n",
       "      <td>1</td>\n",
       "      <td>1</td>\n",
       "      <td>1</td>\n",
       "      <td>1</td>\n",
       "      <td>1</td>\n",
       "      <td>1</td>\n",
       "      <td>...</td>\n",
       "      <td>1000</td>\n",
       "      <td>1000</td>\n",
       "      <td>1000</td>\n",
       "      <td>1000</td>\n",
       "      <td>1000</td>\n",
       "      <td>1000</td>\n",
       "      <td>1000</td>\n",
       "      <td>1000</td>\n",
       "      <td>1000</td>\n",
       "      <td>1000</td>\n",
       "    </tr>\n",
       "    <tr>\n",
       "      <th>ECONOMY</th>\n",
       "      <td>EUR</td>\n",
       "      <td>EUR</td>\n",
       "      <td>EUR</td>\n",
       "      <td>EUR</td>\n",
       "      <td>EUR</td>\n",
       "      <td>EUR</td>\n",
       "      <td>EUR</td>\n",
       "      <td>EUR</td>\n",
       "      <td>EUR</td>\n",
       "      <td>EUR</td>\n",
       "      <td>...</td>\n",
       "      <td>USD</td>\n",
       "      <td>USD</td>\n",
       "      <td>USD</td>\n",
       "      <td>USD</td>\n",
       "      <td>EUR</td>\n",
       "      <td>USD</td>\n",
       "      <td>EUR</td>\n",
       "      <td>EUR</td>\n",
       "      <td>USD</td>\n",
       "      <td>USD</td>\n",
       "    </tr>\n",
       "    <tr>\n",
       "      <th>CLASS</th>\n",
       "      <td>VALN</td>\n",
       "      <td>ZCB</td>\n",
       "      <td>ZCB</td>\n",
       "      <td>ZCB</td>\n",
       "      <td>ZCB</td>\n",
       "      <td>ZCB</td>\n",
       "      <td>ZCB</td>\n",
       "      <td>ZCB</td>\n",
       "      <td>ZCB</td>\n",
       "      <td>ZCB</td>\n",
       "      <td>...</td>\n",
       "      <td>ZCB</td>\n",
       "      <td>ZCB</td>\n",
       "      <td>ZCB</td>\n",
       "      <td>ZCB</td>\n",
       "      <td>INFLN</td>\n",
       "      <td>INFLN</td>\n",
       "      <td>PROPT</td>\n",
       "      <td>PROPT</td>\n",
       "      <td>PROPT_USD</td>\n",
       "      <td>PROPT_USD</td>\n",
       "    </tr>\n",
       "    <tr>\n",
       "      <th>TERM</th>\n",
       "      <td>0</td>\n",
       "      <td>1</td>\n",
       "      <td>2</td>\n",
       "      <td>3</td>\n",
       "      <td>4</td>\n",
       "      <td>5</td>\n",
       "      <td>6</td>\n",
       "      <td>7</td>\n",
       "      <td>8</td>\n",
       "      <td>9</td>\n",
       "      <td>...</td>\n",
       "      <td>27</td>\n",
       "      <td>28</td>\n",
       "      <td>29</td>\n",
       "      <td>30</td>\n",
       "      <td>0</td>\n",
       "      <td>0</td>\n",
       "      <td>0</td>\n",
       "      <td>0</td>\n",
       "      <td>0</td>\n",
       "      <td>0</td>\n",
       "    </tr>\n",
       "  </tbody>\n",
       "</table>\n",
       "<p>4 rows × 84000 columns</p>\n",
       "</div>"
      ],
      "text/plain": [
       "Variable_Name   DEF SPOT_RATE_PC SPOT_RATE_PC SPOT_RATE_PC SPOT_RATE_PC  \\\n",
       "SCENARIO          1            1            1            1            1   \n",
       "ECONOMY         EUR          EUR          EUR          EUR          EUR   \n",
       "CLASS          VALN          ZCB          ZCB          ZCB          ZCB   \n",
       "TERM              0            1            2            3            4   \n",
       "\n",
       "Variable_Name SPOT_RATE_PC SPOT_RATE_PC SPOT_RATE_PC SPOT_RATE_PC  \\\n",
       "SCENARIO                 1            1            1            1   \n",
       "ECONOMY                EUR          EUR          EUR          EUR   \n",
       "CLASS                  ZCB          ZCB          ZCB          ZCB   \n",
       "TERM                     5            6            7            8   \n",
       "\n",
       "Variable_Name SPOT_RATE_PC  ... SPOT_RATE_PC SPOT_RATE_PC SPOT_RATE_PC  \\\n",
       "SCENARIO                 1  ...         1000         1000         1000   \n",
       "ECONOMY                EUR  ...          USD          USD          USD   \n",
       "CLASS                  ZCB  ...          ZCB          ZCB          ZCB   \n",
       "TERM                     9  ...           27           28           29   \n",
       "\n",
       "Variable_Name SPOT_RATE_PC INFLN_IDX INFLN_IDX RNY_PC GTH_IDX     RNY_PC  \\\n",
       "SCENARIO              1000      1000      1000   1000    1000       1000   \n",
       "ECONOMY                USD       EUR       USD    EUR     EUR        USD   \n",
       "CLASS                  ZCB     INFLN     INFLN  PROPT   PROPT  PROPT_USD   \n",
       "TERM                    30         0         0      0       0          0   \n",
       "\n",
       "Variable_Name    GTH_IDX  \n",
       "SCENARIO            1000  \n",
       "ECONOMY              USD  \n",
       "CLASS          PROPT_USD  \n",
       "TERM                   0  \n",
       "\n",
       "[4 rows x 84000 columns]"
      ]
     },
     "execution_count": 80,
     "metadata": {},
     "output_type": "execute_result"
    }
   ],
   "source": [
    "data_headers_stoch.head()"
   ]
  },
  {
   "cell_type": "code",
   "execution_count": 81,
   "id": "698bba83",
   "metadata": {},
   "outputs": [
    {
     "data": {
      "text/html": [
       "<div>\n",
       "<style scoped>\n",
       "    .dataframe tbody tr th:only-of-type {\n",
       "        vertical-align: middle;\n",
       "    }\n",
       "\n",
       "    .dataframe tbody tr th {\n",
       "        vertical-align: top;\n",
       "    }\n",
       "\n",
       "    .dataframe thead th {\n",
       "        text-align: right;\n",
       "    }\n",
       "</style>\n",
       "<table border=\"1\" class=\"dataframe\">\n",
       "  <thead>\n",
       "    <tr style=\"text-align: right;\">\n",
       "      <th>Variable_Name</th>\n",
       "      <th>DEF</th>\n",
       "      <th>SPOT_RATE_PC</th>\n",
       "      <th>SPOT_RATE_PC</th>\n",
       "      <th>SPOT_RATE_PC</th>\n",
       "      <th>SPOT_RATE_PC</th>\n",
       "      <th>SPOT_RATE_PC</th>\n",
       "      <th>SPOT_RATE_PC</th>\n",
       "      <th>SPOT_RATE_PC</th>\n",
       "      <th>SPOT_RATE_PC</th>\n",
       "      <th>SPOT_RATE_PC</th>\n",
       "      <th>...</th>\n",
       "      <th>SPOT_RATE_PC</th>\n",
       "      <th>SPOT_RATE_PC</th>\n",
       "      <th>SPOT_RATE_PC</th>\n",
       "      <th>SPOT_RATE_PC</th>\n",
       "      <th>INFLN_IDX</th>\n",
       "      <th>INFLN_IDX</th>\n",
       "      <th>RNY_PC</th>\n",
       "      <th>GTH_IDX</th>\n",
       "      <th>RNY_PC</th>\n",
       "      <th>GTH_IDX</th>\n",
       "    </tr>\n",
       "  </thead>\n",
       "  <tbody>\n",
       "    <tr>\n",
       "      <th>202209</th>\n",
       "      <td>1.000000</td>\n",
       "      <td>2.548416</td>\n",
       "      <td>2.894166</td>\n",
       "      <td>2.962429</td>\n",
       "      <td>3.006984</td>\n",
       "      <td>3.043010</td>\n",
       "      <td>3.070983</td>\n",
       "      <td>3.090012</td>\n",
       "      <td>3.113000</td>\n",
       "      <td>3.137016</td>\n",
       "      <td>...</td>\n",
       "      <td>3.887994</td>\n",
       "      <td>3.848010</td>\n",
       "      <td>3.806988</td>\n",
       "      <td>3.761007</td>\n",
       "      <td>100.0</td>\n",
       "      <td>100.0</td>\n",
       "      <td>0.0</td>\n",
       "      <td>100.0</td>\n",
       "      <td>0.0</td>\n",
       "      <td>100.0</td>\n",
       "    </tr>\n",
       "    <tr>\n",
       "      <th>202210</th>\n",
       "      <td>0.998170</td>\n",
       "      <td>2.595137</td>\n",
       "      <td>2.921558</td>\n",
       "      <td>2.970259</td>\n",
       "      <td>3.013664</td>\n",
       "      <td>3.046993</td>\n",
       "      <td>3.073512</td>\n",
       "      <td>3.092006</td>\n",
       "      <td>3.115199</td>\n",
       "      <td>3.139495</td>\n",
       "      <td>...</td>\n",
       "      <td>3.355739</td>\n",
       "      <td>3.326717</td>\n",
       "      <td>3.296130</td>\n",
       "      <td>3.260183</td>\n",
       "      <td>100.0</td>\n",
       "      <td>100.0</td>\n",
       "      <td>0.0</td>\n",
       "      <td>100.0</td>\n",
       "      <td>0.0</td>\n",
       "      <td>100.0</td>\n",
       "    </tr>\n",
       "    <tr>\n",
       "      <th>202211</th>\n",
       "      <td>0.996326</td>\n",
       "      <td>2.625608</td>\n",
       "      <td>2.927669</td>\n",
       "      <td>2.960215</td>\n",
       "      <td>3.002507</td>\n",
       "      <td>3.033901</td>\n",
       "      <td>3.059389</td>\n",
       "      <td>3.078007</td>\n",
       "      <td>3.101788</td>\n",
       "      <td>3.126849</td>\n",
       "      <td>...</td>\n",
       "      <td>3.630038</td>\n",
       "      <td>3.595220</td>\n",
       "      <td>3.558738</td>\n",
       "      <td>3.517046</td>\n",
       "      <td>100.0</td>\n",
       "      <td>100.0</td>\n",
       "      <td>0.0</td>\n",
       "      <td>100.0</td>\n",
       "      <td>0.0</td>\n",
       "      <td>100.0</td>\n",
       "    </tr>\n",
       "    <tr>\n",
       "      <th>202212</th>\n",
       "      <td>0.994477</td>\n",
       "      <td>2.406385</td>\n",
       "      <td>2.685678</td>\n",
       "      <td>2.711818</td>\n",
       "      <td>2.759104</td>\n",
       "      <td>2.795119</td>\n",
       "      <td>2.825622</td>\n",
       "      <td>2.850404</td>\n",
       "      <td>2.880357</td>\n",
       "      <td>2.911644</td>\n",
       "      <td>...</td>\n",
       "      <td>3.506174</td>\n",
       "      <td>3.473861</td>\n",
       "      <td>3.439468</td>\n",
       "      <td>3.399860</td>\n",
       "      <td>100.0</td>\n",
       "      <td>100.0</td>\n",
       "      <td>0.0</td>\n",
       "      <td>100.0</td>\n",
       "      <td>0.0</td>\n",
       "      <td>100.0</td>\n",
       "    </tr>\n",
       "    <tr>\n",
       "      <th>202301</th>\n",
       "      <td>0.992825</td>\n",
       "      <td>2.405012</td>\n",
       "      <td>2.652059</td>\n",
       "      <td>2.668963</td>\n",
       "      <td>2.715391</td>\n",
       "      <td>2.750937</td>\n",
       "      <td>2.781294</td>\n",
       "      <td>2.807413</td>\n",
       "      <td>2.838698</td>\n",
       "      <td>2.871596</td>\n",
       "      <td>...</td>\n",
       "      <td>3.185141</td>\n",
       "      <td>3.159436</td>\n",
       "      <td>3.131060</td>\n",
       "      <td>3.097414</td>\n",
       "      <td>100.0</td>\n",
       "      <td>100.0</td>\n",
       "      <td>0.0</td>\n",
       "      <td>100.0</td>\n",
       "      <td>0.0</td>\n",
       "      <td>100.0</td>\n",
       "    </tr>\n",
       "  </tbody>\n",
       "</table>\n",
       "<p>5 rows × 84000 columns</p>\n",
       "</div>"
      ],
      "text/plain": [
       "Variable_Name       DEF  SPOT_RATE_PC  SPOT_RATE_PC  SPOT_RATE_PC  \\\n",
       "202209         1.000000      2.548416      2.894166      2.962429   \n",
       "202210         0.998170      2.595137      2.921558      2.970259   \n",
       "202211         0.996326      2.625608      2.927669      2.960215   \n",
       "202212         0.994477      2.406385      2.685678      2.711818   \n",
       "202301         0.992825      2.405012      2.652059      2.668963   \n",
       "\n",
       "Variable_Name  SPOT_RATE_PC  SPOT_RATE_PC  SPOT_RATE_PC  SPOT_RATE_PC  \\\n",
       "202209             3.006984      3.043010      3.070983      3.090012   \n",
       "202210             3.013664      3.046993      3.073512      3.092006   \n",
       "202211             3.002507      3.033901      3.059389      3.078007   \n",
       "202212             2.759104      2.795119      2.825622      2.850404   \n",
       "202301             2.715391      2.750937      2.781294      2.807413   \n",
       "\n",
       "Variable_Name  SPOT_RATE_PC  SPOT_RATE_PC  ...  SPOT_RATE_PC  SPOT_RATE_PC  \\\n",
       "202209             3.113000      3.137016  ...      3.887994      3.848010   \n",
       "202210             3.115199      3.139495  ...      3.355739      3.326717   \n",
       "202211             3.101788      3.126849  ...      3.630038      3.595220   \n",
       "202212             2.880357      2.911644  ...      3.506174      3.473861   \n",
       "202301             2.838698      2.871596  ...      3.185141      3.159436   \n",
       "\n",
       "Variable_Name  SPOT_RATE_PC  SPOT_RATE_PC  INFLN_IDX  INFLN_IDX  RNY_PC  \\\n",
       "202209             3.806988      3.761007      100.0      100.0     0.0   \n",
       "202210             3.296130      3.260183      100.0      100.0     0.0   \n",
       "202211             3.558738      3.517046      100.0      100.0     0.0   \n",
       "202212             3.439468      3.399860      100.0      100.0     0.0   \n",
       "202301             3.131060      3.097414      100.0      100.0     0.0   \n",
       "\n",
       "Variable_Name  GTH_IDX  RNY_PC  GTH_IDX  \n",
       "202209           100.0     0.0    100.0  \n",
       "202210           100.0     0.0    100.0  \n",
       "202211           100.0     0.0    100.0  \n",
       "202212           100.0     0.0    100.0  \n",
       "202301           100.0     0.0    100.0  \n",
       "\n",
       "[5 rows x 84000 columns]"
      ]
     },
     "execution_count": 81,
     "metadata": {},
     "output_type": "execute_result"
    }
   ],
   "source": [
    "data_stoch.head()"
   ]
  },
  {
   "cell_type": "code",
   "execution_count": 82,
   "id": "92e782ab",
   "metadata": {},
   "outputs": [
    {
     "data": {
      "text/html": [
       "<div>\n",
       "<style scoped>\n",
       "    .dataframe tbody tr th:only-of-type {\n",
       "        vertical-align: middle;\n",
       "    }\n",
       "\n",
       "    .dataframe tbody tr th {\n",
       "        vertical-align: top;\n",
       "    }\n",
       "\n",
       "    .dataframe thead th {\n",
       "        text-align: right;\n",
       "    }\n",
       "</style>\n",
       "<table border=\"1\" class=\"dataframe\">\n",
       "  <thead>\n",
       "    <tr style=\"text-align: right;\">\n",
       "      <th>Variable_Name</th>\n",
       "      <th>DEF</th>\n",
       "      <th>SPOT_RATE_PC</th>\n",
       "      <th>SPOT_RATE_PC</th>\n",
       "      <th>SPOT_RATE_PC</th>\n",
       "      <th>SPOT_RATE_PC</th>\n",
       "      <th>SPOT_RATE_PC</th>\n",
       "      <th>SPOT_RATE_PC</th>\n",
       "      <th>SPOT_RATE_PC</th>\n",
       "      <th>SPOT_RATE_PC</th>\n",
       "      <th>SPOT_RATE_PC</th>\n",
       "      <th>...</th>\n",
       "      <th>SPOT_RATE_PC</th>\n",
       "      <th>SPOT_RATE_PC</th>\n",
       "      <th>SPOT_RATE_PC</th>\n",
       "      <th>SPOT_RATE_PC</th>\n",
       "      <th>INFLN_IDX</th>\n",
       "      <th>INFLN_IDX</th>\n",
       "      <th>RNY_PC</th>\n",
       "      <th>GTH_IDX</th>\n",
       "      <th>RNY_PC</th>\n",
       "      <th>GTH_IDX</th>\n",
       "    </tr>\n",
       "  </thead>\n",
       "  <tbody>\n",
       "    <tr>\n",
       "      <th>SCENARIO</th>\n",
       "      <td>1</td>\n",
       "      <td>1</td>\n",
       "      <td>1</td>\n",
       "      <td>1</td>\n",
       "      <td>1</td>\n",
       "      <td>1</td>\n",
       "      <td>1</td>\n",
       "      <td>1</td>\n",
       "      <td>1</td>\n",
       "      <td>1</td>\n",
       "      <td>...</td>\n",
       "      <td>1</td>\n",
       "      <td>1</td>\n",
       "      <td>1</td>\n",
       "      <td>1</td>\n",
       "      <td>1</td>\n",
       "      <td>1</td>\n",
       "      <td>1</td>\n",
       "      <td>1</td>\n",
       "      <td>1</td>\n",
       "      <td>1</td>\n",
       "    </tr>\n",
       "    <tr>\n",
       "      <th>ECONOMY</th>\n",
       "      <td>EUR</td>\n",
       "      <td>EUR</td>\n",
       "      <td>EUR</td>\n",
       "      <td>EUR</td>\n",
       "      <td>EUR</td>\n",
       "      <td>EUR</td>\n",
       "      <td>EUR</td>\n",
       "      <td>EUR</td>\n",
       "      <td>EUR</td>\n",
       "      <td>EUR</td>\n",
       "      <td>...</td>\n",
       "      <td>USD</td>\n",
       "      <td>USD</td>\n",
       "      <td>USD</td>\n",
       "      <td>USD</td>\n",
       "      <td>EUR</td>\n",
       "      <td>USD</td>\n",
       "      <td>EUR</td>\n",
       "      <td>EUR</td>\n",
       "      <td>USD</td>\n",
       "      <td>USD</td>\n",
       "    </tr>\n",
       "    <tr>\n",
       "      <th>CLASS</th>\n",
       "      <td>VALN</td>\n",
       "      <td>ZCB</td>\n",
       "      <td>ZCB</td>\n",
       "      <td>ZCB</td>\n",
       "      <td>ZCB</td>\n",
       "      <td>ZCB</td>\n",
       "      <td>ZCB</td>\n",
       "      <td>ZCB</td>\n",
       "      <td>ZCB</td>\n",
       "      <td>ZCB</td>\n",
       "      <td>...</td>\n",
       "      <td>ZCB</td>\n",
       "      <td>ZCB</td>\n",
       "      <td>ZCB</td>\n",
       "      <td>ZCB</td>\n",
       "      <td>INFLN</td>\n",
       "      <td>INFLN</td>\n",
       "      <td>PROPT</td>\n",
       "      <td>PROPT</td>\n",
       "      <td>PROPT_USD</td>\n",
       "      <td>PROPT_USD</td>\n",
       "    </tr>\n",
       "    <tr>\n",
       "      <th>TERM</th>\n",
       "      <td>0</td>\n",
       "      <td>1</td>\n",
       "      <td>2</td>\n",
       "      <td>3</td>\n",
       "      <td>4</td>\n",
       "      <td>5</td>\n",
       "      <td>6</td>\n",
       "      <td>7</td>\n",
       "      <td>8</td>\n",
       "      <td>9</td>\n",
       "      <td>...</td>\n",
       "      <td>27</td>\n",
       "      <td>28</td>\n",
       "      <td>29</td>\n",
       "      <td>30</td>\n",
       "      <td>0</td>\n",
       "      <td>0</td>\n",
       "      <td>0</td>\n",
       "      <td>0</td>\n",
       "      <td>0</td>\n",
       "      <td>0</td>\n",
       "    </tr>\n",
       "  </tbody>\n",
       "</table>\n",
       "<p>4 rows × 84 columns</p>\n",
       "</div>"
      ],
      "text/plain": [
       "Variable_Name   DEF SPOT_RATE_PC SPOT_RATE_PC SPOT_RATE_PC SPOT_RATE_PC  \\\n",
       "SCENARIO          1            1            1            1            1   \n",
       "ECONOMY         EUR          EUR          EUR          EUR          EUR   \n",
       "CLASS          VALN          ZCB          ZCB          ZCB          ZCB   \n",
       "TERM              0            1            2            3            4   \n",
       "\n",
       "Variable_Name SPOT_RATE_PC SPOT_RATE_PC SPOT_RATE_PC SPOT_RATE_PC  \\\n",
       "SCENARIO                 1            1            1            1   \n",
       "ECONOMY                EUR          EUR          EUR          EUR   \n",
       "CLASS                  ZCB          ZCB          ZCB          ZCB   \n",
       "TERM                     5            6            7            8   \n",
       "\n",
       "Variable_Name SPOT_RATE_PC  ... SPOT_RATE_PC SPOT_RATE_PC SPOT_RATE_PC  \\\n",
       "SCENARIO                 1  ...            1            1            1   \n",
       "ECONOMY                EUR  ...          USD          USD          USD   \n",
       "CLASS                  ZCB  ...          ZCB          ZCB          ZCB   \n",
       "TERM                     9  ...           27           28           29   \n",
       "\n",
       "Variable_Name SPOT_RATE_PC INFLN_IDX INFLN_IDX RNY_PC GTH_IDX     RNY_PC  \\\n",
       "SCENARIO                 1         1         1      1       1          1   \n",
       "ECONOMY                USD       EUR       USD    EUR     EUR        USD   \n",
       "CLASS                  ZCB     INFLN     INFLN  PROPT   PROPT  PROPT_USD   \n",
       "TERM                    30         0         0      0       0          0   \n",
       "\n",
       "Variable_Name    GTH_IDX  \n",
       "SCENARIO               1  \n",
       "ECONOMY              USD  \n",
       "CLASS          PROPT_USD  \n",
       "TERM                   0  \n",
       "\n",
       "[4 rows x 84 columns]"
      ]
     },
     "execution_count": 82,
     "metadata": {},
     "output_type": "execute_result"
    }
   ],
   "source": [
    "data_headers_det.head()"
   ]
  },
  {
   "cell_type": "code",
   "execution_count": 83,
   "id": "03722b6f",
   "metadata": {},
   "outputs": [],
   "source": [
    "locationindex = FilterScenarioFile(\\\n",
    "                    data_headers_det, deflator_economy, deflator_class, \\\n",
    "                        delflator_term, deflator_variable)"
   ]
  },
  {
   "cell_type": "code",
   "execution_count": 84,
   "id": "88da7ab0",
   "metadata": {},
   "outputs": [
    {
     "data": {
      "text/html": [
       "<div>\n",
       "<style scoped>\n",
       "    .dataframe tbody tr th:only-of-type {\n",
       "        vertical-align: middle;\n",
       "    }\n",
       "\n",
       "    .dataframe tbody tr th {\n",
       "        vertical-align: top;\n",
       "    }\n",
       "\n",
       "    .dataframe thead th {\n",
       "        text-align: right;\n",
       "    }\n",
       "</style>\n",
       "<table border=\"1\" class=\"dataframe\">\n",
       "  <thead>\n",
       "    <tr style=\"text-align: right;\">\n",
       "      <th>Variable_Name</th>\n",
       "      <th>DEF</th>\n",
       "    </tr>\n",
       "  </thead>\n",
       "  <tbody>\n",
       "    <tr>\n",
       "      <th>SCENARIO</th>\n",
       "      <td>1</td>\n",
       "    </tr>\n",
       "    <tr>\n",
       "      <th>ECONOMY</th>\n",
       "      <td>EUR</td>\n",
       "    </tr>\n",
       "    <tr>\n",
       "      <th>CLASS</th>\n",
       "      <td>VALN</td>\n",
       "    </tr>\n",
       "    <tr>\n",
       "      <th>TERM</th>\n",
       "      <td>0</td>\n",
       "    </tr>\n",
       "  </tbody>\n",
       "</table>\n",
       "</div>"
      ],
      "text/plain": [
       "Variable_Name   DEF\n",
       "SCENARIO          1\n",
       "ECONOMY         EUR\n",
       "CLASS          VALN\n",
       "TERM              0"
      ]
     },
     "execution_count": 84,
     "metadata": {},
     "output_type": "execute_result"
    }
   ],
   "source": [
    "data_headers_det.iloc[:, locationindex]"
   ]
  },
  {
   "cell_type": "code",
   "execution_count": 85,
   "id": "62f43ef6",
   "metadata": {},
   "outputs": [],
   "source": [
    "deflator_det = data_det.iloc[:, locationindex]"
   ]
  },
  {
   "cell_type": "markdown",
   "id": "57ef1141",
   "metadata": {},
   "source": [
    "#### Spot rate with a 1-year term; deterministic scenario"
   ]
  },
  {
   "cell_type": "markdown",
   "id": "4746ded9",
   "metadata": {},
   "source": [
    "The spot rate with term of `1`-year is one of the simulated financial curves. It is represented as a series of annualized returns. The value at time `t` represents the return of investing `1` unit of currency at time `t` until time `t+12` (months):\n",
    "\n",
    "$$ r_{DET, T1}(t) $$\n",
    "\n",
    "Where:\n",
    " - `DET` denotes that this is a return calculated using the deterministic scenario curve\n",
    " - `T1` denotes that this return is calculated using the spot curve with a `1`-year term\n",
    " - `t` is the time of investment\n",
    "\n",
    "Note that the curve is reported in percentages and is normalized by dividing it by `100`. \n"
   ]
  },
  {
   "cell_type": "code",
   "execution_count": 86,
   "id": "c5f9b8f8",
   "metadata": {},
   "outputs": [],
   "source": [
    "locationindex = FilterScenarioFile(data_headers_det, spot_economy, \\\n",
    "                                   spot_class, 1, spot_variable)"
   ]
  },
  {
   "cell_type": "markdown",
   "id": "237056a4",
   "metadata": {},
   "source": [
    " "
   ]
  },
  {
   "cell_type": "code",
   "execution_count": 87,
   "id": "7b66c5f9",
   "metadata": {},
   "outputs": [
    {
     "data": {
      "text/html": [
       "<div>\n",
       "<style scoped>\n",
       "    .dataframe tbody tr th:only-of-type {\n",
       "        vertical-align: middle;\n",
       "    }\n",
       "\n",
       "    .dataframe tbody tr th {\n",
       "        vertical-align: top;\n",
       "    }\n",
       "\n",
       "    .dataframe thead th {\n",
       "        text-align: right;\n",
       "    }\n",
       "</style>\n",
       "<table border=\"1\" class=\"dataframe\">\n",
       "  <thead>\n",
       "    <tr style=\"text-align: right;\">\n",
       "      <th>Variable_Name</th>\n",
       "      <th>SPOT_RATE_PC</th>\n",
       "    </tr>\n",
       "  </thead>\n",
       "  <tbody>\n",
       "    <tr>\n",
       "      <th>SCENARIO</th>\n",
       "      <td>1</td>\n",
       "    </tr>\n",
       "    <tr>\n",
       "      <th>ECONOMY</th>\n",
       "      <td>EUR</td>\n",
       "    </tr>\n",
       "    <tr>\n",
       "      <th>CLASS</th>\n",
       "      <td>ZCB</td>\n",
       "    </tr>\n",
       "    <tr>\n",
       "      <th>TERM</th>\n",
       "      <td>1</td>\n",
       "    </tr>\n",
       "  </tbody>\n",
       "</table>\n",
       "</div>"
      ],
      "text/plain": [
       "Variable_Name SPOT_RATE_PC\n",
       "SCENARIO                 1\n",
       "ECONOMY                EUR\n",
       "CLASS                  ZCB\n",
       "TERM                     1"
      ]
     },
     "execution_count": 87,
     "metadata": {},
     "output_type": "execute_result"
    }
   ],
   "source": [
    "data_headers_det.iloc[:, locationindex]"
   ]
  },
  {
   "cell_type": "code",
   "execution_count": 88,
   "id": "ebcbd5b6",
   "metadata": {},
   "outputs": [],
   "source": [
    "spot_1_det = data_det.iloc[:, locationindex]/100"
   ]
  },
  {
   "cell_type": "markdown",
   "id": "7dee10e6",
   "metadata": {},
   "source": [
    "[Back to the top](#0)\n",
    "<a id=\"10\"></a> <br>\n",
    "### Stochastic scenarios filter"
   ]
  },
  {
   "cell_type": "markdown",
   "id": "ac3922b0",
   "metadata": {},
   "source": [
    "#### Spot rate with a 1-year term; stochastic scenarios"
   ]
  },
  {
   "cell_type": "markdown",
   "id": "61bcae50",
   "metadata": {},
   "source": [
    "The spot rate with term of `1`-year is represented as a series of returns. The value at time `t` represents the return of investing `1` at time `t` until time `t+12` (months) in scenario `i`.\n",
    "\n",
    "$$ r_{i, T1}(t) $$\n",
    "\n",
    "Where:\n",
    " - `i` denotes that this is the return calculated using the `i`-th stochastic scenario\n",
    " - `T1` denotes that this return is calculated using the spot curve with a 1-year term\n",
    " - `t` is the time of investment\n",
    " \n",
    "Note that the curve is reported in percentages and is normalized by dividing it by `100`. "
   ]
  },
  {
   "cell_type": "code",
   "execution_count": 89,
   "id": "7ebd3937",
   "metadata": {},
   "outputs": [],
   "source": [
    "locationindex = FilterScenarioFile(data_headers_stoch,\\\n",
    "                    spot_economy, spot_class, 1, spot_variable)"
   ]
  },
  {
   "cell_type": "code",
   "execution_count": 90,
   "id": "64c14273",
   "metadata": {},
   "outputs": [],
   "source": [
    "spot_1 = data_stoch.iloc[:, locationindex]/100"
   ]
  },
  {
   "cell_type": "code",
   "execution_count": 91,
   "id": "140d3c90",
   "metadata": {},
   "outputs": [
    {
     "data": {
      "text/html": [
       "<div>\n",
       "<style scoped>\n",
       "    .dataframe tbody tr th:only-of-type {\n",
       "        vertical-align: middle;\n",
       "    }\n",
       "\n",
       "    .dataframe tbody tr th {\n",
       "        vertical-align: top;\n",
       "    }\n",
       "\n",
       "    .dataframe thead th {\n",
       "        text-align: right;\n",
       "    }\n",
       "</style>\n",
       "<table border=\"1\" class=\"dataframe\">\n",
       "  <thead>\n",
       "    <tr style=\"text-align: right;\">\n",
       "      <th>Variable_Name</th>\n",
       "      <th>SPOT_RATE_PC</th>\n",
       "      <th>SPOT_RATE_PC</th>\n",
       "      <th>SPOT_RATE_PC</th>\n",
       "      <th>SPOT_RATE_PC</th>\n",
       "      <th>SPOT_RATE_PC</th>\n",
       "      <th>SPOT_RATE_PC</th>\n",
       "      <th>SPOT_RATE_PC</th>\n",
       "      <th>SPOT_RATE_PC</th>\n",
       "      <th>SPOT_RATE_PC</th>\n",
       "      <th>SPOT_RATE_PC</th>\n",
       "      <th>...</th>\n",
       "      <th>SPOT_RATE_PC</th>\n",
       "      <th>SPOT_RATE_PC</th>\n",
       "      <th>SPOT_RATE_PC</th>\n",
       "      <th>SPOT_RATE_PC</th>\n",
       "      <th>SPOT_RATE_PC</th>\n",
       "      <th>SPOT_RATE_PC</th>\n",
       "      <th>SPOT_RATE_PC</th>\n",
       "      <th>SPOT_RATE_PC</th>\n",
       "      <th>SPOT_RATE_PC</th>\n",
       "      <th>SPOT_RATE_PC</th>\n",
       "    </tr>\n",
       "  </thead>\n",
       "  <tbody>\n",
       "    <tr>\n",
       "      <th>SCENARIO</th>\n",
       "      <td>1</td>\n",
       "      <td>2</td>\n",
       "      <td>3</td>\n",
       "      <td>4</td>\n",
       "      <td>5</td>\n",
       "      <td>6</td>\n",
       "      <td>7</td>\n",
       "      <td>8</td>\n",
       "      <td>9</td>\n",
       "      <td>10</td>\n",
       "      <td>...</td>\n",
       "      <td>991</td>\n",
       "      <td>992</td>\n",
       "      <td>993</td>\n",
       "      <td>994</td>\n",
       "      <td>995</td>\n",
       "      <td>996</td>\n",
       "      <td>997</td>\n",
       "      <td>998</td>\n",
       "      <td>999</td>\n",
       "      <td>1000</td>\n",
       "    </tr>\n",
       "    <tr>\n",
       "      <th>ECONOMY</th>\n",
       "      <td>EUR</td>\n",
       "      <td>EUR</td>\n",
       "      <td>EUR</td>\n",
       "      <td>EUR</td>\n",
       "      <td>EUR</td>\n",
       "      <td>EUR</td>\n",
       "      <td>EUR</td>\n",
       "      <td>EUR</td>\n",
       "      <td>EUR</td>\n",
       "      <td>EUR</td>\n",
       "      <td>...</td>\n",
       "      <td>EUR</td>\n",
       "      <td>EUR</td>\n",
       "      <td>EUR</td>\n",
       "      <td>EUR</td>\n",
       "      <td>EUR</td>\n",
       "      <td>EUR</td>\n",
       "      <td>EUR</td>\n",
       "      <td>EUR</td>\n",
       "      <td>EUR</td>\n",
       "      <td>EUR</td>\n",
       "    </tr>\n",
       "    <tr>\n",
       "      <th>CLASS</th>\n",
       "      <td>ZCB</td>\n",
       "      <td>ZCB</td>\n",
       "      <td>ZCB</td>\n",
       "      <td>ZCB</td>\n",
       "      <td>ZCB</td>\n",
       "      <td>ZCB</td>\n",
       "      <td>ZCB</td>\n",
       "      <td>ZCB</td>\n",
       "      <td>ZCB</td>\n",
       "      <td>ZCB</td>\n",
       "      <td>...</td>\n",
       "      <td>ZCB</td>\n",
       "      <td>ZCB</td>\n",
       "      <td>ZCB</td>\n",
       "      <td>ZCB</td>\n",
       "      <td>ZCB</td>\n",
       "      <td>ZCB</td>\n",
       "      <td>ZCB</td>\n",
       "      <td>ZCB</td>\n",
       "      <td>ZCB</td>\n",
       "      <td>ZCB</td>\n",
       "    </tr>\n",
       "    <tr>\n",
       "      <th>TERM</th>\n",
       "      <td>1</td>\n",
       "      <td>1</td>\n",
       "      <td>1</td>\n",
       "      <td>1</td>\n",
       "      <td>1</td>\n",
       "      <td>1</td>\n",
       "      <td>1</td>\n",
       "      <td>1</td>\n",
       "      <td>1</td>\n",
       "      <td>1</td>\n",
       "      <td>...</td>\n",
       "      <td>1</td>\n",
       "      <td>1</td>\n",
       "      <td>1</td>\n",
       "      <td>1</td>\n",
       "      <td>1</td>\n",
       "      <td>1</td>\n",
       "      <td>1</td>\n",
       "      <td>1</td>\n",
       "      <td>1</td>\n",
       "      <td>1</td>\n",
       "    </tr>\n",
       "  </tbody>\n",
       "</table>\n",
       "<p>4 rows × 1000 columns</p>\n",
       "</div>"
      ],
      "text/plain": [
       "Variable_Name SPOT_RATE_PC SPOT_RATE_PC SPOT_RATE_PC SPOT_RATE_PC  \\\n",
       "SCENARIO                 1            2            3            4   \n",
       "ECONOMY                EUR          EUR          EUR          EUR   \n",
       "CLASS                  ZCB          ZCB          ZCB          ZCB   \n",
       "TERM                     1            1            1            1   \n",
       "\n",
       "Variable_Name SPOT_RATE_PC SPOT_RATE_PC SPOT_RATE_PC SPOT_RATE_PC  \\\n",
       "SCENARIO                 5            6            7            8   \n",
       "ECONOMY                EUR          EUR          EUR          EUR   \n",
       "CLASS                  ZCB          ZCB          ZCB          ZCB   \n",
       "TERM                     1            1            1            1   \n",
       "\n",
       "Variable_Name SPOT_RATE_PC SPOT_RATE_PC  ... SPOT_RATE_PC SPOT_RATE_PC  \\\n",
       "SCENARIO                 9           10  ...          991          992   \n",
       "ECONOMY                EUR          EUR  ...          EUR          EUR   \n",
       "CLASS                  ZCB          ZCB  ...          ZCB          ZCB   \n",
       "TERM                     1            1  ...            1            1   \n",
       "\n",
       "Variable_Name SPOT_RATE_PC SPOT_RATE_PC SPOT_RATE_PC SPOT_RATE_PC  \\\n",
       "SCENARIO               993          994          995          996   \n",
       "ECONOMY                EUR          EUR          EUR          EUR   \n",
       "CLASS                  ZCB          ZCB          ZCB          ZCB   \n",
       "TERM                     1            1            1            1   \n",
       "\n",
       "Variable_Name SPOT_RATE_PC SPOT_RATE_PC SPOT_RATE_PC SPOT_RATE_PC  \n",
       "SCENARIO               997          998          999         1000  \n",
       "ECONOMY                EUR          EUR          EUR          EUR  \n",
       "CLASS                  ZCB          ZCB          ZCB          ZCB  \n",
       "TERM                     1            1            1            1  \n",
       "\n",
       "[4 rows x 1000 columns]"
      ]
     },
     "execution_count": 91,
     "metadata": {},
     "output_type": "execute_result"
    }
   ],
   "source": [
    "data_headers_stoch.iloc[:, locationindex]"
   ]
  },
  {
   "cell_type": "code",
   "execution_count": 92,
   "id": "2d0bc2dc",
   "metadata": {},
   "outputs": [
    {
     "data": {
      "text/html": [
       "<div>\n",
       "<style scoped>\n",
       "    .dataframe tbody tr th:only-of-type {\n",
       "        vertical-align: middle;\n",
       "    }\n",
       "\n",
       "    .dataframe tbody tr th {\n",
       "        vertical-align: top;\n",
       "    }\n",
       "\n",
       "    .dataframe thead th {\n",
       "        text-align: right;\n",
       "    }\n",
       "</style>\n",
       "<table border=\"1\" class=\"dataframe\">\n",
       "  <thead>\n",
       "    <tr style=\"text-align: right;\">\n",
       "      <th>Variable_Name</th>\n",
       "      <th>SPOT_RATE_PC</th>\n",
       "      <th>SPOT_RATE_PC</th>\n",
       "      <th>SPOT_RATE_PC</th>\n",
       "      <th>SPOT_RATE_PC</th>\n",
       "      <th>SPOT_RATE_PC</th>\n",
       "      <th>SPOT_RATE_PC</th>\n",
       "      <th>SPOT_RATE_PC</th>\n",
       "      <th>SPOT_RATE_PC</th>\n",
       "      <th>SPOT_RATE_PC</th>\n",
       "      <th>SPOT_RATE_PC</th>\n",
       "      <th>...</th>\n",
       "      <th>SPOT_RATE_PC</th>\n",
       "      <th>SPOT_RATE_PC</th>\n",
       "      <th>SPOT_RATE_PC</th>\n",
       "      <th>SPOT_RATE_PC</th>\n",
       "      <th>SPOT_RATE_PC</th>\n",
       "      <th>SPOT_RATE_PC</th>\n",
       "      <th>SPOT_RATE_PC</th>\n",
       "      <th>SPOT_RATE_PC</th>\n",
       "      <th>SPOT_RATE_PC</th>\n",
       "      <th>SPOT_RATE_PC</th>\n",
       "    </tr>\n",
       "  </thead>\n",
       "  <tbody>\n",
       "    <tr>\n",
       "      <th>202209</th>\n",
       "      <td>0.025484</td>\n",
       "      <td>0.025484</td>\n",
       "      <td>0.025484</td>\n",
       "      <td>0.025484</td>\n",
       "      <td>0.025484</td>\n",
       "      <td>0.025484</td>\n",
       "      <td>0.025484</td>\n",
       "      <td>0.025484</td>\n",
       "      <td>0.025484</td>\n",
       "      <td>0.025484</td>\n",
       "      <td>...</td>\n",
       "      <td>0.025484</td>\n",
       "      <td>0.025484</td>\n",
       "      <td>0.025484</td>\n",
       "      <td>0.025484</td>\n",
       "      <td>0.025484</td>\n",
       "      <td>0.025484</td>\n",
       "      <td>0.025484</td>\n",
       "      <td>0.025484</td>\n",
       "      <td>0.025484</td>\n",
       "      <td>0.025484</td>\n",
       "    </tr>\n",
       "    <tr>\n",
       "      <th>202210</th>\n",
       "      <td>0.025951</td>\n",
       "      <td>0.024965</td>\n",
       "      <td>0.031043</td>\n",
       "      <td>0.021404</td>\n",
       "      <td>0.021871</td>\n",
       "      <td>0.033967</td>\n",
       "      <td>0.023326</td>\n",
       "      <td>0.025541</td>\n",
       "      <td>0.025197</td>\n",
       "      <td>0.027956</td>\n",
       "      <td>...</td>\n",
       "      <td>0.033035</td>\n",
       "      <td>0.028613</td>\n",
       "      <td>0.036134</td>\n",
       "      <td>0.030826</td>\n",
       "      <td>0.024955</td>\n",
       "      <td>0.031070</td>\n",
       "      <td>0.024935</td>\n",
       "      <td>0.030638</td>\n",
       "      <td>0.019146</td>\n",
       "      <td>0.030932</td>\n",
       "    </tr>\n",
       "    <tr>\n",
       "      <th>202211</th>\n",
       "      <td>0.026256</td>\n",
       "      <td>0.023438</td>\n",
       "      <td>0.028679</td>\n",
       "      <td>0.025185</td>\n",
       "      <td>0.027129</td>\n",
       "      <td>0.029316</td>\n",
       "      <td>0.034493</td>\n",
       "      <td>0.020698</td>\n",
       "      <td>0.025932</td>\n",
       "      <td>0.029994</td>\n",
       "      <td>...</td>\n",
       "      <td>0.033058</td>\n",
       "      <td>0.031087</td>\n",
       "      <td>0.040930</td>\n",
       "      <td>0.033998</td>\n",
       "      <td>0.020552</td>\n",
       "      <td>0.030156</td>\n",
       "      <td>0.019615</td>\n",
       "      <td>0.022256</td>\n",
       "      <td>0.019546</td>\n",
       "      <td>0.035536</td>\n",
       "    </tr>\n",
       "  </tbody>\n",
       "</table>\n",
       "<p>3 rows × 1000 columns</p>\n",
       "</div>"
      ],
      "text/plain": [
       "Variable_Name  SPOT_RATE_PC  SPOT_RATE_PC  SPOT_RATE_PC  SPOT_RATE_PC  \\\n",
       "202209             0.025484      0.025484      0.025484      0.025484   \n",
       "202210             0.025951      0.024965      0.031043      0.021404   \n",
       "202211             0.026256      0.023438      0.028679      0.025185   \n",
       "\n",
       "Variable_Name  SPOT_RATE_PC  SPOT_RATE_PC  SPOT_RATE_PC  SPOT_RATE_PC  \\\n",
       "202209             0.025484      0.025484      0.025484      0.025484   \n",
       "202210             0.021871      0.033967      0.023326      0.025541   \n",
       "202211             0.027129      0.029316      0.034493      0.020698   \n",
       "\n",
       "Variable_Name  SPOT_RATE_PC  SPOT_RATE_PC  ...  SPOT_RATE_PC  SPOT_RATE_PC  \\\n",
       "202209             0.025484      0.025484  ...      0.025484      0.025484   \n",
       "202210             0.025197      0.027956  ...      0.033035      0.028613   \n",
       "202211             0.025932      0.029994  ...      0.033058      0.031087   \n",
       "\n",
       "Variable_Name  SPOT_RATE_PC  SPOT_RATE_PC  SPOT_RATE_PC  SPOT_RATE_PC  \\\n",
       "202209             0.025484      0.025484      0.025484      0.025484   \n",
       "202210             0.036134      0.030826      0.024955      0.031070   \n",
       "202211             0.040930      0.033998      0.020552      0.030156   \n",
       "\n",
       "Variable_Name  SPOT_RATE_PC  SPOT_RATE_PC  SPOT_RATE_PC  SPOT_RATE_PC  \n",
       "202209             0.025484      0.025484      0.025484      0.025484  \n",
       "202210             0.024935      0.030638      0.019146      0.030932  \n",
       "202211             0.019615      0.022256      0.019546      0.035536  \n",
       "\n",
       "[3 rows x 1000 columns]"
      ]
     },
     "execution_count": 92,
     "metadata": {},
     "output_type": "execute_result"
    }
   ],
   "source": [
    "spot_1.head(3)"
   ]
  },
  {
   "cell_type": "code",
   "execution_count": 93,
   "id": "8a7676f8",
   "metadata": {},
   "outputs": [],
   "source": [
    "E = spot_1.mean(axis=1)"
   ]
  },
  {
   "cell_type": "code",
   "execution_count": 94,
   "id": "49374db2",
   "metadata": {},
   "outputs": [],
   "source": [
    "V = spot_1.var(axis=1)"
   ]
  },
  {
   "cell_type": "markdown",
   "id": "61500e51",
   "metadata": {},
   "source": [
    "[Back to the top](#0)\n",
    "<a id=\"1O\"></a> <br>\n",
    "## Comparison between simulated an calculated volatility\n",
    "\n",
    "The Hull-White model is one of the few widely used short rate models that has a closed-form formula for the calculation of the volatility. The formula is:\n",
    "\n",
    "$$ V[r(t)｜F_0] = \\frac{\\sigma^2}{2a}\\big( 1-e^{-2at} \\big) $$\n",
    "\n",
    "This fact makes it possible to compare the volatility calculated from the parameters with the simulated volatility. \n"
   ]
  },
  {
   "cell_type": "code",
   "execution_count": 95,
   "id": "7cbf7dcf",
   "metadata": {},
   "outputs": [],
   "source": [
    "time = np.linspace(start=0,stop=T,num=NoOfSteps+1, endpoint=True)"
   ]
  },
  {
   "cell_type": "code",
   "execution_count": 96,
   "id": "837f50e4",
   "metadata": {},
   "outputs": [],
   "source": [
    "vol = sigma**2/(2*a)*(1-np.exp(-2*a*time))"
   ]
  },
  {
   "cell_type": "markdown",
   "id": "75add4e1",
   "metadata": {},
   "source": [
    " "
   ]
  },
  {
   "cell_type": "markdown",
   "id": "66ebad3b",
   "metadata": {},
   "source": [
    " "
   ]
  },
  {
   "cell_type": "markdown",
   "id": "bfb5b275",
   "metadata": {},
   "source": [
    " "
   ]
  },
  {
   "cell_type": "markdown",
   "id": "57cb488b",
   "metadata": {},
   "source": [
    " "
   ]
  },
  {
   "cell_type": "markdown",
   "id": "4db15038",
   "metadata": {},
   "source": [
    " "
   ]
  },
  {
   "cell_type": "markdown",
   "id": "732e8eef",
   "metadata": {},
   "source": [
    "[Back to the top](#0)\n",
    "<a id=\"8\"></a> <br>\n",
    "## Appendix A: Hull-White interest rate simulation functions\n",
    "\n",
    "In this step, the functions that calculate the necessary Hull-White outputs are defined. The calculation of a discounted ZCB bond, calculation of a forward rate, the parameter theta and finally the generation of multiple sample paths.\n",
    "\n",
    "The function P0t_f calculates the price of a zero-coupon bond (ZCB) based on the given yield and maturity.\n",
    "\n",
    "$$ P0t = e^{-y0t *t} $$\n",
    "\n",
    "Where:\n",
    " - `t` is the time of interest expressed as a year fraction (Ex. for 18 months, `t` = 1.5).\n",
    " - `y0t` is the yield obtained by applying the Smith-Wilson calibration to the term structure \n",
    "     for a single payoff at time `t`.\n",
    " -  `P0t` is the price of a zero coupon bond with a notional amount of 1 and maturity at time `t`."
   ]
  },
  {
   "cell_type": "code",
   "execution_count": 100,
   "id": "212e2d40",
   "metadata": {},
   "outputs": [],
   "source": [
    "def P0t_f(t, m_obs, Qb, ufr, alpha):\n",
    "    \"\"\"\n",
    "    P0t_f function calculates the price of a zero-coupon bond issued at time 0, \n",
    "    for a given maturity 't', using the Smith-Wilson extrapolation technique.\n",
    "    Args:\n",
    "        t (float or ndarray): vector (or a single number) of maturities represented \n",
    "            as time fraction (Ex. for 18 months; t=1.5).\n",
    "        m_obs (ndarray): n x 1 array of observed bond maturities used for \n",
    "            calibration.\n",
    "        Qb (ndarray): n x 1 calibration vector of the Smith-Wilson algorithm \n",
    "           calculated on observed bonds.\n",
    "        ufr (float): Ultimate forward rate parameter for the Smith-Wilson algorithm.\n",
    "        alpha (float): Convergence speed parameter for the Smith-Wilson algorithm.\n",
    "    Returns:\n",
    "        ndarray: n x 1 the price of zero-coupon bonds with a notional amount of 1\n",
    "            and maturity t.   \n",
    "        \n",
    "    Example of use\n",
    "        m_obs = np.array([1, 2, 3, 5, 7, 10, 15, 20, 30])\n",
    "        Qb = np.array([0.02474805, 0.02763133, 0.02926931, 0.0302894, 0.03061605,\n",
    "           0.03068016, 0.03038397, 0.02999401, 0.02926168])\n",
    "        ufr = 0.042\n",
    "        alpha = 0.05        \n",
    "\n",
    "        # For a single maturity\n",
    "        t = 5\n",
    "        price = P0t_f(t, m_obs, Qb, ufr, alpha)\n",
    "        print(f\"Price of zero-coupon bond with maturity {t} years is: {price}\")\n",
    "\n",
    "        # For multiple maturities\n",
    "        t = [1, 3, 5, 10]\n",
    "        prices = P0t_f(t, m_obs, Qb, ufr, alpha)\n",
    "        print(\"Prices of zero-coupon bonds with maturities\", t, \"years are:\")\n",
    "        print(prices)\n",
    "\n",
    "    Implemented by Gregor Fabjan from Open-Source Modelling on 29/07/2023\n",
    "    \"\"\"\n",
    "\n",
    "    if isinstance(t, np.ndarray): # If the input is a numpy array\n",
    "        y0t = sw_extrapolate(np.transpose(t), m_obs, Qb, ufr, alpha)\n",
    "        out = np.exp(-y0t*np.transpose(t)) \n",
    "    else:# If the input is a single maturity given as a number\n",
    "        y0t = sw_extrapolate(np.transpose([t]), m_obs, Qb, ufr, alpha)\n",
    "        out = np.exp(-y0t*[t]) \n",
    "    return out"
   ]
  },
  {
   "cell_type": "markdown",
   "id": "a8134f90",
   "metadata": {},
   "source": [
    " "
   ]
  },
  {
   "cell_type": "markdown",
   "id": "500b3874",
   "metadata": {},
   "source": [
    " "
   ]
  },
  {
   "cell_type": "markdown",
   "id": "61ad3ee1",
   "metadata": {},
   "source": [
    " "
   ]
  },
  {
   "cell_type": "markdown",
   "id": "4d2b4a2b",
   "metadata": {},
   "source": [
    " "
   ]
  },
  {
   "cell_type": "markdown",
   "id": "8ac6b55b",
   "metadata": {},
   "source": [
    "The function f0t calculates the instantaneous forward rate at time `t` using a numerical approximation with a step size given by the parameter `epsilon`. The calculation of the instantaneous forward rate relies on the difference between two zero-coupon bond prices. One maturing at time $t +\\epsilon $ and another at time $t - \\epsilon $. \n"
   ]
  },
  {
   "cell_type": "markdown",
   "id": "b03afae4",
   "metadata": {},
   "source": [
    "\n",
    "The centered finite difference method estimates the instantaneous forward rate using the following approximation:\n",
    "\n",
    "$$ f(0,t) \\approx -\\frac{\\log(P(0, t+\\epsilon)) - \\log(P(0, t-\\epsilon)) }{2 \\epsilon}  $$"
   ]
  },
  {
   "cell_type": "code",
   "execution_count": 101,
   "id": "591a03e9",
   "metadata": {},
   "outputs": [],
   "source": [
    "def f0t(t, P0t, epsilon):\n",
    "    \"\"\"\n",
    "    Calculates the instantaneous forward rate for time t given the zero-coupon\n",
    "    bond price function P0t, using the centered finite difference method.\n",
    "\n",
    "    Args:\n",
    "        t (float): Time at which the instantaneous forward rate is calculated.\n",
    "        P0t (function): Function that takes a float argument `t` and \n",
    "            returns the price of a zero-coupon bond with maturity `t` and\n",
    "            notional amount 1.\n",
    "        epsilon (float): Step size for the centered finite difference method.\n",
    "\n",
    "    Returns:\n",
    "        float: The instantaneous forward rate at time t, calculated using the \n",
    "            centered finite difference method.\n",
    "    \"\"\"\n",
    "    \n",
    "    p_plus = P0t(t + epsilon)\n",
    "    p_minus = P0t(t - epsilon)\n",
    "    return -(np.log(p_plus) - np.log(p_minus)) / (2 * epsilon)"
   ]
  },
  {
   "cell_type": "markdown",
   "id": "a47a8498",
   "metadata": {},
   "source": [
    "The function HW_theta calculates the time depened $\\theta$. In this implementation, this parameter is calibrated to the term stucture obtained using the EIOPA RFR. The term structure is specified by the P0t function that is passed as argument.\n",
    "\n",
    "The parameter `theta` is calibrated using the following relation:\n",
    "\n",
    "$$ \\theta(t) =  \\frac{\\partial f(0,t)}{\\partial t} + a f(0,t) + \\frac{\\sigma^2}{2 a}\\big( 1 - e^{-2 a t} \\big)    $$\n",
    "\n",
    "Where:\n",
    " - `t` is the time at which we wish to calibrate $\\theta$ to the term structure. (Ex. 18 months means t = 1.5).\n",
    " - $a$ is the $ a$ parameter in the Hull-White model.\n",
    " - $\\sigma$ is the volatility parameter $ \\sigma$ of the Hull-White model.\n",
    " - $f(0,t)$ is the instantaneous forward rate at time `t` estimated at time 0.\n",
    " - $\\theta(t)$ is the time dependet parameter $\\theta$ of the Hull-White model."
   ]
  },
  {
   "cell_type": "code",
   "execution_count": 102,
   "id": "ee0622e6",
   "metadata": {},
   "outputs": [],
   "source": [
    "def HW_theta(a, sigma, P0t, eps):\n",
    "    \"\"\"\n",
    "    Calculates the theta value for the Hull-White model \n",
    "    using a numeric approximation of the instantaneous forward rate \n",
    "    and the spot rate.\n",
    "\n",
    "    Args:\n",
    "        a (float): Mean reversion rate parameter a.\n",
    "        sigma (float): Volatility parameter sigma.\n",
    "        P0t (function handle): Function that calculates the price of a\n",
    "            zero-coupon bond as a function of time.\n",
    "        eps (float): Increment of time used in the numeric calculation of the \n",
    "            derivative of the instantaneous forward rate.\n",
    "\n",
    "    Returns:\n",
    "        theta (function): Function that returns the parameter theta of \n",
    "            Hull-White model at the time t implied by the calibration.\n",
    "    \"\"\"\n",
    "    \n",
    "    def theta(t):\n",
    "        insta_forward_term = (f0t(t+eps, P0t, eps) \n",
    "                                         -f0t(t-eps,P0t,eps))/(2.0*eps)\n",
    "                                         \n",
    "        forward_term = a*f0t(t, P0t, eps)\n",
    "        variance_term = sigma**2/(2.0*a)*(1.0-np.exp(-2.0*a*t))\n",
    "        return insta_forward_term + forward_term + variance_term\n",
    "    return theta"
   ]
  },
  {
   "cell_type": "code",
   "execution_count": 103,
   "id": "4872b0d6",
   "metadata": {},
   "outputs": [],
   "source": [
    "def Paths(NoOfPaths, NoOfSteps, T, P0t, a, sigma, epsilon):\n",
    "    \"\"\"\n",
    "    Simulates a series of stochastic interest rate paths using the Hull-White model.\n",
    "\n",
    "    Args:\n",
    "        NoOfPaths (int): number of paths to simulate.\n",
    "        NoOfSteps (int): number of time steps per path.\n",
    "        T (float): end of the modelling window (in years). \n",
    "            (Ex. a modelling window of 50 years means T=50).\n",
    "        P0t (function): function that calculates the price of a \n",
    "            zero coupon bond issued at time 0 that matures at time t, with a\n",
    "            notional amount 1 and discounted using the assumed term structure.\n",
    "        a (float): mean reversion speed parameter a of \n",
    "            the Hull-White model.\n",
    "        sigma (float): volatility parameter sigma of the Hull-White model.\n",
    "        epsilon (float): size of the increment used for finite \n",
    "            difference approximation.\n",
    "\n",
    "    Returns:\n",
    "        dict: A dictionary containing arrays with time steps, interest rate paths, \n",
    "            and bond prices.\n",
    "            time (array): array of time steps.\n",
    "            R (array): array of interest rate paths with \n",
    "              shape (NoOfPaths, NoOfSteps+1).\n",
    "            M (array): array of bond prices with \n",
    "              shape (NoOfPaths, NoOfSteps+1).\n",
    "\n",
    "    Implemented by Gregor Fabjan from Open-Source Modelling on 29/07/2023.\n",
    "\n",
    "    Original inspiration: https://www.youtube.com/watch?v=BIZdwUDbnDo\n",
    "    \"\"\"       \n",
    "    \n",
    "    # Initial instantaneous forward rate at time t-> 0 (also spot rate at time 0).\n",
    "    # r(0) = f(0,0) = - partial derivative of log(P_mkt(0, epsilon) w.r.t epsilon)\n",
    "    r0 = f0t(epsilon, P0t, epsilon)\n",
    "    \n",
    "    # Calculation of theta = 1/a * partial derivative of f(0,t) w.r.t. t \n",
    "    # + f(0,t) + sigma^2/(2 a^2)* (1-exp(-2*a*t)).\n",
    "    theta = HW_theta(a, sigma, P0t, epsilon)\n",
    "    \n",
    "    # Generate the single source of random noise.\n",
    "    Z = np.random.normal(0.0, 1.0, [NoOfPaths, NoOfSteps])\n",
    "\n",
    "    # Initialize arrays\n",
    "    \n",
    "    # Vector of time moments. Difference between two time moments is equal \n",
    "    # to the time increment.\n",
    "    time = np.linspace(0, T, NoOfSteps+1) \n",
    "    \n",
    "    W = np.zeros([NoOfPaths, NoOfSteps+1])\n",
    "    \n",
    "    # Initialize vector with interest rate increments\n",
    "    R = np.zeros([NoOfPaths, NoOfSteps+1]) \n",
    "    \n",
    "    # First interest rate equals the instantaneous forward (spot) \n",
    "    # rate at time 0.\n",
    "    R[:, 0] = r0 \n",
    "    dt = T/float(NoOfSteps) # Size of increments between two steps\n",
    "    \n",
    "    for iTime in range(1, NoOfSteps+1): # For each time increment\n",
    "        # Making sure the samples from the normal distribution have a mean of 0 \n",
    "        # and variance 1\n",
    "        if NoOfPaths > 1:\n",
    "            Z[:,iTime-1] = (Z[:,iTime-1]-np.mean(Z[:,iTime-1]))/np.std(Z[:,iTime-1])\n",
    "            \n",
    "        # Apply the Euler-Maruyama discretisation scheme for the Hull-White model\n",
    "        # at each time increment.\n",
    "        W[:,iTime] = W[:,iTime-1] + np.power(dt,0.5)*Z[:, iTime-1] \n",
    "        noise_term = sigma* (W[:,iTime]-W[:,iTime-1])\n",
    "        rate_term = (theta(time[iTime-1])-a*R[:,iTime-1])*dt\n",
    "        R[:,iTime] = R[:,iTime-1] + rate_term + noise_term\n",
    "    \n",
    "    # Vectorized numeric integration using the Euler integration method .\n",
    "    M = np.exp(0.5 * (R[:, :-1] + R[:, 1:]) * dt) \n",
    "    M = np.insert(M, 0, 1, axis=1).cumprod(axis=1)\n",
    "    \n",
    "    # Output is a dataframe with time moment, the interest rate path and the price\n",
    "    # of a zero coupon bond issued at time 0 that matures at the selected time \n",
    "    # moment with a notional value of 1.\n",
    "    paths = {\"time\":time, \"R\":R, \"M\":M}\n",
    "    return paths"
   ]
  },
  {
   "cell_type": "markdown",
   "id": "577414a1",
   "metadata": {},
   "source": [
    "[Back to the top](#0)\n",
    "<a id=\"9\"></a> <br>\n",
    "## Comparison between average ESG output and the assumed term structure \n",
    "\n",
    "In this final section, the ESG output is generated and visualy compared to the assumed term structure."
   ]
  },
  {
   "cell_type": "code",
   "execution_count": 104,
   "id": "ccd515cd",
   "metadata": {},
   "outputs": [],
   "source": [
    "def mainCalculation(NoOfPaths, NoOfSteps, T, a, sigma, P0t, epsilon):\n",
    "    \"\"\"\n",
    "    Calculates and plots the prices of zero-coupon bonds (ZCB) calculated \n",
    "    using the Hull-White model`s analytical formula and the Monte Carlo simulation.\n",
    "    \n",
    "    Args:\n",
    "        NoOfPaths (int): number of Monte Carlo simulation paths.\n",
    "        NoOfSteps (int): number of time steps per path.\n",
    "        T (float): length in years of the modelling window (Ex. 50 years means t=50).\n",
    "        a (float): mean reversion rate parameter a of the Hull-White model.\n",
    "        sigma (float): volatility parameter sigma of the Hull-White model.\n",
    "        P0t (function): function that calculates the price of a zero coupon bond issued. \n",
    "           at time 0 that matures at time t, with a notional amount 1 and discounted using\n",
    "           the assumed term structure.\n",
    "        epsilon (float): the size of the increment  used for finite difference approximation.\n",
    "    \n",
    "    Returns:\n",
    "        Nothing.\n",
    "    \"\"\"\n",
    " \n",
    "    paths = Paths(NoOfPaths, NoOfSteps, T, P0t, a, sigma, epsilon)\n",
    "    M = paths[\"M\"]\n",
    "    t = paths[\"time\"]\n",
    "    \n",
    "    # Compare the price of an option on a ZCB from Monte Carlo and the analytical expression\n",
    "    P = np.zeros([NoOfSteps+1])\n",
    "    for i in range(0, NoOfSteps+1):\n",
    "        P[i] = np.mean(1.0/M[:, i])\n",
    "    plt.figure(1)\n",
    "    plt.grid()\n",
    "    plt.xlabel(\"t\")\n",
    "    plt.ylabel(\"P(0,t)\")\n",
    "    plt.plot(t,P0t(t))\n",
    "    plt.plot(t,P,\"--r\")\n",
    "    plt.legend([\"P(0,t) market\", \"P(0,t) Monte Carlo\"])\n",
    "    plt.title(\"ZCBs from Hull-White model\")"
   ]
  },
  {
   "cell_type": "code",
   "execution_count": 105,
   "id": "df0e68ad",
   "metadata": {},
   "outputs": [],
   "source": [
    "# Zero coupon bond prices calculated using the assumed term structure\n",
    "P0t = lambda t: P0t_f(t, m_obs, Qb, ufr, alpha)"
   ]
  },
  {
   "cell_type": "code",
   "execution_count": 106,
   "id": "000e6f24",
   "metadata": {},
   "outputs": [
    {
     "data": {
      "image/png": "[encoded data removed]",
      "text/plain": [
       "<Figure size 432x288 with 1 Axes>"
      ]
     },
     "metadata": {
      "needs_background": "light"
     },
     "output_type": "display_data"
    }
   ],
   "source": [
    "# Final comparison\n",
    "mainCalculation(NoOfPaths, NoOfSteps, T, a, sigma, P0t, epsilon)"
   ]
  },
  {
   "cell_type": "markdown",
   "id": "982edefa",
   "metadata": {},
   "source": [
    "[Back to the top](#0)\n",
    "<a id=\"1O\"></a> <br>\n",
    "## Comparison between simulated an calculated volatility\n",
    "\n",
    "The Hull-White model is one of the few widely used short rate models that has a closed-form formula for the calculation of the volatility. The formula is:\n",
    "\n",
    "$$ V[r(t)｜F_0] = \\frac{\\sigma^2}{2a}\\big( 1-e^{-2at} \\big) $$\n",
    "\n",
    "This fact makes it possible to compare the volatility calculated from the parameters with the simulated volatility. \n"
   ]
  },
  {
   "cell_type": "code",
   "execution_count": 107,
   "id": "2b97115c",
   "metadata": {},
   "outputs": [],
   "source": [
    "paths = Paths(NoOfPaths, NoOfSteps, T, P0t, a, sigma, epsilon)\n",
    "R = paths[\"R\"]\n",
    "t = paths[\"time\"]"
   ]
  },
  {
   "cell_type": "code",
   "execution_count": 108,
   "id": "5aa1e3f8",
   "metadata": {},
   "outputs": [],
   "source": [
    "time = np.linspace(start=0,stop=T,num=NoOfSteps+1, endpoint=True)"
   ]
  },
  {
   "cell_type": "code",
   "execution_count": 109,
   "id": "21b4c1b2",
   "metadata": {},
   "outputs": [],
   "source": [
    "var_series = np.var(R, axis=0)"
   ]
  },
  {
   "cell_type": "code",
   "execution_count": 110,
   "id": "81f48648",
   "metadata": {},
   "outputs": [],
   "source": [
    "vol = sigma**2/(2*a)*(1-np.exp(-2*a*time))"
   ]
  },
  {
   "cell_type": "code",
   "execution_count": 112,
   "id": "cdeb756f",
   "metadata": {},
   "outputs": [],
   "source": [
    "mean_series = np.mean(R, axis=0)"
   ]
  },
  {
   "cell_type": "code",
   "execution_count": 113,
   "id": "35ee8ce0",
   "metadata": {},
   "outputs": [],
   "source": [
    "ML_mean = np.zeros_like(mean_series)\n",
    "count = 0\n",
    "for iTime in time:\n",
    "    ML_mean[count] = mean_series[0]*np.exp(-a*iTime) + f0t(iTime, P0t, epsilon)-f0t(epsilon, P0t, epsilon)*np.exp(-a*iTime)+sigma*sigma/(2*a*a) * (1- 2*np.exp(-a*iTime)+np.exp(-2*a*iTime))\n",
    "    count+=1"
   ]
  },
  {
   "cell_type": "code",
   "execution_count": 122,
   "id": "94b0b2c8",
   "metadata": {},
   "outputs": [],
   "source": [
    "ML_mean_sim = np.zeros_like(E)\n",
    "count = 0\n",
    "for iTime in time:\n",
    "    ML_mean_sim[count] = mean_series[0]*np.exp(-a*iTime) + f0t(iTime, P0t, epsilon)-f0t(epsilon, P0t, epsilon)*np.exp(-a*iTime)+sigma*sigma/(2*a*a) * (1- 2*np.exp(-a*iTime)+np.exp(-2*a*iTime))\n",
    "    count+=1"
   ]
  },
  {
   "cell_type": "code",
   "execution_count": 127,
   "id": "09e8683d",
   "metadata": {},
   "outputs": [
    {
     "data": {
      "image/png": "[encoded data removed]",
      "text/plain": [
       "<Figure size 576x432 with 2 Axes>"
      ]
     },
     "metadata": {
      "needs_background": "light"
     },
     "output_type": "display_data"
    }
   ],
   "source": [
    "fig, (ax1, ax2) = plt.subplots(2, 1)\n",
    "\n",
    "ax1.plot(time, E.values, \"--r\", label=\"Spot rate mean value\")\n",
    "ax1.plot(time, ML_mean_sim, color='tab:orange', label=\"Calculated mean\")\n",
    "ax1.plot(time, mean_series, color='tab:grey', label=\"Control mean\")\n",
    "\n",
    "#ax1.axhline(y = test_martingale_threshold_mean*100, color = 'r', label=\"Success threshold\")\n",
    "ax1.legend()\n",
    "ax1.set_xlabel(\"time (months)\")\n",
    "ax1.set_ylabel(\"difference\")\n",
    "ax1.set_title(\"Mean of simulation vs maximum likelihood calculated\")\n",
    "fig.tight_layout(h_pad=2)\n",
    "\n",
    "ax2.plot(time, V.values, \"--r\", label=\"Spot rate volatility\")\n",
    "ax2.plot(time, vol, color='tab:orange', label=\"Calculated volatility\")\n",
    "ax2.plot(time, var_series, color='tab:grey', label=\"Control volatility\")\n",
    "\n",
    "ax2.legend()\n",
    "ax2.set_xlabel(\"time (months)\")\n",
    "ax2.set_ylabel(\"Spot rate scenarios\")\n",
    "ax2.set_title(\"Volatility of simulation vs calculated volatility\")\n",
    "\n",
    "ax1.yaxis.set_major_formatter(mtick.PercentFormatter())\n",
    "ax2.yaxis.set_major_formatter(mtick.PercentFormatter())\n",
    "\n",
    "fig.set_figwidth(8)\n",
    "fig.set_figheight(6)\n",
    "\n",
    "plt.show()"
   ]
  }
 ],
 "metadata": {
  "kernelspec": {
   "display_name": "Python 3 (ipykernel)",
   "language": "python",
   "name": "python3"
  },
  "language_info": {
   "codemirror_mode": {
    "name": "ipython",
    "version": 3
   },
   "file_extension": ".py",
   "mimetype": "text/x-python",
   "name": "python",
   "nbconvert_exporter": "python",
   "pygments_lexer": "ipython3",
   "version": "3.9.7"
  }
 },
 "nbformat": 4,
 "nbformat_minor": 5
}
