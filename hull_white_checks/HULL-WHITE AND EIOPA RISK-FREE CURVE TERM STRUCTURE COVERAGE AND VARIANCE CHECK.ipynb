{
 "cells": [
  {
   "cell_type": "markdown",
   "id": "6b04119e",
   "metadata": {},
   "source": [
    "# HULL-WHITE AND EIOPA RISK-FREE CURVE TERM STRUCTURE COVERAGE AND VARIANCE CHECK\n",
    "<a id=\"0\"></a> <br>\n",
    "\n",
    "The Hull-White model (HW) is a very popular choice when modeling interest rates. For example economic scenario generators can use the HW model to simulated risk-free curves. This notebook is devided into 4 sections. The first section uses the EIOPA Risk-Free-Rate (RFR) calibration to produce a yield curve. In the second section, this yield curve is used to produce a number of stochastic scenarios using a simple implementation of the HW model. The third section checks the goodness of fit of the simulated paths compared to the input term structure. The final section calculates the closed form variance and compares it to the simulated variance.\n",
    "\n",
    "HW model is presented in two different forms in literature. This script starts from the folowing diferential equation:\n",
    "\n",
    "$$ dr(t) = \\big( \\theta(t) - a r(t) \\big) dt + \\sigma dW(t) $$\n",
    "\n",
    "Where:\n",
    " - t is time.\n",
    " - r(t) is the short rate at time t.\n",
    " - $\\theta (t)$ is the time-dependent parameter theta.\n",
    " - a is the mean reversion speed parameter.\n",
    " - $\\sigma$ is the volatility parameter.\n",
    " - $W(t)$ is a standard Brownian motion.\n"
   ]
  },
  {
   "cell_type": "markdown",
   "id": "1fec83f5",
   "metadata": {},
   "source": [
    "### Summary\n",
    "\n",
    "The goal of this script is to answer the following questions: \n",
    " - Is the HW simulation correctly implemented\n",
    " - Is the company is using a sufficienty large number of stochastic scenarios to aquaretly cover the term structure. \n",
    " - Are the parameters used in the simulation correctly implemented."
   ]
  },
  {
   "cell_type": "markdown",
   "id": "c3d4aca5",
   "metadata": {},
   "source": [
    "# Table of Contents  \n",
    "1. [Note on Smith & Wilson algorithm](#1)\n",
    "2. [Success criteria](#2)\n",
    "3. [Data requirements](#3)\n",
    "4. [Hull-White Parameters](#4)\n",
    "5. [External dependencies](#5)\n",
    "6. [Importing data](#6)\n",
    "7. [Smith & Wilson](#7)\n",
    "8. [Hull-White interest rate simulation functions](#8)\n",
    "9. [Test 1; Comparison between ESG output and assumed term structure](#9)\n",
    "10. [Test 2; Comparison between simulated an calculated volatility](#10)\n",
    "11. [Conclusion](#11)"
   ]
  },
  {
   "cell_type": "markdown",
   "id": "91cd8582",
   "metadata": {},
   "source": [
    "<a id=\"1\"></a> <br>\n",
    "## Note on Smith & Wilson algorithm\n",
    "\n",
    "The validation of RFR rate is performed in another script that checks the correct calibration of the EIOPA's RFR output, also available on OSM Github as a [Jupyter notebook](https://github.com/open-source-modelling/insurance_jupyter/tree/main/enough_stochastic_scenarios).\n",
    "\n",
    "This example uses a modified Smith&Wilson implementation (The original implementation is availible on [GitHub](https://github.com/open-source-modelling):\n",
    "-  [Python](https://github.com/open-source-modelling/insurance_python/tree/main/smith%26wilson)\n",
    "-  [Matlab](https://github.com/open-source-modelling/insurance_matlab/tree/main/smith%26wilson)\n",
    "-  [JavaScript](https://github.com/open-source-modelling/insurance_javascript/tree/main/smith-wilson)\n"
   ]
  },
  {
   "cell_type": "markdown",
   "id": "698030fb",
   "metadata": {},
   "source": [
    "#### Limitations of the implementation\n",
    "This script generates a synthetic dataset of ESG scenarios. It also simplifies the day-count convention with the assumption that each month represents 1/12-th of a year. The discretisation and numeric integration uses the simplest Euler scheme and the rectangular rule respectively.\n",
    "\n",
    "Only two checks are performed to verify the correctnes and the properties of the result.\n",
    "\n",
    "Only a single EIOPA curve is used (No volatility adjustment, Euro curve)."
   ]
  },
  {
   "cell_type": "markdown",
   "id": "a302c5b4",
   "metadata": {},
   "source": [
    "<a id=\"2\"></a> <br>\n",
    "## Success criteria\n",
    "\n",
    "The following success criteria is defined:\n",
    "-  Maximum difference between the average simulated yield curve and the one provided as input is less than 0.1 bps.\n",
    "-  Average difference between the average simulated curve and the one provided as input is less than 0.05 bps.\n",
    "-  Maximum difference between the empirical volatility of the simulated yield curve and the theoretical volatility is less than 0.1 bps.\n",
    "-  Average difference between the empirical volatility of the simulated yield curve and the theoretical volatility is less than 0.05 bps."
   ]
  },
  {
   "cell_type": "code",
   "execution_count": 3,
   "id": "6d6e95b1",
   "metadata": {},
   "outputs": [],
   "source": [
    "statistics_mean_max_diff_in_bps = 500\n",
    "statistics_mean_average_diff_in_bps = 100\n",
    "statistics_vol_max_diff_in_bps = 2\n",
    "statistics_vol_average_diff_in_bps = 1"
   ]
  },
  {
   "cell_type": "markdown",
   "id": "a060ea9c",
   "metadata": {},
   "source": [
    "The success function that is called at the end of every check is the following (With the threasholds that are defined above)."
   ]
  },
  {
   "cell_type": "code",
   "execution_count": 4,
   "id": "b624aa9a",
   "metadata": {},
   "outputs": [],
   "source": [
    "def SuccessTest(TestStatistics, threshold_max, threshold_mean):\n",
    "    out1 = False\n",
    "    out2 = False\n",
    "    if max(TestStatistics)<threshold_max:\n",
    "        print(\"Test passed\")\n",
    "        out1 = True\n",
    "    else:\n",
    "        print(\"Test failed\")\n",
    "\n",
    "    if np.mean(TestStatistics)<threshold_mean:\n",
    "        print(\"Test passed\")\n",
    "        out2 = True\n",
    "    else:\n",
    "        print(\"Test failed\")\n",
    "    return [out1, out2]"
   ]
  },
  {
   "cell_type": "markdown",
   "id": "649ad6eb",
   "metadata": {},
   "source": [
    "This implementation looks at two kinds of test statistics. The average deviation and the maximum deviation. \n",
    "\n",
    "The average deviation is defined as:\n",
    "\n",
    "<font size=4>\n",
    "$$S_{AVERAGE} = \\frac{1}{N} \\sum_{t = 0}^T \\left|x_{THEORETICAL}(t) - x_{EST}(t) \\right|$$\n",
    "</font> <br>\n",
    "\n",
    "The maximum deviation is defined as:\n",
    "<font size=4>\n",
    "$$ S_{MAX} = \\max_t \\left| x_{THEORETICAL}(t) - x_{EST}(t) \\right| $$\n",
    "</font> <br>\n",
    "\n",
    "Where `N` is the number of time increments and `T` is the maximum maturity \n",
    "</font> <br>\n"
   ]
  },
  {
   "cell_type": "markdown",
   "id": "07e93aac",
   "metadata": {},
   "source": [
    "<a id=\"3\"></a> <br>\n",
    "## Data requirements\n",
    "\n",
    "This script contains the EIOPA RFR published for March 2023. The publication can be found on the [EIOPA RFR website](https://www.eiopa.europa.eu/tools-and-data/risk-free-interest-rate-term-structures_en)."
   ]
  },
  {
   "cell_type": "markdown",
   "id": "31d36679",
   "metadata": {},
   "source": [
    "The observed maturities `m_obs` and the calibrated vector `Qb` can be found in the published Excel workbook *EIOPA_RFR_20230331_Qb_SW.xlsx*.\n",
    "\n",
    "The Euro curve without the volatility adjustment (VA) is used. It can be found in the sheet *SW_Qb_no_VA*. This example is focused on the EUR curve, but can be easily extended to other curves."
   ]
  },
  {
   "cell_type": "markdown",
   "id": "b2f16f4f",
   "metadata": {},
   "source": [
    "Target maturities (`t_obs`), the additional parameters (`UFR` and `alpha`), and the given curve can be found in the Excel *EIOPA_RFR_20230331_Term_Structures.xlsx*. Sheet *RFR_spot_no_VA* looks at the curve without the Volatility Adjustment."
   ]
  },
  {
   "cell_type": "markdown",
   "id": "b50e7ce9",
   "metadata": {},
   "source": [
    "<a id=\"4\"></a> <br>\n",
    "## Hull-White Parameters"
   ]
  },
  {
   "cell_type": "markdown",
   "id": "7378ce96",
   "metadata": {},
   "source": [
    "This example does not have a specific dataset in mind therefore, a set of dummy parameters is used for the Hull-White model:"
   ]
  },
  {
   "cell_type": "code",
   "execution_count": 5,
   "id": "738c22e8",
   "metadata": {},
   "outputs": [],
   "source": [
    "NoOfPaths = 20000 # Number of stochastic scenarios\n",
    "NoOfSteps = 600  # Number of equidistand discrete modelling points (50*12 = 600)\n",
    "T = 50.0         # Time horizon in years (A time horizon of 50 years; T=50)\n",
    "a = 0.02         # Hull-White mean reversion parameter a\n",
    "sigma = 0.02     # Hull-White volatility parameter sigma\n",
    "epsilon = 0.01   # Incremental distance used to calculate for numerical approximation\n",
    "                 # of for example the instantaneous spot rate (Ex. 0.01 will use an interval \n",
    "                 # of 0.01 as a discreete approximation for a derivative)"
   ]
  },
  {
   "cell_type": "markdown",
   "id": "e1798e83",
   "metadata": {},
   "source": [
    " "
   ]
  },
  {
   "cell_type": "markdown",
   "id": "6d168914",
   "metadata": {},
   "source": [
    " "
   ]
  },
  {
   "cell_type": "markdown",
   "id": "b6346344",
   "metadata": {},
   "source": [
    " "
   ]
  },
  {
   "cell_type": "markdown",
   "id": "aebaf417",
   "metadata": {},
   "source": [
    " "
   ]
  },
  {
   "cell_type": "markdown",
   "id": "16d52409",
   "metadata": {},
   "source": [
    " "
   ]
  },
  {
   "cell_type": "markdown",
   "id": "f82bede2",
   "metadata": {},
   "source": [
    " "
   ]
  },
  {
   "cell_type": "markdown",
   "id": "e792c287",
   "metadata": {},
   "source": [
    " "
   ]
  },
  {
   "cell_type": "markdown",
   "id": "926e9c50",
   "metadata": {},
   "source": [
    " "
   ]
  },
  {
   "cell_type": "markdown",
   "id": "1d738085",
   "metadata": {},
   "source": [
    " "
   ]
  },
  {
   "cell_type": "markdown",
   "id": "67fe84f9",
   "metadata": {},
   "source": [
    " "
   ]
  },
  {
   "cell_type": "markdown",
   "id": "122e5986",
   "metadata": {},
   "source": [
    " "
   ]
  },
  {
   "cell_type": "markdown",
   "id": "7298077f",
   "metadata": {},
   "source": [
    " "
   ]
  },
  {
   "cell_type": "markdown",
   "id": "5ef721a4",
   "metadata": {},
   "source": [
    " "
   ]
  },
  {
   "cell_type": "markdown",
   "id": "0ef1c628",
   "metadata": {},
   "source": [
    " "
   ]
  },
  {
   "cell_type": "markdown",
   "id": "58c4cda4",
   "metadata": {},
   "source": [
    "<a id=\"5\"></a> <br>\n",
    "         \n",
    "## External dependencies"
   ]
  },
  {
   "cell_type": "markdown",
   "id": "dbeb172b",
   "metadata": {},
   "source": [
    "This script uses a set of well known Python packages that are commonly used in finance. Numpy for the mathematical operation and matrix multiplication, Pandas for its table manipulation functionality and Matplotlib for charts."
   ]
  },
  {
   "cell_type": "code",
   "execution_count": 6,
   "id": "06f5daac",
   "metadata": {},
   "outputs": [],
   "source": [
    "import numpy as np\n",
    "import pandas as pd\n",
    "import matplotlib as mpl\n",
    "import matplotlib.pyplot as plt"
   ]
  },
  {
   "cell_type": "code",
   "execution_count": 43,
   "id": "5f0efb97",
   "metadata": {},
   "outputs": [
    {
     "name": "stdout",
     "output_type": "stream",
     "text": [
      "The Numpy version is 1.20.3.\n"
     ]
    }
   ],
   "source": [
    "print(f\"The Numpy version is {np.__version__}.\")"
   ]
  },
  {
   "cell_type": "code",
   "execution_count": 44,
   "id": "15aa3e14",
   "metadata": {},
   "outputs": [
    {
     "name": "stdout",
     "output_type": "stream",
     "text": [
      "The Pandas version is 1.3.4.\n"
     ]
    }
   ],
   "source": [
    "print(f\"The Pandas version is {pd.__version__}.\")"
   ]
  },
  {
   "cell_type": "code",
   "execution_count": 45,
   "id": "87660d5f",
   "metadata": {},
   "outputs": [
    {
     "name": "stdout",
     "output_type": "stream",
     "text": [
      "The Matplotlib version is 3.4.3.\n"
     ]
    }
   ],
   "source": [
    "print(f\"The Matplotlib version is {mpl.__version__}.\")"
   ]
  },
  {
   "cell_type": "markdown",
   "id": "2e3d51a8",
   "metadata": {},
   "source": [
    "<a id=\"6\"></a> <br>\n",
    "## Importing data"
   ]
  },
  {
   "cell_type": "markdown",
   "id": "60898959",
   "metadata": {},
   "source": [
    "This section specifies the names of external files with the information about the term structure. In particular, the Smith-Wilson calibration parameters and the term structure that is used to generate the stochastic paths."
   ]
  },
  {
   "cell_type": "code",
   "execution_count": 10,
   "id": "2183da18",
   "metadata": {},
   "outputs": [],
   "source": [
    "selected_param_file = 'Param_no_VA.csv'\n",
    "selected_curves_file = 'Curves_no_VA.csv'"
   ]
  },
  {
   "cell_type": "code",
   "execution_count": 11,
   "id": "e435f175",
   "metadata": {},
   "outputs": [],
   "source": [
    "param_raw = pd.read_csv(selected_param_file, sep=',', index_col=0)"
   ]
  },
  {
   "cell_type": "markdown",
   "id": "e899f27a",
   "metadata": {},
   "source": [
    "EIOPA provides curves for multiple countries. In this script, Slovenia is used as an example, but any other country can be substituted into the country variable."
   ]
  },
  {
   "cell_type": "code",
   "execution_count": 12,
   "id": "da95b722",
   "metadata": {},
   "outputs": [],
   "source": [
    "country = \"Slovenia\""
   ]
  },
  {
   "cell_type": "code",
   "execution_count": 13,
   "id": "e6935c8d",
   "metadata": {},
   "outputs": [],
   "source": [
    "maturities_country_raw = param_raw.loc[:,country+\"_Maturities\"].iloc[6:]\n",
    "param_country_raw = param_raw.loc[:,country + \"_Values\"].iloc[6:]\n",
    "extra_param = param_raw.loc[:,country + \"_Values\"].iloc[:6]"
   ]
  },
  {
   "cell_type": "code",
   "execution_count": 14,
   "id": "3709531b",
   "metadata": {},
   "outputs": [],
   "source": [
    "relevant_positions = pd.notna(maturities_country_raw.values)"
   ]
  },
  {
   "cell_type": "code",
   "execution_count": 15,
   "id": "647ef9b1",
   "metadata": {},
   "outputs": [],
   "source": [
    "maturities_country = maturities_country_raw.iloc[relevant_positions]"
   ]
  },
  {
   "cell_type": "code",
   "execution_count": 16,
   "id": "8b6822f7",
   "metadata": {},
   "outputs": [],
   "source": [
    "Qb = param_country_raw.iloc[relevant_positions]"
   ]
  },
  {
   "cell_type": "code",
   "execution_count": 17,
   "id": "2e549304",
   "metadata": {},
   "outputs": [],
   "source": [
    "curve_raw = pd.read_csv(selected_curves_file, sep=',',index_col=0)"
   ]
  },
  {
   "cell_type": "code",
   "execution_count": 18,
   "id": "26793b8c",
   "metadata": {},
   "outputs": [],
   "source": [
    "curve_country = curve_raw.loc[:,country]"
   ]
  },
  {
   "cell_type": "markdown",
   "id": "b76f503a",
   "metadata": {},
   "source": [
    " "
   ]
  },
  {
   "cell_type": "markdown",
   "id": "22910c29",
   "metadata": {},
   "source": [
    " "
   ]
  },
  {
   "cell_type": "markdown",
   "id": "0249a8a3",
   "metadata": {},
   "source": [
    " "
   ]
  },
  {
   "cell_type": "markdown",
   "id": "4d62102a",
   "metadata": {},
   "source": [
    " "
   ]
  },
  {
   "cell_type": "markdown",
   "id": "17b49387",
   "metadata": {},
   "source": [
    " "
   ]
  },
  {
   "cell_type": "markdown",
   "id": "f4019257",
   "metadata": {},
   "source": [
    " "
   ]
  },
  {
   "cell_type": "markdown",
   "id": "9808a91e",
   "metadata": {},
   "source": [
    " "
   ]
  },
  {
   "cell_type": "markdown",
   "id": "43b83c47",
   "metadata": {},
   "source": [
    " "
   ]
  },
  {
   "cell_type": "markdown",
   "id": "f1bd79cf",
   "metadata": {},
   "source": [
    " "
   ]
  },
  {
   "cell_type": "markdown",
   "id": "ca42bdc5",
   "metadata": {},
   "source": [
    " "
   ]
  },
  {
   "cell_type": "markdown",
   "id": "7b7433bb",
   "metadata": {},
   "source": [
    " "
   ]
  },
  {
   "cell_type": "markdown",
   "id": "7f2511f8",
   "metadata": {},
   "source": [
    "<a id=\"7\"></a> <br>\n",
    "## Smith & Wilson"
   ]
  },
  {
   "cell_type": "markdown",
   "id": "5db1d1d9",
   "metadata": {},
   "source": [
    "In this section, the EIOPA parameters and the EIOPA RFR curve are processed into the correct form that will be used for the rest of the script"
   ]
  },
  {
   "cell_type": "markdown",
   "id": "4d90169a",
   "metadata": {},
   "source": [
    "### Smith & Wilson parameters"
   ]
  },
  {
   "cell_type": "code",
   "execution_count": 19,
   "id": "0eadd369",
   "metadata": {},
   "outputs": [],
   "source": [
    "# Maturity of observations:\n",
    "m_obs = np.transpose(np.array(maturities_country.values))\n",
    "\n",
    "# Ultimate froward rate ufr represents the rate to which the rate curve will \n",
    "# converge as time increases:\n",
    "ufr = extra_param.iloc[3]/100\n",
    "\n",
    "# Convergence speed parameter alpha controls the speed at which the curve \n",
    "# converges towards the ufr from the last liquid point:\n",
    "alpha = extra_param.iloc[4]\n",
    "\n",
    "# For which maturities do we want the SW algorithm to calculate the rates. \n",
    "# In this case, for every year up to 150:\n",
    "m_target = np.transpose(np.arange(1,151)) \n",
    "\n",
    "# Qb calibration vector published by EIOPA for the curve calibration:\n",
    "Qb = np.transpose(np.array(Qb.values))"
   ]
  },
  {
   "cell_type": "markdown",
   "id": "47dfc6f4",
   "metadata": {},
   "source": [
    "### Smith & Wilson calculation functions\n",
    "\n",
    "An independent version of the Smith&Wilson algorithm is implemented. To facilitate this, two functions are taken from the publicly available repository that already contains the complete implementation. It is then modified to accept the product of `Q*b` instead of the calibration vector `b`."
   ]
  },
  {
   "cell_type": "code",
   "execution_count": 20,
   "id": "c1fc9791",
   "metadata": {},
   "outputs": [],
   "source": [
    "def sw_extrapolate(m_target, m_obs, Qb, ufr, alpha, epsilon = 0.00001):\n",
    "    \"\"\"\n",
    "    Interpolate or extrapolate rates for targeted maturities using a \n",
    "    Smith-Wilson algorithm.\n",
    "       sw_extrapolate(m_target, m_obs, Qb, ufr, alpha, epsilon) calculates the rates for \n",
    "           maturities specified in M_Target using the calibration vector b.\n",
    "    Args:\n",
    "        m_target (ndarray): k x 1 array of targeted bond maturities.\n",
    "        m_obs (ndarray): n x 1 array of observed bond maturities.\n",
    "        Qb (ndarray): n x 1 array. Calibration vector.\n",
    "        ufr (float): Ultimate forward rate.\n",
    "        alpha (float): Convergence speed parameter.\n",
    "        epsilon (float): Increment to calculate the instantaneous spot rate.\n",
    "\n",
    "    Returns:\n",
    "        ndarray: k x 1 array of targeted rates for zero-coupon bonds with \n",
    "            maturity specified in m_target.\n",
    "\n",
    "    For more information see \n",
    "    https://www.eiopa.europa.eu/sites/default/files/risk_free_interest_rate\n",
    "        /12092019-technical_documentation.pdf\n",
    "    \"\"\"\n",
    "    \n",
    "    def sw_heart(u, v, alpha):\n",
    "        \"\"\"\n",
    "        Calculate the heart of the Wilson function. sw_heart(u, v, alpha) \n",
    "        calculates the matrix H (Heart of the Wilson function) for maturities \n",
    "        specified by vectors u and v. The formula is taken from the EIOPA technical \n",
    "        specifications paragraph 132.\n",
    "\n",
    "        Args:\n",
    "            u (ndarray): n_1 x 1 vector of maturities.\n",
    "            v (ndarray): n_2 x 1 vector of maturities.\n",
    "            alpha (float): Convergence speed parameter.\n",
    "\n",
    "        Returns:\n",
    "            ndarray: n_1 x n_2 matrix representing the Heart of the Wilson function.\n",
    "        \"\"\"\n",
    "        u_mat = np.tile(u, [v.size, 1]).transpose()\n",
    "        v_mat = np.tile(v, [u.size, 1])\n",
    "        return 0.5 * (alpha * (u_mat + v_mat) + np.exp(-alpha * (u_mat + v_mat)) \n",
    "                      - alpha * np.absolute(u_mat - v_mat) - \n",
    "                      np.exp(-alpha * np.absolute(u_mat - v_mat)))\n",
    "    \n",
    "    # Heart of the Wilson function from paragraph 132\n",
    "    h = sw_heart(m_target, m_obs, alpha) \n",
    "    \n",
    "    # Discount pricing function for targeted maturities from paragraph 147\n",
    "    p = np.exp(-np.log(1 + ufr) * m_target) + np.diag(np.exp(-np.log(1 + ufr) \n",
    "                                                     * m_target)) @ h @ Qb \n",
    "    \n",
    "    # If the first element of m_target is zero, replace it with time \"epsilon\" \n",
    "    # to avoid division by zero error.\n",
    "    m_target[0] = epsilon if m_target[0] == 0 else m_target[0]\n",
    "\n",
    "    return p ** (-1 / m_target) - 1"
   ]
  },
  {
   "cell_type": "markdown",
   "id": "237056a4",
   "metadata": {},
   "source": [
    " "
   ]
  },
  {
   "cell_type": "markdown",
   "id": "75add4e1",
   "metadata": {},
   "source": [
    " "
   ]
  },
  {
   "cell_type": "markdown",
   "id": "66ebad3b",
   "metadata": {},
   "source": [
    " "
   ]
  },
  {
   "cell_type": "markdown",
   "id": "bfb5b275",
   "metadata": {},
   "source": [
    " "
   ]
  },
  {
   "cell_type": "markdown",
   "id": "57cb488b",
   "metadata": {},
   "source": [
    " "
   ]
  },
  {
   "cell_type": "markdown",
   "id": "4db15038",
   "metadata": {},
   "source": [
    " "
   ]
  },
  {
   "cell_type": "markdown",
   "id": "732e8eef",
   "metadata": {},
   "source": [
    "<a id=\"8\"></a> <br>\n",
    "## Hull-White interest rate simulation functions\n",
    "\n",
    "In this step, the Hull-White simulation is implemented. The calculation of a discounted ZCB bond, calculation of a forward rate, the parameter $\\theta $ and finally the generation of multiple sample paths.\n",
    "\n",
    "The function P0t_f() calculates the price of a zero-coupon bond (ZCB) based on the given yield and maturity.\n",
    "\n",
    "$$ P0t = e^{-y0t *t} $$\n",
    "\n",
    "Where:\n",
    " - `t` is the time of interest expressed as a year fraction (Ex. for 18 months, `t` = 1.5).\n",
    " - `y0t` is the yield for single payoff at time `t`.\n",
    " -  `P0t` is the price of a zero-coupon bond issued in time `0` with a notional amount of 1 and maturity at time `t`."
   ]
  },
  {
   "cell_type": "code",
   "execution_count": 21,
   "id": "212e2d40",
   "metadata": {},
   "outputs": [],
   "source": [
    "def P0t_f(t, m_obs, Qb, ufr, alpha):\n",
    "    \"\"\"\n",
    "    Calculates the price of a zero-coupon bond issued at time 0, \n",
    "    for a given maturity 't', using the Smith-Wilson extrapolation technique.\n",
    "    P0t_f(t, m_obs, Qb, ufr, alpha)\n",
    "    \n",
    "    Args:\n",
    "        t (float or ndarray): vector (or a single number) of maturities represented \n",
    "            as time fraction (Ex. for 18 months; t=1.5).\n",
    "        m_obs (ndarray): n x 1 array of observed bond maturities used for \n",
    "            calibration.\n",
    "        Qb (ndarray): n x 1 calibration vector of the Smith-Wilson algorithm \n",
    "           calculated on observed bonds.\n",
    "        ufr (float): Ultimate forward rate parameter for the Smith-Wilson algorithm.\n",
    "        alpha (float): Convergence speed parameter for the Smith-Wilson algorithm.\n",
    "    \n",
    "    Returns:\n",
    "        ndarray: n x 1 the price of zero-coupon bonds issued at time 0 with a notional amount of 1\n",
    "            and maturity t.   \n",
    "        \n",
    "    Example of use\n",
    "        m_obs = np.array([1, 2, 3, 5, 7, 10, 15, 20, 30])\n",
    "        Qb = np.array([0.02474805, 0.02763133, 0.02926931, 0.0302894, 0.03061605,\n",
    "           0.03068016, 0.03038397, 0.02999401, 0.02926168])\n",
    "        ufr = 0.042\n",
    "        alpha = 0.05        \n",
    "\n",
    "        # For a single maturity\n",
    "        t = 5\n",
    "        price = P0t_f(t, m_obs, Qb, ufr, alpha)\n",
    "        print(f\"Price of zero-coupon bond with maturity {t} years is: {price}\")\n",
    "\n",
    "        # For multiple maturities\n",
    "        t = [1, 3, 5, 10]\n",
    "        prices = P0t_f(t, m_obs, Qb, ufr, alpha)\n",
    "        print(\"Prices of zero-coupon bonds with maturities\", t, \"years are:\")\n",
    "        print(prices)\n",
    "\n",
    "    Implemented by Gregor Fabjan from Open-Source Modelling on 29/07/2023\n",
    "    \"\"\"\n",
    "\n",
    "    if isinstance(t, np.ndarray): # If the input is a numpy array\n",
    "        y0t = sw_extrapolate(np.transpose(t), m_obs, Qb, ufr, alpha)\n",
    "        out = np.exp(-y0t*np.transpose(t)) \n",
    "    else:# If the input is a single maturity given as a number\n",
    "        y0t = sw_extrapolate(np.transpose([t]), m_obs, Qb, ufr, alpha)\n",
    "        out = np.exp(-y0t*[t]) \n",
    "    return out"
   ]
  },
  {
   "cell_type": "markdown",
   "id": "a8134f90",
   "metadata": {},
   "source": [
    " "
   ]
  },
  {
   "cell_type": "markdown",
   "id": "500b3874",
   "metadata": {},
   "source": [
    " "
   ]
  },
  {
   "cell_type": "markdown",
   "id": "61ad3ee1",
   "metadata": {},
   "source": [
    " "
   ]
  },
  {
   "cell_type": "markdown",
   "id": "4d2b4a2b",
   "metadata": {},
   "source": [
    " "
   ]
  },
  {
   "cell_type": "markdown",
   "id": "8ac6b55b",
   "metadata": {},
   "source": [
    "The function f0t() calculates the instantaneous forward rate at time `t` using a numerical approximation with a step size given by the parameter `epsilon`. The calculation of the instantaneous forward rate relies on the difference between two zero-coupon bond prices. One maturing at time $t +\\epsilon $ and another at time $t - \\epsilon $. \n"
   ]
  },
  {
   "cell_type": "markdown",
   "id": "b03afae4",
   "metadata": {},
   "source": [
    "\n",
    "The centered finite difference method estimates the instantaneous forward rate using the following approximation:\n",
    "\n",
    "$$ f(0,t) \\approx -\\frac{\\log(P(0, t+\\epsilon)) - \\log(P(0, t-\\epsilon)) }{2 \\epsilon}  $$"
   ]
  },
  {
   "cell_type": "code",
   "execution_count": 22,
   "id": "591a03e9",
   "metadata": {},
   "outputs": [],
   "source": [
    "def f0t(t, P0t, epsilon):\n",
    "    \"\"\"\n",
    "    Calculates the instantaneous forward rate for time t given the zero-coupon\n",
    "    bond price function P0t, using the centered finite difference method.\n",
    "    f0t(t, P0t, epsilon)\n",
    "\n",
    "    Args:\n",
    "        t (float): Time at which the instantaneous forward rate is calculated.\n",
    "        P0t (function): Function that takes a float argument `t` and \n",
    "            returns the price of a zero-coupon bondissued at time 0 with maturity `t` and\n",
    "            notional amount 1.\n",
    "        epsilon (float): Step size for the centered finite difference method.\n",
    "\n",
    "    Returns:\n",
    "        float: The instantaneous forward rate at time t, calculated using the \n",
    "            centered finite difference method.\n",
    "    \"\"\"\n",
    "    \n",
    "    p_plus = P0t(t + epsilon)\n",
    "    p_minus = P0t(t - epsilon)\n",
    "    return -(np.log(p_plus) - np.log(p_minus)) / (2 * epsilon)"
   ]
  },
  {
   "cell_type": "markdown",
   "id": "a47a8498",
   "metadata": {},
   "source": [
    "The function HW_theta calculates the time depened parameter $\\theta$. In this implementation, this parameter is calibrated to the term stucture obtained using the EIOPA RFR. The term structure is specified by the P0t function that is passed as argument.\n",
    "\n",
    "The parameter `theta` is calibrated using the following relation:\n",
    "\n",
    "$$ \\theta(t) =  \\frac{\\partial f(0,t)}{\\partial t} + a f(0,t) + \\frac{\\sigma^2}{2 a}\\big( 1 - e^{-2 a t} \\big)    $$\n",
    "\n",
    "Where:\n",
    " - `t` is the time at which we wish to calibrate $\\theta$ to the term structure. (Ex. 18 months means t = 1.5).\n",
    " - $a$ is the $ a$ parameter in the Hull-White model.\n",
    " - $\\sigma$ is the volatility parameter $ \\sigma$ of the Hull-White model.\n",
    " - $f(0,t)$ is the instantaneous forward rate at time `t` estimated at time 0.\n",
    " - $\\theta(t)$ is the time dependet parameter $\\theta$ of the Hull-White model."
   ]
  },
  {
   "cell_type": "code",
   "execution_count": 23,
   "id": "ee0622e6",
   "metadata": {},
   "outputs": [],
   "source": [
    "def HW_theta(a, sigma, P0t, eps):\n",
    "    \"\"\"\n",
    "    Calculates the theta value for the Hull-White model \n",
    "    using a numeric approximation of the instantaneous forward rate \n",
    "    and the spot rate.\n",
    "\n",
    "    Args:\n",
    "        a (float): Mean reversion rate parameter a.\n",
    "        sigma (float): Volatility parameter sigma.\n",
    "        P0t (function handle): Function that calculates the price of a\n",
    "            zero-coupon bond as a function of time.\n",
    "        eps (float): Increment of time used in the numeric calculation of the \n",
    "            derivative of the instantaneous forward rate.\n",
    "\n",
    "    Returns:\n",
    "        theta (function): Function that returns the parameter theta of \n",
    "            Hull-White model at the time t implied by the calibration.\n",
    "    \"\"\"\n",
    "    \n",
    "    def theta(t):\n",
    "        insta_forward_term = (f0t(t+eps, P0t, eps) \n",
    "                                         -f0t(t-eps,P0t,eps))/(2.0*eps)\n",
    "                                         \n",
    "        forward_term = a*f0t(t, P0t, eps)\n",
    "        variance_term = sigma**2/(2.0*a)*(1.0-np.exp(-2.0*a*t))\n",
    "        return insta_forward_term + forward_term + variance_term\n",
    "    return theta"
   ]
  },
  {
   "cell_type": "code",
   "execution_count": 24,
   "id": "4872b0d6",
   "metadata": {},
   "outputs": [],
   "source": [
    "def Paths(NoOfPaths, NoOfSteps, T, P0t, a, sigma, epsilon):\n",
    "    \"\"\"\n",
    "    Simulates a series of stochastic interest rate paths using the Hull-White model.\n",
    "\n",
    "    Args:\n",
    "        NoOfPaths (int): number of paths to simulate.\n",
    "        NoOfSteps (int): number of time steps per path.\n",
    "        T (float): end of the modelling window (in years). \n",
    "            (Ex. a modelling window of 50 years means T=50).\n",
    "        P0t (function): function that calculates the price of a \n",
    "            zero coupon bond issued at time 0 that matures at time t, with a\n",
    "            notional amount 1 and discounted using the assumed term structure.\n",
    "        a (float): mean reversion speed parameter a of \n",
    "            the Hull-White model.\n",
    "        sigma (float): volatility parameter sigma of the Hull-White model.\n",
    "        epsilon (float): size of the increment used for finite \n",
    "            difference approximation.\n",
    "\n",
    "    Returns:\n",
    "        dict: A dictionary containing arrays with time steps, interest rate paths, \n",
    "            and bond prices.\n",
    "            time (array): array of time steps.\n",
    "            R (array): array of interest rate paths with \n",
    "              shape (NoOfPaths, NoOfSteps+1).\n",
    "            M (array): array of bond prices with \n",
    "              shape (NoOfPaths, NoOfSteps+1).\n",
    "\n",
    "    Implemented by Gregor Fabjan from Open-Source Modelling on 29/07/2023.\n",
    "\n",
    "    Original inspiration: https://www.youtube.com/watch?v=BIZdwUDbnDo\n",
    "    \"\"\"       \n",
    "    \n",
    "    # Initial instantaneous forward rate at time t-> 0 (also spot rate at time 0).\n",
    "    # r(0) = f(0,0) = - partial derivative of log(P_mkt(0, epsilon) w.r.t epsilon)\n",
    "    r0 = f0t(epsilon, P0t, epsilon)\n",
    "    \n",
    "    # Calculation of theta = 1/a * partial derivative of f(0,t) w.r.t. t \n",
    "    # + f(0,t) + sigma^2/(2 a^2)* (1-exp(-2*a*t)).\n",
    "    theta = HW_theta(a, sigma, P0t, epsilon)\n",
    "    \n",
    "    # Generate the single source of random noise.\n",
    "    Z = np.random.normal(0.0, 1.0, [NoOfPaths, NoOfSteps])\n",
    "\n",
    "    # Initialize arrays\n",
    "    \n",
    "    # Vector of time moments.\n",
    "    time = np.linspace(0, T, NoOfSteps+1) \n",
    "    \n",
    "    W = np.zeros([NoOfPaths, NoOfSteps+1])\n",
    "    \n",
    "    # Initialize array with interest rate increments\n",
    "    R = np.zeros([NoOfPaths, NoOfSteps+1]) \n",
    "    \n",
    "    # First interest rate equals the instantaneous forward (spot) \n",
    "    # rate at time 0.\n",
    "    R[:, 0] = r0 \n",
    "    dt = T/float(NoOfSteps) # Size of increments between two steps\n",
    "    \n",
    "    for iTime in range(1, NoOfSteps+1): # For each time increment\n",
    "        # Making sure the samples from the normal distribution have a mean of 0 \n",
    "        # and variance 1\n",
    "        if NoOfPaths > 1:\n",
    "            Z[:, iTime-1] = (Z[:, iTime-1]-np.mean(Z[:, iTime-1]))/np.std(Z[:, iTime-1])\n",
    "            \n",
    "        # Apply the Euler-Maruyama discretisation scheme for the Hull-White model\n",
    "        # at each time increment.\n",
    "        W[:, iTime] = W[:, iTime-1] + np.power(dt, 0.5)*Z[:, iTime-1] \n",
    "        noise_term = sigma* (W[:, iTime]-W[:, iTime-1])\n",
    "        rate_term = (theta(time[iTime-1])-a*R[:, iTime-1])*dt\n",
    "        R[:, iTime] = R[:, iTime-1] + rate_term + noise_term\n",
    "    \n",
    "    # Vectorized numeric integration using the Euler integration method .\n",
    "    M = np.exp(-0.5 * (R[:, :-1] + R[:, 1:]) * dt) \n",
    "    M = np.insert(M, 0, 1, axis=1).cumprod(axis=1)\n",
    "    \n",
    "    # Output is a dataframe with time moment, the interest rate path and the price\n",
    "    # of a zero coupon bond issued at time 0 that matures at the selected time \n",
    "    # moment with a notional value of 1.\n",
    "    paths = {\"time\":time, \"R\":R, \"M\":M}\n",
    "    return paths"
   ]
  },
  {
   "cell_type": "markdown",
   "id": "577414a1",
   "metadata": {},
   "source": [
    "<a id=\"9\"></a> <br>\n",
    "## Test 1; Comparison between ESG output and assumed term structure \n",
    "\n",
    "In this final section, the ESG output is generated and visualy compared to the assumed term structure. The Hull-White model belongs to the family of modells known as HJM. A well known property of this family of models is that the average rate over all simulations should be equal to the input term structure by construction. However in practice, this is often not exactly the case especially in the tails of the curve and if the number of paths is small. The visual check shows the average simulation compared to the input term structure (interpolated/extrapolated by the Smith-Willson algorithm)."
   ]
  },
  {
   "cell_type": "code",
   "execution_count": 25,
   "id": "ccd515cd",
   "metadata": {},
   "outputs": [],
   "source": [
    "def mainCalculation(NoOfPaths, NoOfSteps, T, a, sigma, P0t, epsilon):\n",
    "    \"\"\"\n",
    "    Calculates and plots the prices of zero-coupon bonds (ZCB) calculated \n",
    "    using the Hull-White model`s analytical formula and the Monte Carlo simulation.\n",
    "    \n",
    "    Args:\n",
    "        NoOfPaths (int): number of Monte Carlo simulation paths.\n",
    "        NoOfSteps (int): number of time steps per path.\n",
    "        T (float): length in years of the modelling window (Ex. 50 years means t=50).\n",
    "        a (float): mean reversion rate parameter a of the Hull-White model.\n",
    "        sigma (float): volatility parameter sigma of the Hull-White model.\n",
    "        P0t (function): function that calculates the price of a zero coupon bond issued. \n",
    "           at time 0 that matures at time t, with a notional amount 1 and discounted using\n",
    "           the assumed term structure.\n",
    "        epsilon (float): the size of the increment  used for finite difference approximation.\n",
    "    \n",
    "    Returns:\n",
    "        t XXX: time increments.\n",
    "        P XXX: average of the sumulated paths.\n",
    "        implied_term_structure XXX: term structure provided as input into the HW simulation.\n",
    "    \"\"\"\n",
    " \n",
    "    paths = Paths(NoOfPaths, NoOfSteps, T, P0t, a, sigma, epsilon)\n",
    "    M = paths[\"M\"]\n",
    "    t = paths[\"time\"]\n",
    "    implied_term_structure = P0t(t)\n",
    "    # Compare the price of an option on a ZCB from Monte Carlo and the analytical expression\n",
    "    P = np.zeros([NoOfSteps+1])\n",
    "    for i in range(0, NoOfSteps+1):\n",
    "        P[i] = np.mean(M[:, i])\n",
    "    \n",
    "    return [t, P, implied_term_structure]"
   ]
  },
  {
   "cell_type": "code",
   "execution_count": 26,
   "id": "df0e68ad",
   "metadata": {},
   "outputs": [],
   "source": [
    "# Zero coupon bond prices calculated using the assumed term structure\n",
    "P0t = lambda t: P0t_f(t, m_obs, Qb, ufr, alpha)"
   ]
  },
  {
   "cell_type": "code",
   "execution_count": 27,
   "id": "000e6f24",
   "metadata": {},
   "outputs": [],
   "source": [
    "# Final comparison\n",
    "[t, P, implied_term_structure] = mainCalculation(NoOfPaths, NoOfSteps, T, a, sigma, P0t, epsilon)"
   ]
  },
  {
   "cell_type": "markdown",
   "id": "a2e3527e",
   "metadata": {},
   "source": [
    "***\n",
    "<span style=color:black>\n",
    "    <b>Implied and simulated price of a ZCB</b>\n",
    "</span>\n",
    "<br>\n",
    "<span style=color:black>   \n",
    "    Visual comparison\n",
    "</span>"
   ]
  },
  {
   "cell_type": "code",
   "execution_count": 28,
   "id": "510bfd54",
   "metadata": {},
   "outputs": [
    {
     "data": {
      "text/plain": [
       "Text(0.5, 1.0, 'ZCBs from Hull-White model')"
      ]
     },
     "execution_count": 28,
     "metadata": {},
     "output_type": "execute_result"
    },
    {
     "data": {
      "image/png": "[encoded data removed]",
      "text/plain": [
       "<Figure size 432x288 with 1 Axes>"
      ]
     },
     "metadata": {
      "needs_background": "light"
     },
     "output_type": "display_data"
    }
   ],
   "source": [
    "plt.figure(1)\n",
    "plt.grid()\n",
    "plt.xlabel(\"t\")\n",
    "plt.ylabel(\"P(0,t)\")\n",
    "plt.plot(t, implied_term_structure)\n",
    "plt.plot(t, P,\"--r\")\n",
    "plt.legend([\"P(0,t) market\", \"P(0,t) Monte Carlo\"])\n",
    "plt.title(\"ZCBs from Hull-White model\")"
   ]
  },
  {
   "cell_type": "markdown",
   "id": "b99378df",
   "metadata": {},
   "source": [
    "***"
   ]
  },
  {
   "cell_type": "code",
   "execution_count": 29,
   "id": "9d769ef7",
   "metadata": {},
   "outputs": [],
   "source": [
    "test_statistics_bdp_1 = pd.DataFrame(abs(P- implied_term_structure)*10000, columns=[\"Abs diff in bps\"])"
   ]
  },
  {
   "cell_type": "markdown",
   "id": "6c19bcd0",
   "metadata": {},
   "source": [
    "***\n",
    "<span style=color:black>\n",
    "    <b>Implied and simulated term structure</b>\n",
    "</span>\n",
    "<br>\n",
    "<span style=color:black>   \n",
    "    Absolute difference in bps\n",
    "</span>"
   ]
  },
  {
   "cell_type": "code",
   "execution_count": 30,
   "id": "c878316d",
   "metadata": {},
   "outputs": [
    {
     "data": {
      "text/html": [
       "<div>\n",
       "<style scoped>\n",
       "    .dataframe tbody tr th:only-of-type {\n",
       "        vertical-align: middle;\n",
       "    }\n",
       "\n",
       "    .dataframe tbody tr th {\n",
       "        vertical-align: top;\n",
       "    }\n",
       "\n",
       "    .dataframe thead th {\n",
       "        text-align: right;\n",
       "    }\n",
       "</style>\n",
       "<table border=\"1\" class=\"dataframe\">\n",
       "  <thead>\n",
       "    <tr style=\"text-align: right;\">\n",
       "      <th></th>\n",
       "      <th>Abs diff in bps</th>\n",
       "    </tr>\n",
       "  </thead>\n",
       "  <tbody>\n",
       "    <tr>\n",
       "      <th>0</th>\n",
       "      <td>2.220446e-12</td>\n",
       "    </tr>\n",
       "    <tr>\n",
       "      <th>1</th>\n",
       "      <td>3.006300e-03</td>\n",
       "    </tr>\n",
       "    <tr>\n",
       "      <th>2</th>\n",
       "      <td>1.528834e-02</td>\n",
       "    </tr>\n",
       "    <tr>\n",
       "      <th>3</th>\n",
       "      <td>3.678171e-02</td>\n",
       "    </tr>\n",
       "    <tr>\n",
       "      <th>4</th>\n",
       "      <td>6.747583e-02</td>\n",
       "    </tr>\n",
       "  </tbody>\n",
       "</table>\n",
       "</div>"
      ],
      "text/plain": [
       "   Abs diff in bps\n",
       "0     2.220446e-12\n",
       "1     3.006300e-03\n",
       "2     1.528834e-02\n",
       "3     3.678171e-02\n",
       "4     6.747583e-02"
      ]
     },
     "execution_count": 30,
     "metadata": {},
     "output_type": "execute_result"
    }
   ],
   "source": [
    "test_statistics_bdp_1.head()"
   ]
  },
  {
   "cell_type": "markdown",
   "id": "2ba10cde",
   "metadata": {},
   "source": [
    "***"
   ]
  },
  {
   "cell_type": "markdown",
   "id": "9727e479",
   "metadata": {},
   "source": [
    "### Test 1; Success criteria\n",
    "\n",
    "The successful application of the success criteria marks the completion/failiure of the test."
   ]
  },
  {
   "cell_type": "code",
   "execution_count": 31,
   "id": "86c6cb63",
   "metadata": {},
   "outputs": [
    {
     "name": "stdout",
     "output_type": "stream",
     "text": [
      "Test passed\n",
      "Test passed\n"
     ]
    }
   ],
   "source": [
    "result1 = SuccessTest(test_statistics_bdp_1.values, statistics_mean_max_diff_in_bps, statistics_mean_average_diff_in_bps)"
   ]
  },
  {
   "cell_type": "code",
   "execution_count": 32,
   "id": "e0fc7cf8",
   "metadata": {},
   "outputs": [
    {
     "data": {
      "image/png": "[encoded data removed]",
      "text/plain": [
       "<Figure size 432x216 with 1 Axes>"
      ]
     },
     "metadata": {
      "needs_background": "light"
     },
     "output_type": "display_data"
    }
   ],
   "source": [
    "fig, ax1 = plt.subplots(1,1)\n",
    "ax1.plot(t, test_statistics_bdp_1, label= \"Absolute difference\")\n",
    "ax1.axhline(y = statistics_mean_max_diff_in_bps, color = 'r', linestyle = '-',label=\"Max allowed diff\")\n",
    "\n",
    "ax1.set_xlabel(\"time\")\n",
    "ax1.set_ylabel(\"Difference (in bps)\")\n",
    "ax1.set_title('Absolute difference in term structure')\n",
    "ax1.legend()\n",
    "fig.set_figwidth(6)\n",
    "fig.set_figheight(3)\n",
    "\n",
    "plt.show()"
   ]
  },
  {
   "cell_type": "markdown",
   "id": "982edefa",
   "metadata": {},
   "source": [
    "<a id=\"10\"></a> <br>\n",
    "\n",
    "## Test 2; Comparison between simulated an calculated volatility\n",
    "\n",
    "The Hull-White model is one of the few widely used short rate models that has a closed-form formula for the calculation of the volatility. The formula is:\n",
    "\n",
    "$$ V[r(t)｜F_0] = \\frac{\\sigma^2}{2a}\\big( 1-e^{-2at} \\big) $$\n",
    "\n",
    "This fact makes it possible to compare the volatility calculated from the parameters with the simulated volatility. \n"
   ]
  },
  {
   "cell_type": "code",
   "execution_count": 33,
   "id": "2b97115c",
   "metadata": {},
   "outputs": [],
   "source": [
    "paths = Paths(NoOfPaths, NoOfSteps, T, P0t, a, sigma, epsilon)\n",
    "R = paths[\"R\"]\n",
    "t = paths[\"time\"]"
   ]
  },
  {
   "cell_type": "code",
   "execution_count": 34,
   "id": "5aa1e3f8",
   "metadata": {},
   "outputs": [],
   "source": [
    "time = np.linspace(start=0,stop=T,num=NoOfSteps+1, endpoint=True)"
   ]
  },
  {
   "cell_type": "code",
   "execution_count": 35,
   "id": "21b4c1b2",
   "metadata": {},
   "outputs": [],
   "source": [
    "var_series = np.var(R, axis=0)"
   ]
  },
  {
   "cell_type": "code",
   "execution_count": 36,
   "id": "81f48648",
   "metadata": {},
   "outputs": [],
   "source": [
    "vol = sigma**2/(2*a)*(1-np.exp(-2*a*time))"
   ]
  },
  {
   "cell_type": "code",
   "execution_count": 37,
   "id": "23a0caa8",
   "metadata": {},
   "outputs": [
    {
     "data": {
      "text/plain": [
       "Text(0.5, 1.0, 'Variance function from Hull-White model')"
      ]
     },
     "execution_count": 37,
     "metadata": {},
     "output_type": "execute_result"
    },
    {
     "data": {
      "image/png": "[encoded data removed]",
      "text/plain": [
       "<Figure size 432x288 with 1 Axes>"
      ]
     },
     "metadata": {
      "needs_background": "light"
     },
     "output_type": "display_data"
    }
   ],
   "source": [
    "plt.figure(1)\n",
    "plt.grid()\n",
    "plt.xlabel(\"t\")\n",
    "plt.ylabel(\"V(0,t)\")\n",
    "plt.plot(t,var_series)\n",
    "plt.plot(t,vol,\"--r\")\n",
    "plt.legend([\"V(0,t) simulated\", \"V(0,T) closed formula\"])\n",
    "plt.title(\"Variance function from Hull-White model\")"
   ]
  },
  {
   "cell_type": "code",
   "execution_count": 38,
   "id": "d1c5d37f",
   "metadata": {},
   "outputs": [],
   "source": [
    "test_statistics_bdp_2 = pd.DataFrame(abs(var_series-vol)*10000, columns=[\"Abs diff in bps\"])"
   ]
  },
  {
   "cell_type": "markdown",
   "id": "5345b610",
   "metadata": {},
   "source": [
    "***"
   ]
  },
  {
   "cell_type": "markdown",
   "id": "46a1be21",
   "metadata": {},
   "source": [
    "***\n",
    "<span style=color:black>\n",
    "    <b>Theoretical and simulated volatility</b>\n",
    "</span>\n",
    "<br>\n",
    "<span style=color:black>   \n",
    "    Absolute difference in bps\n",
    "</span>"
   ]
  },
  {
   "cell_type": "code",
   "execution_count": 39,
   "id": "0eb1eaa8",
   "metadata": {},
   "outputs": [
    {
     "data": {
      "text/html": [
       "<div>\n",
       "<style scoped>\n",
       "    .dataframe tbody tr th:only-of-type {\n",
       "        vertical-align: middle;\n",
       "    }\n",
       "\n",
       "    .dataframe tbody tr th {\n",
       "        vertical-align: top;\n",
       "    }\n",
       "\n",
       "    .dataframe thead th {\n",
       "        text-align: right;\n",
       "    }\n",
       "</style>\n",
       "<table border=\"1\" class=\"dataframe\">\n",
       "  <thead>\n",
       "    <tr style=\"text-align: right;\">\n",
       "      <th></th>\n",
       "      <th>Abs diff in bps</th>\n",
       "    </tr>\n",
       "  </thead>\n",
       "  <tbody>\n",
       "    <tr>\n",
       "      <th>0</th>\n",
       "      <td>1.302904e-24</td>\n",
       "    </tr>\n",
       "    <tr>\n",
       "      <th>1</th>\n",
       "      <td>5.549388e-04</td>\n",
       "    </tr>\n",
       "    <tr>\n",
       "      <th>2</th>\n",
       "      <td>8.896989e-03</td>\n",
       "    </tr>\n",
       "    <tr>\n",
       "      <th>3</th>\n",
       "      <td>1.328121e-02</td>\n",
       "    </tr>\n",
       "    <tr>\n",
       "      <th>4</th>\n",
       "      <td>1.487104e-02</td>\n",
       "    </tr>\n",
       "  </tbody>\n",
       "</table>\n",
       "</div>"
      ],
      "text/plain": [
       "   Abs diff in bps\n",
       "0     1.302904e-24\n",
       "1     5.549388e-04\n",
       "2     8.896989e-03\n",
       "3     1.328121e-02\n",
       "4     1.487104e-02"
      ]
     },
     "execution_count": 39,
     "metadata": {},
     "output_type": "execute_result"
    }
   ],
   "source": [
    "test_statistics_bdp_2.head()"
   ]
  },
  {
   "cell_type": "markdown",
   "id": "61a213c5",
   "metadata": {},
   "source": [
    "***"
   ]
  },
  {
   "cell_type": "markdown",
   "id": "b8536ad3",
   "metadata": {},
   "source": [
    "### Test 2; Success criteria\n",
    "\n",
    "The successful application of the success criteria marks the completion/failiure of the test."
   ]
  },
  {
   "cell_type": "code",
   "execution_count": 40,
   "id": "1c26a1b4",
   "metadata": {},
   "outputs": [
    {
     "name": "stdout",
     "output_type": "stream",
     "text": [
      "Test passed\n",
      "Test passed\n"
     ]
    }
   ],
   "source": [
    "result2 = SuccessTest(test_statistics_bdp_2.values, statistics_vol_max_diff_in_bps, statistics_vol_average_diff_in_bps)"
   ]
  },
  {
   "cell_type": "code",
   "execution_count": 41,
   "id": "7051448d",
   "metadata": {},
   "outputs": [
    {
     "data": {
      "image/png": "[encoded data removed]",
      "text/plain": [
       "<Figure size 432x216 with 1 Axes>"
      ]
     },
     "metadata": {
      "needs_background": "light"
     },
     "output_type": "display_data"
    }
   ],
   "source": [
    "fig, ax1 = plt.subplots(1,1)\n",
    "ax1.plot(t, test_statistics_bdp_2, label= \"Absolute difference\")\n",
    "ax1.axhline(y = statistics_vol_max_diff_in_bps, color = 'r', linestyle = '-',label=\"Max allowed diff\")\n",
    "\n",
    "ax1.set_xlabel(\"time\")\n",
    "ax1.set_ylabel(\"Difference (in bps)\")\n",
    "ax1.set_title('Absolute difference in volatility')\n",
    "ax1.legend()\n",
    "fig.set_figwidth(6)\n",
    "fig.set_figheight(3)\n",
    "\n",
    "plt.show()"
   ]
  },
  {
   "cell_type": "markdown",
   "id": "d9a21900",
   "metadata": {},
   "source": [
    "<a id=\"11\"></a> <br>\n",
    "## Conclusion\n",
    "\n",
    "The tests are successfull if the Hull-White curve generator calibrated using the March 2023 EIOPA curve, passes the success criteria. Based on the preformed tests, if all the tests pass, it is likely that the implementation was generated using a correct methodology and ran using the correct parameters."
   ]
  },
  {
   "cell_type": "code",
   "execution_count": 42,
   "id": "043dbe75",
   "metadata": {},
   "outputs": [
    {
     "data": {
      "text/html": [
       "<div>\n",
       "<style scoped>\n",
       "    .dataframe tbody tr th:only-of-type {\n",
       "        vertical-align: middle;\n",
       "    }\n",
       "\n",
       "    .dataframe tbody tr th {\n",
       "        vertical-align: top;\n",
       "    }\n",
       "\n",
       "    .dataframe thead th {\n",
       "        text-align: right;\n",
       "    }\n",
       "</style>\n",
       "<table border=\"1\" class=\"dataframe\">\n",
       "  <thead>\n",
       "    <tr style=\"text-align: right;\">\n",
       "      <th></th>\n",
       "      <th>Mean test</th>\n",
       "      <th>Max test</th>\n",
       "    </tr>\n",
       "  </thead>\n",
       "  <tbody>\n",
       "    <tr>\n",
       "      <th>Average term structure</th>\n",
       "      <td>True</td>\n",
       "      <td>True</td>\n",
       "    </tr>\n",
       "    <tr>\n",
       "      <th>Theoretical vs empirical volatility</th>\n",
       "      <td>True</td>\n",
       "      <td>True</td>\n",
       "    </tr>\n",
       "  </tbody>\n",
       "</table>\n",
       "</div>"
      ],
      "text/plain": [
       "                                     Mean test  Max test\n",
       "Average term structure                    True      True\n",
       "Theoretical vs empirical volatility       True      True"
      ]
     },
     "execution_count": 42,
     "metadata": {},
     "output_type": "execute_result"
    }
   ],
   "source": [
    "pd.DataFrame(data = [result1, result2], columns = [\"Mean test\",\"Max test\"],  \\\n",
    "             index= [\"Average term structure\",\"Theoretical vs empirical volatility\"])"
   ]
  }
 ],
 "metadata": {
  "kernelspec": {
   "display_name": "Python 3 (ipykernel)",
   "language": "python",
   "name": "python3"
  },
  "language_info": {
   "codemirror_mode": {
    "name": "ipython",
    "version": 3
   },
   "file_extension": ".py",
   "mimetype": "text/x-python",
   "name": "python",
   "nbconvert_exporter": "python",
   "pygments_lexer": "ipython3",
   "version": "3.9.7"
  }
 },
 "nbformat": 4,
 "nbformat_minor": 5
}
